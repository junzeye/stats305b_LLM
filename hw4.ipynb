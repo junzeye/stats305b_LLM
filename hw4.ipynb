{
  "cells": [
    {
      "cell_type": "markdown",
      "metadata": {
        "id": "view-in-github",
        "colab_type": "text"
      },
      "source": [
        "<a href=\"https://colab.research.google.com/github/junzeye/stats305b_LLM/blob/main/hw4.ipynb\" target=\"_parent\"><img src=\"https://colab.research.google.com/assets/colab-badge.svg\" alt=\"Open In Colab\"/></a>"
      ]
    },
    {
      "cell_type": "markdown",
      "metadata": {
        "id": "ISL7lGbExVbF"
      },
      "source": [
        "# HW4: Large Language Models\n",
        "\n",
        "The first half of this assignment (Parts 0 and 1) will review some key ingredients of sequence modeling. In the process, we will build a baseline transformer model for next token prediction in code.\n",
        "**The deliverable will be completing the questions posed in part 0 and part 1.**\n",
        "\n",
        "The second half of the assignment (Part 2) will be an open-ended mini-project where you have the freedom to delve more deeply into language modelling (where the language in question is python code). Further instructions are in _Part 2: Mini-project_. But, in general, you should feel free to try other architectures (HMMs, RNNs, transformers, state space layers, diffusion models etc.) or to invent new architectures. The goal will be to find some area of possible improvement (we interpret \"improvement\" quite loosely, but it is up to you to state precisely in what sense your proposed innovation might constitute an improvement and to show convincing evidence that your innovation does or does not constitue an improvement according to your definition); to formulate and state a precise hypothesis; and to falsify or support the hypothesis with rigorous empirical analyses.\n",
        "**The deliverable will be a report of no more than 4 pages (references not included in the page limit).**\n",
        "\n",
        "**For this final assignment you have the option to work in pairs.**\n",
        "\n",
        "\n",
        "> **<u>This Assignment</u>**\n",
        ">\n",
        ">**Model:** You will begin by implementing a baseline using attention and transformers. But, for the mini-project, you will be free to use any model (HMMs, RNNs, transformers, state space layers, diffusion models etc.) that you would like!\n",
        ">\n",
        ">**Algorithm:** mini-batched stochatic gradient descent / whatever you'd like! We will be using deep learning models in at least the first half of the assignment, so be sure to **use the GPU on colab** (make sure you switch to GPU in the \"Runtime\" tab above).\n",
        ">\n",
        ">**Data**: A large corpus of python code from [the Stack](https://huggingface.co/datasets/bigcode/the-stack-dedup). We have taken a dataset of around 4 million tokens from the stack and stored in a csv file for you for easy access."
      ]
    },
    {
      "cell_type": "markdown",
      "metadata": {
        "id": "qZ-AwbZ4ySCJ"
      },
      "source": [
        "## Setup"
      ]
    },
    {
      "cell_type": "code",
      "execution_count": 1,
      "metadata": {
        "id": "Xd4fRbWr15Yp"
      },
      "outputs": [],
      "source": [
        "# can take around 30s\n",
        "%%capture\n",
        "! pip install datasets #huggingface datasets library\n",
        "! pip install --upgrade pyarrow"
      ]
    },
    {
      "cell_type": "code",
      "execution_count": 2,
      "metadata": {
        "id": "_5IXGh6OOBZV"
      },
      "outputs": [],
      "source": [
        "# torch imports\n",
        "import torch\n",
        "import torch.nn as nn\n",
        "import torch.nn.functional as F\n",
        "import torch.optim as optim\n",
        "\n",
        "# hugging face imports\n",
        "from datasets import load_dataset\n",
        "from transformers import AutoTokenizer\n",
        "\n",
        "import matplotlib.pyplot as plt\n",
        "from tqdm import tqdm\n",
        "\n",
        "import pandas as pd\n",
        "import sys\n",
        "import warnings\n",
        "\n",
        "torch.manual_seed(305)\n",
        "\n",
        "device = 'cuda' if torch.cuda.is_available() else 'cpu'\n",
        "# assert device=='cuda', \"you need to change runtime type to GPU\""
      ]
    },
    {
      "cell_type": "code",
      "execution_count": 3,
      "metadata": {
        "id": "A_Z5Jh74DH_E"
      },
      "outputs": [],
      "source": [
        "# hyperparams and helper functions\n",
        "SMALL_ITERS = 1000\n",
        "LARGE_ITERS = 2000\n",
        "context_window_size = 256\n",
        "chunk_size = 512 # BERT can only take max input size 512 characters\n",
        "\n",
        "def chunk_string(string, size):\n",
        "    \"\"\"\n",
        "    Splits a string into chunks of a specified size.\n",
        "\n",
        "    :param string: The string to be chunked.\n",
        "    :param size: The desired chunk size.\n",
        "    :return: A list of string chunks.\n",
        "    \"\"\"\n",
        "    return [string[i:i+size] for i in range(0, len(string), size)]"
      ]
    },
    {
      "cell_type": "markdown",
      "metadata": {
        "id": "lF6dgHnhOprg"
      },
      "source": [
        "## Part 0: Preprocessing\n",
        "\n",
        "As in the previous problem sets, a certain amount of preprocessing for textual data is required."
      ]
    },
    {
      "cell_type": "markdown",
      "metadata": {
        "id": "WF0_bhXNOxeS"
      },
      "source": [
        "### 0.1: Loading the dataset\n",
        "\n",
        "The first step is to actually download the dataset. We will be using a dataset on [huggingface](https://huggingface.co/). You can think of hugging face as the sklearn of deep learning.\n",
        "\n",
        "The dominant mode for preprocessing textual data is to tokenize it, that is, to split the dataset into a finite vocabulary of tokens. Then, we can set up a dictionary where counting numbers map to tokens. Tokens can be characters, or words, or subwords; in fact, the \"best\" way to tokenize text is an active area of research. For our baseline, we will use a tokenizer that microsoft created for code."
      ]
    },
    {
      "cell_type": "code",
      "execution_count": 4,
      "metadata": {
        "id": "53dGz7ExDkUv",
        "colab": {
          "base_uri": "https://localhost:8080/",
          "height": 304,
          "referenced_widgets": [
            "d4268cd10d554a22b31038d421c7a9e5",
            "3eeeba545c7d4486b22c694f31840d54",
            "3c2121c0fcd5483e8ed5e7f40f57a518",
            "60f6a20343374b07a0ae5ede3688558f",
            "c95afedb287c47598fd7d4cf3b4111ba",
            "0ba8a70ee3ff4f41a6aeed2607ef53d7",
            "8a49d929c3f34e3fa4c60d5f6623b6f8",
            "163cef04b6fa447cb94d32430203b436",
            "7e09b516e8d6496ca83d8efc3673f2fb",
            "db413cd9d444459d9fb6a5692fb14174",
            "075f72bbc5394e7c9c4b7b9b801adc08",
            "103a5b9848984592862e4b555b0efbaf",
            "1cb99ca73bba4554aa696d0c1fcf6e4c",
            "8be6fb33bc0e4f3d9567dcfd4deef08b",
            "33d0f5b51ad641cb8ca7bb65b6f9ff56",
            "54d51549f62f40d5826eaa0026e9073f",
            "bf0e74b7c6a04a32a5fa20e6e09a07cb",
            "0098ffa0f5ca40f889b5db0710a9ef49",
            "a12319ae69d246029993e5e0ed4c32fb",
            "0be090d8fe484710a419c09dd8716b78",
            "7e37032aa2fd4ad1a7dd056a14dd6193",
            "233318987de640c688bfc1ab2fb0d76a",
            "3a55e1aa23d34deeb7cd23143d6f5195",
            "638173881761435d893e4250bf59866b",
            "2e91861aaf274ce595079544fe631ef9",
            "1e939327696a4319a609cc866e34766c",
            "58f65771dbba44afa40966c80b89b11d",
            "b56cd7b14d2b42de8a853e2e601f4e2f",
            "1f1895d006b44b72bc7536e68558d45c",
            "b0c7754240bd4ab0b75d0030281a1576",
            "0f00d72556d949ed88c4ad3a7b48f11f",
            "debc602a88f5496eb9a7ab04a2493a59",
            "9bf7ab4a0a654fa795b4f65d71a0ab64",
            "f284b2cbeb4840469982ac0f433c249c",
            "d8acee6dd6164f36b50637e1924feaac",
            "07a6681f7d1242c78b3f40de55e33302",
            "33f7c40289d447559252f3397f9c48e6",
            "503adfc82c9f49549404f63fb420f108",
            "529f7c4156094db183b391ad8af42102",
            "0b267ffe059c4d70bf04a859664b45e8",
            "ba7124ce57a145d19e24e867d207a58f",
            "5107944089b34f57a70ddd0723e30725",
            "8126ba06df4044a18cee576ecfdd3285",
            "2e49877125bc40c2a0fd72c8099608f7",
            "489b6468d54c4d8690570602621f9e2e",
            "b29169776b9844d7921709e3e9562d24",
            "7f5a3eff43774fcd941bd2b62626cec9",
            "dd9b485ce98343c9a145c09ba46339c3",
            "5f0a517efe8e40a3beebd76a258793dc",
            "5b7888c177e14110bf21b044231b3dab",
            "2313f954e29e46a5a8777e88563a5e9e",
            "7c93de84782d4c5e81b408a57663bf6d",
            "816ed4dd3a9a4a2babddc5a6af5d2489",
            "306ea42e839442b2ae15407696f529b6",
            "2561ffdf9ac14f36890d578e7a44dc0f"
          ]
        },
        "outputId": "de915470-c183-4644-f3a9-5e3960247cc3"
      },
      "outputs": [
        {
          "output_type": "stream",
          "name": "stderr",
          "text": [
            "/usr/local/lib/python3.10/dist-packages/huggingface_hub/utils/_token.py:88: UserWarning: \n",
            "The secret `HF_TOKEN` does not exist in your Colab secrets.\n",
            "To authenticate with the Hugging Face Hub, create a token in your settings tab (https://huggingface.co/settings/tokens), set it as secret in your Google Colab and restart your session.\n",
            "You will be able to reuse this secret in all of your notebooks.\n",
            "Please note that authentication is recommended but still optional to access public models or datasets.\n",
            "  warnings.warn(\n"
          ]
        },
        {
          "output_type": "display_data",
          "data": {
            "text/plain": [
              "tokenizer_config.json:   0%|          | 0.00/25.0 [00:00<?, ?B/s]"
            ],
            "application/vnd.jupyter.widget-view+json": {
              "version_major": 2,
              "version_minor": 0,
              "model_id": "d4268cd10d554a22b31038d421c7a9e5"
            }
          },
          "metadata": {}
        },
        {
          "output_type": "display_data",
          "data": {
            "text/plain": [
              "config.json:   0%|          | 0.00/498 [00:00<?, ?B/s]"
            ],
            "application/vnd.jupyter.widget-view+json": {
              "version_major": 2,
              "version_minor": 0,
              "model_id": "103a5b9848984592862e4b555b0efbaf"
            }
          },
          "metadata": {}
        },
        {
          "output_type": "display_data",
          "data": {
            "text/plain": [
              "vocab.json:   0%|          | 0.00/899k [00:00<?, ?B/s]"
            ],
            "application/vnd.jupyter.widget-view+json": {
              "version_major": 2,
              "version_minor": 0,
              "model_id": "3a55e1aa23d34deeb7cd23143d6f5195"
            }
          },
          "metadata": {}
        },
        {
          "output_type": "display_data",
          "data": {
            "text/plain": [
              "merges.txt:   0%|          | 0.00/456k [00:00<?, ?B/s]"
            ],
            "application/vnd.jupyter.widget-view+json": {
              "version_major": 2,
              "version_minor": 0,
              "model_id": "f284b2cbeb4840469982ac0f433c249c"
            }
          },
          "metadata": {}
        },
        {
          "output_type": "display_data",
          "data": {
            "text/plain": [
              "special_tokens_map.json:   0%|          | 0.00/150 [00:00<?, ?B/s]"
            ],
            "application/vnd.jupyter.widget-view+json": {
              "version_major": 2,
              "version_minor": 0,
              "model_id": "489b6468d54c4d8690570602621f9e2e"
            }
          },
          "metadata": {}
        }
      ],
      "source": [
        "tokenizer = AutoTokenizer.from_pretrained('microsoft/CodeBERT-base')"
      ]
    },
    {
      "cell_type": "code",
      "execution_count": 5,
      "metadata": {
        "id": "BAdrvcIbORig"
      },
      "outputs": [],
      "source": [
        "# Load the concatenated data\n",
        "raw_data = pd.read_csv(\"https://raw.githubusercontent.com/slinderman/stats305b/winter2024/assignments/hw4/python_corpus_4M.csv\", header=None)"
      ]
    },
    {
      "cell_type": "code",
      "execution_count": 6,
      "metadata": {
        "id": "LFZ2or4BO2w3",
        "colab": {
          "base_uri": "https://localhost:8080/"
        },
        "outputId": "6a01a466-7ffe-45ad-c565-bc899247466d"
      },
      "outputs": [
        {
          "output_type": "stream",
          "name": "stderr",
          "text": [
            "Token indices sequence length is longer than the specified maximum sequence length for this model (523 > 512). Running this sequence through the model will result in indexing errors\n"
          ]
        },
        {
          "output_type": "stream",
          "name": "stdout",
          "text": [
            "4000596 tokens have been loaded in\n"
          ]
        }
      ],
      "source": [
        "# should take around 3 min to load in around 4M tokens\n",
        "warnings.filterwarnings(\"ignore\")\n",
        "\n",
        "tokens = torch.tensor([], dtype=torch.long)\n",
        "for index, row in raw_data.iterrows():\n",
        "    text = row[0]\n",
        "    chunks = chunk_string(text, chunk_size)\n",
        "    n = len(chunks)\n",
        "    for idx, chunk in enumerate(chunks):\n",
        "        new_tokens = torch.tensor(tokenizer.encode(chunk, add_special_tokens=True))\n",
        "\n",
        "        # logic to avoid incorrectly adding in start and end sequence tokens as an artifact of chunking\n",
        "        if idx == 0:\n",
        "            tokens = torch.cat((tokens, new_tokens[:-1]), dim=0)\n",
        "        elif idx == n-1:\n",
        "            tokens = torch.cat((tokens, new_tokens[1:]), dim=0)\n",
        "        else:\n",
        "            tokens = torch.cat((tokens, new_tokens[1:-1]), dim=0)\n",
        "\n",
        "print(f\"{len(tokens)} tokens have been loaded in\")"
      ]
    },
    {
      "cell_type": "markdown",
      "metadata": {
        "id": "NUnScCoUCRI0"
      },
      "source": [
        "### Question 0.2: Examining the tokenizer"
      ]
    },
    {
      "cell_type": "markdown",
      "metadata": {
        "id": "3rz0XmuXCdGJ"
      },
      "source": [
        "Let's see what the tokens look like! We will use these two prompts during the assignment."
      ]
    },
    {
      "cell_type": "code",
      "execution_count": 7,
      "metadata": {
        "id": "KPbmLgmmChVg"
      },
      "outputs": [],
      "source": [
        "prompt_1_text = \\\n",
        "\"\"\"def newton(eta, N, X, y, gamma, beta=None):\n",
        "  \\\"\"\"\n",
        "  Performs Newton's method on the negative average log likelihood with an\n",
        "  l2 regularization term\n",
        "\n",
        "  beta: torch.Tensor, of shape (teams)\n",
        "  X: torch.Tensor, the covariate matrix, of shape (-1, teams)\n",
        "  y: torch.Tensor, the response vector, of shape (teams)\n",
        "  gamma: float, the scale parameter for the regularization\n",
        "  beta: torch.Tensor, the starting point for gradient descent, if specified\n",
        "  \\\"\"\"\n",
        "\n",
        "  if beta is None:\n",
        "    # Instantiate the beta vector at a random point\n",
        "    beta = torch.randn(X.shape[1])\n",
        "  else:\n",
        "    beta = torch.clone(beta)\n",
        "\n",
        "  loss = []\n",
        "\n",
        "  # Instantiate a list to store the loss throughout the gradient descent\n",
        "  # path\n",
        "  for i in tqdm(range(N)):\"\"\""
      ]
    },
    {
      "cell_type": "code",
      "execution_count": 8,
      "metadata": {
        "id": "gZpeZjvqCnmH"
      },
      "outputs": [],
      "source": [
        "prompt_2_text = \\\n",
        "\"\"\"import torch\n",
        "import torch.nn.functional as F\n",
        "\n",
        "\n",
        "def normalize(x, axis=-1):\n",
        "    \\\"\"\"Performs L2-Norm.\\\"\"\"\n",
        "    num = x\n",
        "    denom = torch.norm(x, 2, axis, keepdim=True).expand_as(x) + 1e-12\n",
        "    return num / denom\n",
        "\n",
        "def euclidean_dist(x, y):\n",
        "    \\\"\"\"Computes Euclidean distance.\\\"\"\"\n",
        "    m, n = x.size(0), y.size(0)\n",
        "    xx = torch.pow(x, 2).sum(1, keepdim=True).expand(m, n)\n",
        "    yy = torch.pow(x, 2).sum(1, keepdim=True).expand(m, m).t()\n",
        "    dist = xx + yy - 2 * torch.matmul(x, y.t())\n",
        "\n",
        "    dist = dist.clamp(min=1e-12).sqrt()\n",
        "\n",
        "    return dist\n",
        "\n",
        "\n",
        "def cosine_dist(x, y):\"\"\""
      ]
    },
    {
      "cell_type": "markdown",
      "metadata": {
        "id": "jFZUT77rCp3q"
      },
      "source": [
        "Here is what the tokenized output for the prompts looks like"
      ]
    },
    {
      "cell_type": "code",
      "execution_count": 9,
      "metadata": {
        "id": "-8rJjbTKCtRa",
        "colab": {
          "base_uri": "https://localhost:8080/",
          "height": 160
        },
        "outputId": "fce0709d-4ddf-4ee0-f79d-3ec52ede2653"
      },
      "outputs": [
        {
          "output_type": "execute_result",
          "data": {
            "text/plain": [
              "'<s>def newton(eta, N, X, y, gamma, beta=None):\\n  \"\"\"\\n  Performs Newton\\'s method on the negative average log likelihood with an\\n  l2 regularization term\\n\\n  beta: torch.Tensor, of shape (teams)\\n  X: torch.Tensor, the covariate matrix, of shape (-1, teams)\\n  y: torch.Tensor, the response vector, of shape (teams)\\n  gamma: float, the scale parameter for the regularization\\n  beta: torch.Tensor, the starting point for gradient descent, if specified\\n  \"\"\"\\n\\n  if beta is None:\\n    # Instantiate the beta vector at a random point\\n    beta = torch.randn(X.shape[1])\\n  else:\\n    beta = torch.clone(beta)\\n\\n  loss = []\\n\\n  # Instantiate a list to store the loss throughout the gradient descent\\n  # path\\n  for i in tqdm(range(N)):</s>'"
            ],
            "application/vnd.google.colaboratory.intrinsic+json": {
              "type": "string"
            }
          },
          "metadata": {},
          "execution_count": 9
        }
      ],
      "source": [
        "tokenizer.decode(tokenizer.encode(prompt_1_text))"
      ]
    },
    {
      "cell_type": "code",
      "execution_count": 10,
      "metadata": {
        "id": "a4zd13L0CvQ9",
        "colab": {
          "base_uri": "https://localhost:8080/",
          "height": 125
        },
        "outputId": "3d04e41c-c64b-437a-9480-0a99006af02d"
      },
      "outputs": [
        {
          "output_type": "execute_result",
          "data": {
            "text/plain": [
              "'<s>import torch\\nimport torch.nn.functional as F\\n\\n\\ndef normalize(x, axis=-1):\\n    \"\"\"Performs L2-Norm.\"\"\"\\n    num = x\\n    denom = torch.norm(x, 2, axis, keepdim=True).expand_as(x) + 1e-12\\n    return num / denom\\n\\ndef euclidean_dist(x, y):\\n    \"\"\"Computes Euclidean distance.\"\"\"\\n    m, n = x.size(0), y.size(0)\\n    xx = torch.pow(x, 2).sum(1, keepdim=True).expand(m, n)\\n    yy = torch.pow(x, 2).sum(1, keepdim=True).expand(m, m).t()\\n    dist = xx + yy - 2 * torch.matmul(x, y.t())\\n\\n    dist = dist.clamp(min=1e-12).sqrt()\\n\\n    return dist\\n\\n\\ndef cosine_dist(x, y):</s>'"
            ],
            "application/vnd.google.colaboratory.intrinsic+json": {
              "type": "string"
            }
          },
          "metadata": {},
          "execution_count": 10
        }
      ],
      "source": [
        "tokenizer.decode(tokenizer.encode(prompt_2_text))"
      ]
    },
    {
      "cell_type": "markdown",
      "metadata": {
        "id": "bbOwt9U_CyNi"
      },
      "source": [
        "And here are what the first and last 10 tokens for prompt 1 look like:"
      ]
    },
    {
      "cell_type": "code",
      "execution_count": 11,
      "metadata": {
        "id": "nqBUhCiUC6Tk",
        "colab": {
          "base_uri": "https://localhost:8080/"
        },
        "outputId": "9f9f60d5-c7f4-429c-8ab3-fb41c462f047"
      },
      "outputs": [
        {
          "output_type": "stream",
          "name": "stdout",
          "text": [
            "0 : <s>\n",
            "9232 : def\n",
            "92 :  new\n",
            "1054 : ton\n",
            "1640 : (\n",
            "8152 : eta\n",
            "6 : ,\n",
            "234 :  N\n",
            "6 : ,\n",
            "1577 :  X\n"
          ]
        }
      ],
      "source": [
        "for tok in tokenizer.encode(prompt_1_text, add_special_tokens=True)[:10]:\n",
        "    print(f\"{tok} : {tokenizer.decode([tok])}\")"
      ]
    },
    {
      "cell_type": "code",
      "execution_count": 12,
      "metadata": {
        "id": "UHpBvaxzC7hd",
        "colab": {
          "base_uri": "https://localhost:8080/"
        },
        "outputId": "19934fc8-bcb0-44aa-cfa5-f28d284b379f"
      },
      "outputs": [
        {
          "output_type": "stream",
          "name": "stdout",
          "text": [
            "326 :  t\n",
            "1343 : q\n",
            "43604 : dm\n",
            "1640 : (\n",
            "9435 : range\n",
            "1640 : (\n",
            "487 : N\n",
            "43 : )\n",
            "3256 : ):\n",
            "2 : </s>\n"
          ]
        }
      ],
      "source": [
        "for tok in tokenizer.encode(prompt_1_text)[-10:]:\n",
        "    print(f\"{tok} : {tokenizer.decode([tok])}\")"
      ]
    },
    {
      "cell_type": "markdown",
      "metadata": {
        "id": "MrBJPZYYC9za"
      },
      "source": [
        "**Question 0.2**: What is the meanining of the `<s>` and the `<\\s>` tokens? Why is it useful to have them?"
      ]
    },
    {
      "cell_type": "markdown",
      "source": [
        "**Answer:** The \\<s> and \\</s> tokens are special markers used in the context of language model training and processing to indicate the beginning and end of a sentence or text sequence, respectively. This is crucial for models to understand where a sentence or a coherent piece of text begins and ends, especially when processing multiple sentences or paragraphs in a single input. In addition, these tokens can signal different stages of processing or be used to trigger specific behaviors. For instance, in sequence-to-sequence models, the \\<s> token might signal the start of a generation task, while \\</s> indicates that the model should stop generating further text."
      ],
      "metadata": {
        "id": "VFUjm1Em6cON"
      }
    },
    {
      "cell_type": "markdown",
      "metadata": {
        "id": "0hwg1_7kDxwY"
      },
      "source": [
        "### 0.3: Building our dataloader"
      ]
    },
    {
      "cell_type": "markdown",
      "metadata": {
        "id": "uk4UJm5SEMlB"
      },
      "source": [
        "There are around 50,000 tokens in the codebert vocab, but we only use around 20,000 of them. To make our lives easier, we just reindex the token indices to go from 1 to around 20,000."
      ]
    },
    {
      "cell_type": "code",
      "execution_count": 13,
      "metadata": {
        "id": "RZC0TYeaD6yj",
        "colab": {
          "base_uri": "https://localhost:8080/"
        },
        "outputId": "9ec1e4a9-2306-4735-9de5-baae77e432ca"
      },
      "outputs": [
        {
          "output_type": "stream",
          "name": "stdout",
          "text": [
            "there are 21970 distinct tokens in the vocabulary\n"
          ]
        }
      ],
      "source": [
        "# Get unique elements\n",
        "extra_tokens = torch.cat((torch.tensor(tokenizer.encode(prompt_1_text, add_special_tokens=True)),\n",
        "                          torch.tensor(tokenizer.encode(prompt_2_text, add_special_tokens=True))),\n",
        "                         dim=0)\n",
        "\n",
        "unique_tokens = torch.unique(torch.cat((tokens, extra_tokens), dim=0))\n",
        "\n",
        "# Create a mapping from code bert to ids that increment by one\n",
        "from_code_bert_dict = {element.item(): id for id, element in enumerate(unique_tokens)}\n",
        "\n",
        "# Create a reverse mapping from ids to code bert token ids\n",
        "to_code_bert_dict = {id: element for element, id in from_code_bert_dict.items()}\n",
        "\n",
        "vocab_size = len(unique_tokens)\n",
        "print(f\"there are {vocab_size} distinct tokens in the vocabulary\")\n",
        "\n",
        "# helper functions to move between code bert and simple ids\n",
        "def from_code_bert(tkn_lst):\n",
        "    \"\"\"\n",
        "    Args:\n",
        "    tkn_lst: a list of code bert tokens\n",
        "    Returns:\n",
        "    a list of simple ids\n",
        "    \"\"\"\n",
        "    tkns = [int(from_code_bert_dict[token]) for token in tkn_lst]\n",
        "    return tkns\n",
        "\n",
        "\n",
        "def to_code_bert(tkn_lst):\n",
        "    \"\"\"\n",
        "    Args:\n",
        "    tkn_lst: a list of simple ids\n",
        "    Returns:\n",
        "    a list of code bert tokens\n",
        "    \"\"\"\n",
        "    tkns = [int(to_code_bert_dict[token]) for token in tkn_lst]\n",
        "    return tkns"
      ]
    },
    {
      "cell_type": "code",
      "execution_count": 14,
      "metadata": {
        "id": "pNOmdccJEXWk",
        "colab": {
          "base_uri": "https://localhost:8080/"
        },
        "outputId": "bc067be4-2fdd-4bf1-dbea-dc380cbb6397"
      },
      "outputs": [
        {
          "output_type": "stream",
          "name": "stdout",
          "text": [
            "there are 3600536 tokens in the training set\n",
            "there are 400060 tokens in the validation set\n",
            "there are 21970 distinct tokens in the vocabulary\n"
          ]
        }
      ],
      "source": [
        "# let's translate our dataset into our ids\n",
        "tokens_simple_id = torch.tensor([from_code_bert_dict[token.item()] for token in tokens])\n",
        "\n",
        "# split up the data into train and validation sets\n",
        "n = int(0.9 * len(tokens_simple_id)) # first 90% will be train, rest val\n",
        "train_data = tokens_simple_id.clone()[:n]\n",
        "val_data = tokens_simple_id.clone()[n:]\n",
        "\n",
        "print(f\"there are {len(train_data)} tokens in the training set\")\n",
        "print(f\"there are {len(val_data)} tokens in the validation set\")\n",
        "print(f\"there are {vocab_size} distinct tokens in the vocabulary\")"
      ]
    },
    {
      "cell_type": "markdown",
      "metadata": {
        "id": "nsOs0_diEcjY"
      },
      "source": [
        "We also write helper functions to get batches of data and to evaluate the loss of various models on them."
      ]
    },
    {
      "cell_type": "code",
      "execution_count": 15,
      "metadata": {
        "id": "AkAD0PfiEfjG"
      },
      "outputs": [],
      "source": [
        "# function for getting batches of data\n",
        "def get_batch(split, context_window_size, device, batch_size=32):\n",
        "    \"\"\"\n",
        "    generate a small batch of data of inputs x and targets y\n",
        "\n",
        "    Args:\n",
        "        split: 'train' or 'val'\n",
        "        device: 'cpu' or 'cuda' (should be 'cuda' if available)\n",
        "    \"\"\"\n",
        "    data = train_data if split == 'train' else val_data\n",
        "    ix = torch.randint(len(data) - context_window_size, (batch_size,))\n",
        "    x = torch.stack([data[i:i+context_window_size] for i in ix])\n",
        "    y = torch.stack([data[i+1:i+context_window_size+1] for i in ix])\n",
        "    x = x.to(device)\n",
        "    y = y.to(device)\n",
        "    return x, y\n",
        "\n",
        "# helper function for tracking loss during training\n",
        "# given to you\n",
        "@torch.no_grad()\n",
        "def estimate_loss(model, eval_iters, context_window_size, device):\n",
        "    \"\"\"\n",
        "    Args:\n",
        "      model: model being evaluated\n",
        "      eval_iters: number of batches to average over\n",
        "      context_window_size: size of the context window\n",
        "      device: 'cpu' or 'cuda' (should be 'cuda' if available)\n",
        "    \"\"\"\n",
        "    out = {}\n",
        "    for split in ['train', 'val']:\n",
        "        losses = torch.zeros(eval_iters)\n",
        "        for k in range(eval_iters):\n",
        "            X, Y = get_batch(split, context_window_size, device)\n",
        "            logits, loss = model(X, Y)\n",
        "            losses[k] = loss.item()\n",
        "        out[split] = losses.mean()\n",
        "    return out"
      ]
    },
    {
      "cell_type": "markdown",
      "metadata": {
        "id": "ercCUt_d07FX"
      },
      "source": [
        "## Part 1: Language Modeling\n",
        "\n",
        "In this first part of the assignment, we will implement a baseline for code modeling.\n",
        "\n",
        "In the process of building this baseline, we will review 4 key ideas of sequence modeling that have become the backbone of modern language modeling such as ChatGPT:\n",
        "\n",
        "1. Framing language modeling as next token prediction, and next token prediction as multiclass logistic regression\n",
        "2. Embedding discrete tokens in continuous latent spaces (word embeddings)\n",
        "3. Use the attention mechanism to move beyond Markovian models for sequences (we of course pay for this greater expressivity with increased compute, which is made possible in part by using matrix multiplications on acccelerated hardware like GPUs. Reducing the compute burden while maintaining the expressivity needed for good sequence modeling is an active area of research).\n",
        "4. Combining attention with deep learning in the Transformer architecture."
      ]
    },
    {
      "cell_type": "markdown",
      "metadata": {
        "id": "kh1kX0pw1bR2"
      },
      "source": [
        "### 1.1: Next token prediction as multiclass logistic regression\n",
        "\n",
        "Our first language model will simply be a lookup table. That is, given that we have token with value $v$, we will simply \"look up\" the logits that correspond to our prediction for the next token. This model is often known as a \"bigram model\" because it can be derived from the relative proportions of different bigrams (ordered pairs of tokens) occurring in a large text corpus.\n",
        "\n",
        "Let us be a bit more precise in our definition of the bigram model. Let's say that the total size of our vocabulary (the number of tokens we are using) is $V$. Let $A$ be a matrix in $\\mathbb{R}^{V \\times V}$, where each row $A_v$ corresponds to the logits for the prediction of which token would follow a token that has value $v$.\n",
        "Thus, we are modeling the distribution of the token following a token that has value $v$ as\n",
        "\\begin{align*}\n",
        "y_{t+1} \\mid y_t &= v \\sim \\mathrm{Cat}(\\mathbf{\\pi}) \\\\\n",
        "\\pi &=\\mathrm{softmax}(A_v)\n",
        "\\end{align*}"
      ]
    },
    {
      "cell_type": "markdown",
      "metadata": {
        "id": "5kNWISNQ9bbH"
      },
      "source": [
        "#### Question 1.1.1\n",
        "\n",
        "$\\mathbf{\\pi} \\in \\Delta_{V-1}$ is the vector of probabilities used to parameterize the categorical distribution for the next token prediction. Explain why we parameterize\n",
        "\\begin{equation*}\n",
        "  \\mathbf{\\pi} = \\mathrm{softmax}(A_v),\n",
        "\\end{equation*}\n",
        "and could not just use\n",
        "\\begin{equation*}\n",
        "  \\mathbf{\\pi} = A_v.\n",
        "\\end{equation*}"
      ]
    },
    {
      "cell_type": "markdown",
      "metadata": {
        "id": "nkHP8-T3zJ3D"
      },
      "source": [
        "---\n",
        "\n",
        "**Answer:** Raw logits are unnormalized values, meaning that the sum of each row $A_v$ will likely be unequal to $1$. Because $\\pi$ lives in a probability simplex, we need to apply a normalizer like the softmax function to make sure that the entries of each row $A_v$ are non-negative and sum up to $1$.\n",
        "\n",
        "---"
      ]
    },
    {
      "cell_type": "markdown",
      "metadata": {
        "id": "DtAjylIF-SwQ"
      },
      "source": [
        "#### Question 1.1.2\n",
        "\n",
        "Discuss the relationship between the bigram model and contigency tables (discussed in Lecture 2)."
      ]
    },
    {
      "cell_type": "markdown",
      "metadata": {
        "id": "ehdR52pnzZHl"
      },
      "source": [
        "---\n",
        "\n",
        "**Answer:** In the context of language modeling, we can interpret contingency tables as a tool for estimating the distribution of different bigrams from a text corpus. The row indices of a contingency model are the first word of a bigram whereas the column indices are the second word of a bigram. The matrix entries are the counts of the corresponding bigram in the training data. Linking back to the above discussion, we can use the contingency obtained this way as the matrix $A$.\n",
        "\n",
        "Contingency tables provide a structured way to represent the data that a bigram model needs. By organizing word occurrences into a table, it becomes straightforward to access and visualize the counts needed for probability calculations, facilitating the model's training and usage.\n",
        "\n",
        "---"
      ]
    },
    {
      "cell_type": "markdown",
      "metadata": {
        "id": "y4AzpB8M-u9o"
      },
      "source": [
        "#### Question 1.1.3\n",
        "\n",
        "Say I have a string of three tokens with ids $(7, 3, 6)$. If I use the bigram model as a generative model for language, given this information, what is distribution of the fourth token?"
      ]
    },
    {
      "cell_type": "markdown",
      "metadata": {
        "id": "fs4rWYjlzc7n"
      },
      "source": [
        "---\n",
        "\n",
        "**Answer:** Suppose our entire vocabulary is $(7,3,6)$. Then the string of three tokens gives rise to the following contingency table $A$:\n",
        "\n",
        "|     | 7  | 3  | 6  |\n",
        "|-----|----|----|----|\n",
        "| **7** | 0 | 1 | 0  |\n",
        "| **3** | 0 | 0 | 1  |\n",
        "| **6** | 0 | 0 | 0  |\n",
        "\n",
        "If we were to apply the softmax function to each row of the matrix, we see that the distribution of the fourth token is a discrete uniform distribution over the entire vocabulary (i.e., $1/3$ for each token).\n",
        "\n",
        "---"
      ]
    },
    {
      "cell_type": "markdown",
      "metadata": {
        "id": "leN9gUxoEuhg"
      },
      "source": [
        "#### Question 1.1.4\n",
        "\n",
        "Remember back in Section 0.2 \"Tokenizing the data\" when we gave you the helper function `get_batch`? Run `get_batch` and look at the inputs `x` and the targets `y`. Explain any relation between them in the context of formulating language modeling in the context of next token prediction."
      ]
    },
    {
      "cell_type": "code",
      "execution_count": 16,
      "metadata": {
        "id": "rzLupp2jExDS",
        "colab": {
          "base_uri": "https://localhost:8080/"
        },
        "outputId": "1a093aaf-e234-45c5-873d-486f635939a0"
      },
      "outputs": [
        {
          "output_type": "stream",
          "name": "stdout",
          "text": [
            "the features have token ids tensor([[ 8113,  7989,   125,  3687,   325,  1491,  1975,   105, 21047,  6630]],\n",
            "       device='cuda:0')\n",
            "\n",
            "\n",
            "the targets have token ids tensor([[ 7989,   125,  3687,   325,  1491,  1975,   105, 21047,  6630, 19900]],\n",
            "       device='cuda:0')\n"
          ]
        }
      ],
      "source": [
        "xb, yb = get_batch('train', 10, device, batch_size = 1)\n",
        "print(f\"the features have token ids {xb}\")\n",
        "print('\\n')\n",
        "print(f\"the targets have token ids {yb}\")"
      ]
    },
    {
      "cell_type": "markdown",
      "source": [
        "**Answer:** `x` represents the first words in bigram pairs, whereas `y` represents the corresponding second words in bigram pairs. The targets vector is a $1$-offset version of the inputs vector, which is what we would expect for a model that performs next token prediction. The formatting of the training data reflects our objective of fitting a model that will predict the most likely next token, given the previous token. The fact that `y` is just an offset version of `x` also illustrates the convenient generation of bigram training data from a text corpus."
      ],
      "metadata": {
        "id": "fcLn5fjFY133"
      }
    },
    {
      "cell_type": "markdown",
      "metadata": {
        "id": "UyYl8QQt_Uhb"
      },
      "source": [
        "#### Question 1.1.5\n",
        "\n",
        "Discuss the strengths and weaknesses of the bigram model as a generative model for language."
      ]
    },
    {
      "cell_type": "markdown",
      "metadata": {
        "id": "7t6Hc2dhzdzL"
      },
      "source": [
        "---\n",
        "\n",
        "Some strengths of the bigram model:\n",
        "- **Simplicity and Efficiency**: Bigram models are straightforward to implement and understand. They rely on the conditional probability of a word given its immediate predecessor, making them computationally efficient compared to more complex models. This simplicity allows quick training and prediction processes, which is especially useful for applications with limited computational resources.\n",
        "- **Context Awareness**: Although limited, bigram models incorporate a basic level of context by considering the previous word in generating the next word. This is a step up from unigram models, which treat each word occurrence as independent, and can lead to more coherent text generation than purely random word selection.\n",
        "\n",
        "Some weaknesses of the bigram model:\n",
        "- **Limited Context**: A major limitation of bigram models is their consideration of only the immediate previous word for predicting the next word. This severely restricts their ability to capture longer dependencies or the overall context of a sentence. Consequently, bigram models often output grammatically incorrect or nonsensical text.\n",
        "\n",
        "- **Sparse Data Problem**: Bigram models suffer from the issue of data sparsity. Many possible word pairs may not occur in the training corpus, leading to zero probabilities for these unseen bigrams. This issue necessitates the use of smoothing techniques, which can introduce their own complexities and biases.\n",
        "\n",
        "---"
      ]
    },
    {
      "cell_type": "markdown",
      "metadata": {
        "id": "mjYO1XTM_8NE"
      },
      "source": [
        "#### Question 1.1.6\n",
        "\n",
        "Say I have a string $s$ of length $T$. Derive the formula for the negative log likelihood of $s$ under the bigram model in terms of the matrix of logits $A$. What would your answer be if the matrix of logits $A$ were all zeros? What would be the value of the negative log likelihood of $s$ under a model that always perfectly predicted the next token?"
      ]
    },
    {
      "cell_type": "markdown",
      "metadata": {
        "id": "QuzLfI4Pzes6"
      },
      "source": [
        "---\n",
        "\n",
        "**Answer:** Let $\\mathbb{V}$ be our tokens set with size $V$. Let $s = x_1 x_2 x_3 \\cdots x_T$, where $x_i \\in [V]$. $A \\in \\mathbb{R}^{V \\times V}$ is matrix of logits where each row $A_v$ corresponds to the logits for the prediction of the next token after token $v$. Without loss of generality, we assume that $x_1$ always corresponds to the `<s>` token, while $x_T$ always represents the `<\\s>` token. The likelihood of observing $s$, conditioned on the logits matrix being $A$, is $P(\\{x_t\\}_{t=1}^{T} \\mid A)$. This can be further expanded into\n",
        "\\begin{align*}\n",
        "P(\\{x_t\\}_{t=1}^{T} \\mid A) &= \\prod_{t=1}^{T-1} P(x_{t+1} \\mid x_{t}; A),\n",
        "\\end{align*}\n",
        "where we omit the prior probability $P(x_1)$ since $x_1$ is fixed. The transition probability is:\n",
        "\\begin{align*}\n",
        "P(x_{t+1} \\mid x_{t}; A) &= \\sigma(A_{x_t})_{x_{t+1}}  \\\\\n",
        "    &= \\frac{\\exp(A_{x_t,x_{t+1}})}{\\sum_{v=1}^V \\exp(A_{x_t, v})}.\n",
        "\\end{align*}\n",
        "\n",
        "The negative log likelihood of $s$ under the bigram model is the negative log of the above expression, which is evaluated as\n",
        "\n",
        "\\begin{align*}\n",
        "L   &= - \\sum_{t=1}^{T-1} \\log P(x_{t+1} \\mid x_{t}; A) \\\\\n",
        "    &= - \\sum_{t=1}^{T-1} \\log \\frac{\\exp(A_{x_t,x_{t+1}})}{\\sum_{v=1}^V \\exp(A_{x_t, v})} \\\\\n",
        "    &= - \\sum_{t=1}^{T-1} \\log \\exp(A_{x_t,x_{t+1}}) + \\sum_{t=1}^{T-1} \\log [\\sum_{v=1}^{V} \\exp(A_{x_t, v})] \\\\\n",
        "    &= - \\sum_{t=1}^{T-1} A_{x_t,x_{t+1}} + \\sum_{t=1}^{T-1} \\log [\\sum_{v=1}^{V} \\exp(A_{x_t, v})]\n",
        "\\end{align*}\n",
        "\n",
        "When $A$ is a zero matrix, the above expression of $L$ evaluates to $- (T-1) \\log (\\frac{1}{V})$, or approximately $\\log V$ per token. If a model always perfectly predicted the next token, the negative log likelihood of $s$ will evaluate to $0$.\n",
        "\n",
        "---"
      ]
    },
    {
      "cell_type": "markdown",
      "source": [],
      "metadata": {
        "id": "x22uMxAssNEf"
      }
    },
    {
      "cell_type": "markdown",
      "metadata": {
        "id": "rfzoXAATAfwn"
      },
      "source": [
        "#### Question 1.1.7: Implement the BigramLanguageModel\n",
        "\n",
        "Implement the bigram language model below.\n",
        "\n",
        "Your TODOs:\n",
        "  * if the `forward` method is provided a target, the loss should be the negative log likelihood of the target (given the context)\n",
        "  * `generate` should take in (batched) contexts and a number of new tokens to generate, and then generate text from your model.\n"
      ]
    },
    {
      "cell_type": "code",
      "execution_count": 17,
      "metadata": {
        "id": "_lJ1mR4K1aj_"
      },
      "outputs": [],
      "source": [
        "class BigramLanguageModel(nn.Module):\n",
        "\n",
        "    def __init__(self, vocab_size):\n",
        "        \"\"\"\n",
        "        Args:\n",
        "          vocab_size: size of the vocabulary (the number of tokens)\n",
        "        \"\"\"\n",
        "        super().__init__()\n",
        "        # each token directly reads off the logits for the next token from a lookup table\n",
        "        self.logits_table = nn.Embedding(vocab_size, vocab_size)\n",
        "        self.vocab_size = vocab_size\n",
        "\n",
        "    def forward(self, token_ids, targets=None):\n",
        "        \"\"\"\n",
        "        Args:\n",
        "          token_ids: Int(B, T), token ids that make up the context (batch has size B, each entry in the batch has length T)\n",
        "          targets: Int(B, T), token ids corresponding to the target of each context in token_ids\n",
        "\n",
        "        Returns:\n",
        "          logits: (B, T, V), logits[b,t, :] gives the length V vector of logits for the next token prediction in string b up to t tokens\n",
        "          loss: scalar, negative log likelihood of target given context\n",
        "        \"\"\"\n",
        "\n",
        "        # idx and targets are both (B,T) tensor of integers\n",
        "        logits = self.logits_table(token_ids) # (B,T,V)\n",
        "        log_probits = F.log_softmax(logits, dim = 2) # log of the softmax along the dimension with V elements\n",
        "\n",
        "        if targets is None:\n",
        "            loss = None\n",
        "        else:\n",
        "            log_condit_probs = torch.gather(log_probits, dim = 2,\n",
        "                                            index = targets.unsqueeze(2)).squeeze(2)\n",
        "            loss = - log_condit_probs.mean()\n",
        "\n",
        "        return logits, loss\n",
        "\n",
        "    @torch.no_grad()\n",
        "    def generate(self, token_ids, max_new_tokens=context_window_size):\n",
        "        \"\"\"\n",
        "        Args:\n",
        "          token_ids: (B, T) tensor of token ids to provide as context\n",
        "          max_new_tokens: int, maximum number of new tokens to generate\n",
        "\n",
        "        Returns:\n",
        "          (B, T+max_new_tokens) tensor of context with new tokens appended\n",
        "        \"\"\"\n",
        "        # TODO: your code below\n",
        "        new_token_ids = torch.zeros(token_ids.shape[0], max_new_tokens,\n",
        "                                    dtype = torch.int64) # (B, max_new_tokens)\n",
        "        new_token_ids = new_token_ids.to(device)\n",
        "        # Markovian assumption: only the last token matter\n",
        "        logits = self.logits_table(token_ids[:, -1]) # (B, V)\n",
        "        new_token_ids[:,0] = torch.argmax(logits, dim = 1)\n",
        "\n",
        "        if max_new_tokens == 1:\n",
        "            return torch.concat((token_ids, new_token_ids), dim = 1)\n",
        "\n",
        "        for t in range(1, max_new_tokens):\n",
        "            logits = self.logits_table(new_token_ids[:,t-1])\n",
        "            new_token_ids[:,t] = torch.argmax(logits, dim = 1)\n",
        "        return torch.concat((token_ids, new_token_ids), dim = 1)"
      ]
    },
    {
      "cell_type": "markdown",
      "metadata": {
        "id": "2MaUUxb0EQY1"
      },
      "source": [
        "\n",
        "#### Question 1.1.8: Evaluating the initialization.\n",
        "\n",
        "Evaluate the loss of your untrained bigram model on a batch of data. Does this loss make sense in the context of your answer to Question 1.1.6? Discuss."
      ]
    },
    {
      "cell_type": "code",
      "execution_count": 18,
      "metadata": {
        "id": "xgSEGqKGEiOn"
      },
      "outputs": [],
      "source": [
        "x,y = get_batch(\"train\", context_window_size, device)\n",
        "bigram_model = BigramLanguageModel(vocab_size)\n",
        "bm = bigram_model.to(device)\n",
        "\n",
        "# TODO: your code below\n",
        "logits, loss = bm.forward(x, y)"
      ]
    },
    {
      "cell_type": "code",
      "source": [
        "print(\"Per-token loss of untrained bigram model on a batch of data:\")\n",
        "print(loss.item())\n",
        "print(\"-log(vocab_size):\")\n",
        "print(torch.log(torch.tensor(vocab_size)).item())"
      ],
      "metadata": {
        "colab": {
          "base_uri": "https://localhost:8080/"
        },
        "id": "36Vo0fJ0Y82-",
        "outputId": "dfaf7fee-8d11-4bc7-d1b6-98943b9e22fc"
      },
      "execution_count": 19,
      "outputs": [
        {
          "output_type": "stream",
          "name": "stdout",
          "text": [
            "Per-token loss of untrained bigram model on a batch of data:\n",
            "10.291149139404297\n",
            "-log(vocab_size):\n",
            "9.997432708740234\n"
          ]
        }
      ]
    },
    {
      "cell_type": "markdown",
      "metadata": {
        "id": "bS32m6egzg03"
      },
      "source": [
        "---\n",
        "\n",
        "My answer to Question 1.1.6 suggests that the per-token loss of the untrained bigram model will have a loss that is approximately $\\log V$, if the transition matrix were to be initialized as all zeros. In the above calculations, we see that the actual loss ($10.87$) is quite close to $\\log V$ ($9.99$), suggesting that our bigram model is well-specified.\n",
        "\n",
        "---"
      ]
    },
    {
      "cell_type": "markdown",
      "metadata": {
        "id": "IzxRpcgKE4_5"
      },
      "source": [
        "#### Question 1.1.9: Training your bigram model\n",
        "\n",
        "Train your bigram model for `SMALL_ITERS` iterations. Plot and interpret the loss curve.\n",
        "\n",
        "Our train loss gets down to around 4 in around 5 min of training."
      ]
    },
    {
      "cell_type": "code",
      "execution_count": 20,
      "metadata": {
        "id": "E2r390zbyz3O",
        "colab": {
          "base_uri": "https://localhost:8080/"
        },
        "outputId": "f930b6b9-037b-4716-c768-9925e859e119"
      },
      "outputs": [
        {
          "output_type": "stream",
          "name": "stderr",
          "text": [
            "\r  0%|          | 0/1000 [00:00<?, ?it/s]"
          ]
        },
        {
          "output_type": "stream",
          "name": "stdout",
          "text": [
            "iteration 0\n",
            "step 0: train loss 10.2954, val loss 10.2864\n"
          ]
        },
        {
          "output_type": "stream",
          "name": "stderr",
          "text": [
            " 20%|██        | 200/1000 [00:51<02:53,  4.62it/s]"
          ]
        },
        {
          "output_type": "stream",
          "name": "stdout",
          "text": [
            "iteration 200\n"
          ]
        },
        {
          "output_type": "stream",
          "name": "stderr",
          "text": [
            "\r 20%|██        | 201/1000 [00:59<33:33,  2.52s/it]"
          ]
        },
        {
          "output_type": "stream",
          "name": "stdout",
          "text": [
            "step 200: train loss 7.9793, val loss 8.0756\n"
          ]
        },
        {
          "output_type": "stream",
          "name": "stderr",
          "text": [
            " 40%|████      | 400/1000 [01:42<02:09,  4.63it/s]"
          ]
        },
        {
          "output_type": "stream",
          "name": "stdout",
          "text": [
            "iteration 400\n"
          ]
        },
        {
          "output_type": "stream",
          "name": "stderr",
          "text": [
            "\r 40%|████      | 401/1000 [01:49<25:03,  2.51s/it]"
          ]
        },
        {
          "output_type": "stream",
          "name": "stdout",
          "text": [
            "step 400: train loss 6.0098, val loss 6.2547\n"
          ]
        },
        {
          "output_type": "stream",
          "name": "stderr",
          "text": [
            " 60%|██████    | 600/1000 [02:32<01:26,  4.63it/s]"
          ]
        },
        {
          "output_type": "stream",
          "name": "stdout",
          "text": [
            "iteration 600\n"
          ]
        },
        {
          "output_type": "stream",
          "name": "stderr",
          "text": [
            "\r 60%|██████    | 601/1000 [02:40<16:42,  2.51s/it]"
          ]
        },
        {
          "output_type": "stream",
          "name": "stdout",
          "text": [
            "step 600: train loss 4.7709, val loss 5.0849\n"
          ]
        },
        {
          "output_type": "stream",
          "name": "stderr",
          "text": [
            " 80%|████████  | 800/1000 [03:23<00:43,  4.63it/s]"
          ]
        },
        {
          "output_type": "stream",
          "name": "stdout",
          "text": [
            "iteration 800\n"
          ]
        },
        {
          "output_type": "stream",
          "name": "stderr",
          "text": [
            "\r 80%|████████  | 801/1000 [03:31<08:21,  2.52s/it]"
          ]
        },
        {
          "output_type": "stream",
          "name": "stdout",
          "text": [
            "step 800: train loss 4.2866, val loss 4.7141\n"
          ]
        },
        {
          "output_type": "stream",
          "name": "stderr",
          "text": [
            "100%|█████████▉| 999/1000 [04:14<00:00,  4.63it/s]"
          ]
        },
        {
          "output_type": "stream",
          "name": "stdout",
          "text": [
            "iteration 999\n"
          ]
        },
        {
          "output_type": "stream",
          "name": "stderr",
          "text": [
            "100%|██████████| 1000/1000 [04:22<00:00,  3.81it/s]"
          ]
        },
        {
          "output_type": "stream",
          "name": "stdout",
          "text": [
            "step 999: train loss 3.9978, val loss 4.5336\n"
          ]
        },
        {
          "output_type": "stream",
          "name": "stderr",
          "text": [
            "\n"
          ]
        }
      ],
      "source": [
        "# create a PyTorch optimizer\n",
        "learning_rate = 1e-2\n",
        "optimizer = torch.optim.AdamW(bigram_model.parameters(), lr=learning_rate)\n",
        "\n",
        "eval_interval = 200\n",
        "eval_iters = 200\n",
        "\n",
        "loss_list = []\n",
        "\n",
        "for it in tqdm(range(SMALL_ITERS)):\n",
        "\n",
        "    # every once in a while evaluate the loss on train and val sets\n",
        "    if it % eval_interval == 0 or it == SMALL_ITERS - 1:\n",
        "        print(f\"iteration {it}\")\n",
        "        losses = estimate_loss(bm, eval_iters, context_window_size, device)\n",
        "        print(f\"step {it}: train loss {losses['train']:.4f}, val loss {losses['val']:.4f}\")\n",
        "\n",
        "    # sample a batch of data\n",
        "    xb, yb = get_batch('train', context_window_size, device)\n",
        "\n",
        "    # evaluate the loss\n",
        "    logits, loss = bm(xb, yb)\n",
        "    loss_list.append(loss.detach().item())\n",
        "    optimizer.zero_grad(set_to_none=True)\n",
        "    loss.backward()\n",
        "    optimizer.step()"
      ]
    },
    {
      "cell_type": "code",
      "source": [
        "plt.plot(loss_list)\n",
        "plt.xlabel(\"Iteration\")\n",
        "plt.ylabel(\"Training loss\")\n",
        "plt.title(\"Per-token training loss\")"
      ],
      "metadata": {
        "colab": {
          "base_uri": "https://localhost:8080/",
          "height": 490
        },
        "id": "H4BQdX5VuRtE",
        "outputId": "44ec94ad-59b2-458a-9074-a28de8a18109"
      },
      "execution_count": 21,
      "outputs": [
        {
          "output_type": "execute_result",
          "data": {
            "text/plain": [
              "Text(0.5, 1.0, 'Per-token training loss')"
            ]
          },
          "metadata": {},
          "execution_count": 21
        },
        {
          "output_type": "display_data",
          "data": {
            "text/plain": [
              "<Figure size 640x480 with 1 Axes>"
            ],
            "image/png": "[encoded data removed]"
          },
          "metadata": {}
        }
      ]
    },
    {
      "cell_type": "markdown",
      "metadata": {
        "id": "Tj28W2w_ziDA"
      },
      "source": [
        "---\n",
        "\n",
        "**Answer:** Over time, the training loss lowers from 10 and converges to a value around 4.\n",
        "\n",
        "---"
      ]
    },
    {
      "cell_type": "markdown",
      "metadata": {
        "id": "slaOmWgFLdMk"
      },
      "source": [
        "### 1.2: Token Embeddings: going from discrete tokens to continuous latent spaces\n",
        "\n",
        "In the look up table formulation of the bigram model, we are modelling the logits of the next token didstirbution independently for each token, even if two tokens are extremely similar to each other.\n",
        "One way arond this problem is to learn an embedding of the discrete tokens into $\\mathbb{R}^{D}$, and then to run multi-class logistic regression on top of this learned embedding.\n",
        "\n",
        "More precisely, if we have a vocabulary of tokens of size $V$ that we choose to embed in a Euclidean embedding space of dimension $D$, we can parameterize the distribution of the next token if the current token is $v$ according to\n",
        "\\begin{align*}\n",
        "  \\mathrm{Cat}\\Big( \\mathrm{softmax} (\\beta X_v) \\Big),\n",
        "\\end{align*}\n",
        "where $X_v \\in \\mathbb{R}^{D}$ is the learned embedding of token $v$ into $\\mathbb{R}^{D}$ and $\\beta \\in \\mathbb{R}^{V \\times D}$. Notice that if $X$ were a fixed design matrix this formulation would be equivalent to multi-class logistic regression. However, both $X$ and $\\beta$ are learnable parameters."
      ]
    },
    {
      "cell_type": "markdown",
      "metadata": {
        "id": "kX6BRU07O7Cr"
      },
      "source": [
        "#### Question 1.2.1: Implement BigramWithWordEmbeddingsLM\n",
        "\n",
        "Implement a bigram languge model that uses a linear readout from a low dimensional Euclidean embedding of each token to parameterize the logits of the next token distribution, instead of parameterizing the logits of the next token distribution directly. It should have almost the same implementation as `BigramLanguageModel` from Question 1.1.6, except `init` should also take in an `embed_size`, and the `forward` method will need to be modified."
      ]
    },
    {
      "cell_type": "code",
      "execution_count": 22,
      "metadata": {
        "id": "brU5zILoQASX"
      },
      "outputs": [],
      "source": [
        "class BigramWithWordEmbeddingsLM(nn.Module):\n",
        "\n",
        "    def __init__(self, vocab_size, embed_size=32):\n",
        "        \"\"\"\n",
        "        Args:\n",
        "            vocab_size: int, size of the vocabulary\n",
        "            embed_size: int, dimension of the word embedding (D)\n",
        "        \"\"\"\n",
        "        # TODO, your code here\n",
        "        super().__init__()\n",
        "        # each token directly reads off the logits for the next token from a lookup table\n",
        "        self.Euclid_embeddings = nn.Embedding(vocab_size, embed_size) # (V, D)\n",
        "        self.beta = nn.Parameter(torch.randn(vocab_size, embed_size)) # (V, D)\n",
        "        self.vocab_size = vocab_size\n",
        "\n",
        "    def forward(self, token_ids, targets=None):\n",
        "        \"\"\"\n",
        "        Args:\n",
        "          token_ids: (B, T) token ids that make up the context (batch has size B, each entry in the batch has length T)\n",
        "          targets: (B, T) token ids corresponding to the target of each context in token_ids\n",
        "\n",
        "        Returns:\n",
        "          logits: (B, T, V), logits[b,t, :] gives the length V vector of logits for the next token prediction in string b up to t tokens\n",
        "          loss: scalar, negative log likelihood of target given context\n",
        "        \"\"\"\n",
        "        # TODO, your code here\n",
        "        X_vs = self.Euclid_embeddings(token_ids) # (B, T, D)\n",
        "        logits = torch.einsum('btd,vd->btv', X_vs, self.beta) # (B, T, V)\n",
        "        log_probits = F.log_softmax(logits, dim = 2) # log of the softmax along the dimension with V elements\n",
        "\n",
        "        if targets is None:\n",
        "            loss = None\n",
        "        else:\n",
        "            log_condit_probs = torch.gather(log_probits, dim = 2,\n",
        "                                            index = targets.unsqueeze(2)).squeeze(2)\n",
        "            loss = - log_condit_probs.mean()\n",
        "\n",
        "        return logits, loss\n",
        "\n",
        "    @torch.no_grad()\n",
        "    def generate(self, token_ids, max_new_tokens=context_window_size):\n",
        "        \"\"\"\n",
        "        Args:\n",
        "          token_ids: (B, T) tensor of token ids to provide as context\n",
        "          max_new_tokens: int, maximum number of new tokens to generate\n",
        "\n",
        "        Returns:\n",
        "          (B, T+max_new_tokens) tensor of context with new tokens appended\n",
        "        \"\"\"\n",
        "        #TODO\n",
        "        # your code below\n",
        "        new_token_ids = torch.zeros(token_ids.shape[0], max_new_tokens,\n",
        "                                    dtype = torch.int64) # (B, max_new_tokens)\n",
        "        new_token_ids = new_token_ids.to(device)\n",
        "        # Markovian assumption: only the last token matter\n",
        "        X_vs = self.Euclid_embeddings(token_ids[:, -1]) # (B, V)\n",
        "        logits = torch.einsum('bd,vd->bv', X_vs, self.beta) # (B, V)\n",
        "        new_token_ids[:,0] = torch.argmax(logits, dim = 1)\n",
        "\n",
        "        if max_new_tokens == 1:\n",
        "            return torch.concat((token_ids, new_token_ids), dim = 1)\n",
        "\n",
        "        for t in range(1, max_new_tokens):\n",
        "            X_vs = self.Euclid_embeddings(token_ids[:, t-1]) # (B, V)\n",
        "            logits = torch.einsum('bd,vd->bv', X_vs, self.beta) # (B, V)\n",
        "            new_token_ids[:,t] = torch.argmax(logits, dim = 1)\n",
        "        return torch.concat((token_ids, new_token_ids), dim = 1)"
      ]
    },
    {
      "cell_type": "code",
      "source": [
        "bigram_model_WE = BigramWithWordEmbeddingsLM(vocab_size)\n",
        "bm_WE = bigram_model_WE.to(device)\n",
        "\n",
        "# create a PyTorch optimizer\n",
        "learning_rate = 1e-2\n",
        "optimizer = torch.optim.AdamW(bigram_model_WE.parameters(), lr=learning_rate)\n",
        "\n",
        "eval_interval = 200\n",
        "eval_iters = 200\n",
        "\n",
        "loss_list = []\n",
        "\n",
        "for it in tqdm(range(SMALL_ITERS)):\n",
        "\n",
        "    # every once in a while evaluate the loss on train and val sets\n",
        "    if it % eval_interval == 0 or it == SMALL_ITERS - 1:\n",
        "        print(f\"iteration {it}\")\n",
        "        losses = estimate_loss(bm_WE, eval_iters, context_window_size, device)\n",
        "        print(f\"step {it}: train loss {losses['train']:.4f}, val loss {losses['val']:.4f}\")\n",
        "\n",
        "    # sample a batch of data\n",
        "    xb, yb = get_batch('train', context_window_size, device)\n",
        "\n",
        "    # evaluate the loss\n",
        "    logits, loss = bm_WE(xb, yb)\n",
        "    loss_list.append(loss.detach().item())\n",
        "    optimizer.zero_grad(set_to_none=True)\n",
        "    loss.backward()\n",
        "    optimizer.step()"
      ],
      "metadata": {
        "id": "zmpdE524uP-c",
        "outputId": "a11568df-179f-4331-e4c0-a2a3ed9e56f3",
        "colab": {
          "base_uri": "https://localhost:8080/"
        }
      },
      "execution_count": 23,
      "outputs": [
        {
          "output_type": "stream",
          "name": "stderr",
          "text": [
            "\r  0%|          | 0/1000 [00:00<?, ?it/s]"
          ]
        },
        {
          "output_type": "stream",
          "name": "stdout",
          "text": [
            "iteration 0\n"
          ]
        },
        {
          "output_type": "stream",
          "name": "stderr",
          "text": [
            "  0%|          | 4/1000 [00:07<24:27,  1.47s/it]  "
          ]
        },
        {
          "output_type": "stream",
          "name": "stdout",
          "text": [
            "step 0: train loss 24.2566, val loss 24.3110\n"
          ]
        },
        {
          "output_type": "stream",
          "name": "stderr",
          "text": [
            " 20%|█▉        | 199/1000 [00:16<00:33, 23.59it/s]"
          ]
        },
        {
          "output_type": "stream",
          "name": "stdout",
          "text": [
            "iteration 200\n"
          ]
        },
        {
          "output_type": "stream",
          "name": "stderr",
          "text": [
            " 20%|██        | 205/1000 [00:23<07:30,  1.77it/s]"
          ]
        },
        {
          "output_type": "stream",
          "name": "stdout",
          "text": [
            "step 200: train loss 4.9538, val loss 5.5770\n"
          ]
        },
        {
          "output_type": "stream",
          "name": "stderr",
          "text": [
            " 40%|████      | 400/1000 [00:32<00:25, 23.64it/s]"
          ]
        },
        {
          "output_type": "stream",
          "name": "stdout",
          "text": [
            "iteration 400\n"
          ]
        },
        {
          "output_type": "stream",
          "name": "stderr",
          "text": [
            "\r 40%|████      | 403/1000 [00:39<07:51,  1.27it/s]"
          ]
        },
        {
          "output_type": "stream",
          "name": "stdout",
          "text": [
            "step 400: train loss 3.7871, val loss 4.4310\n"
          ]
        },
        {
          "output_type": "stream",
          "name": "stderr",
          "text": [
            " 60%|█████▉    | 598/1000 [00:47<00:17, 23.61it/s]"
          ]
        },
        {
          "output_type": "stream",
          "name": "stdout",
          "text": [
            "iteration 600\n"
          ]
        },
        {
          "output_type": "stream",
          "name": "stderr",
          "text": [
            " 60%|██████    | 604/1000 [00:55<03:44,  1.76it/s]"
          ]
        },
        {
          "output_type": "stream",
          "name": "stdout",
          "text": [
            "step 600: train loss 3.3991, val loss 4.1185\n"
          ]
        },
        {
          "output_type": "stream",
          "name": "stderr",
          "text": [
            " 80%|███████▉  | 799/1000 [01:03<00:08, 23.52it/s]"
          ]
        },
        {
          "output_type": "stream",
          "name": "stdout",
          "text": [
            "iteration 800\n"
          ]
        },
        {
          "output_type": "stream",
          "name": "stderr",
          "text": [
            " 80%|████████  | 805/1000 [01:11<01:50,  1.77it/s]"
          ]
        },
        {
          "output_type": "stream",
          "name": "stdout",
          "text": [
            "step 800: train loss 3.2795, val loss 3.9797\n"
          ]
        },
        {
          "output_type": "stream",
          "name": "stderr",
          "text": [
            "100%|█████████▉| 997/1000 [01:19<00:00, 23.62it/s]"
          ]
        },
        {
          "output_type": "stream",
          "name": "stdout",
          "text": [
            "iteration 999\n"
          ]
        },
        {
          "output_type": "stream",
          "name": "stderr",
          "text": [
            "100%|██████████| 1000/1000 [01:27<00:00, 11.44it/s]"
          ]
        },
        {
          "output_type": "stream",
          "name": "stdout",
          "text": [
            "step 999: train loss 3.1823, val loss 3.9421\n"
          ]
        },
        {
          "output_type": "stream",
          "name": "stderr",
          "text": [
            "\n"
          ]
        }
      ]
    },
    {
      "cell_type": "code",
      "source": [
        "# delete the models from the GPU\n",
        "bm_WE.to('cpu')\n",
        "bm.to('cpu')\n",
        "torch.cuda.empty_cache()"
      ],
      "metadata": {
        "id": "YdsIpz7KAinf"
      },
      "execution_count": 24,
      "outputs": []
    },
    {
      "cell_type": "markdown",
      "metadata": {
        "id": "ypOE6LnnGdyu"
      },
      "source": [
        "### 1.3: Attention: Relaxing Markovian assumptions to transmit information across the sequence length\n",
        "\n",
        "A major problem with the bigram models of Sections 1.1 and 1.2 was that they were Markovian: the distribution of the next token was determined entirely by the current token! The attention mechanism provides a way to extract information between the previous tokens in the context to provide a better parameterization for the distribution of the next token."
      ]
    },
    {
      "cell_type": "markdown",
      "metadata": {
        "id": "F-XHeM1VRO6H"
      },
      "source": [
        "#### Question 1.3.1: Averaging over word embeddings\n",
        "\n",
        "One simple way to pool information from previous tokens would simply be to average the embeddings of all the previous tokens!\n",
        "\n",
        "Your TODO: Add comments to the the code snippet below. Write a description here explaining why the code is mathematically equivalent to averaging the embeddings of previous tokens"
      ]
    },
    {
      "cell_type": "markdown",
      "metadata": {
        "id": "S-8W0Xx_zsst"
      },
      "source": [
        "---\n",
        "\n",
        "The code below first creates an attention matrix where all elements in its lower triangle are $0$'s while every element in its upper triangle are $-\\infty$'s. When the code replaces the attention matrix with its softmaxed version, we obtain a matrix where all elements in its upper triangle are $0$'s (since $e^{-\\infty}=0$) while each row of the lower triangle consists of equal fractions that sum up to $1$. Afterwards we matrix multiply `attn_weights` with `X`, which yields the attention-waited average embeddings for each word position in each sequence of the batch.\n",
        "\n",
        "---"
      ]
    },
    {
      "cell_type": "code",
      "execution_count": 17,
      "metadata": {
        "id": "gCaS07DtGgCr",
        "colab": {
          "base_uri": "https://localhost:8080/"
        },
        "outputId": "8db24d55-0b1a-4d29-e8c6-5eb681efba35"
      },
      "outputs": [
        {
          "output_type": "stream",
          "name": "stdout",
          "text": [
            "torch.Size([4, 8, 3])\n",
            "tensor([[ 0.1379, -0.0044,  0.5555],\n",
            "        [ 0.1027, -0.5451,  0.0640],\n",
            "        [-0.4631, -0.4488, -0.2398],\n",
            "        [-1.0438, -0.2486,  0.1320],\n",
            "        [ 0.5805, -1.7319,  0.0673],\n",
            "        [ 0.1778, -0.2546,  1.5750],\n",
            "        [-0.2507, -0.1896, -1.0441],\n",
            "        [-0.1214,  1.8332, -0.4598]])\n",
            "\n",
            "tensor([[ 0.1379, -0.0044,  0.5555],\n",
            "        [ 0.1203, -0.2747,  0.3098],\n",
            "        [-0.0742, -0.3327,  0.1266],\n",
            "        [-0.3166, -0.3117,  0.1279],\n",
            "        [-0.1372, -0.5958,  0.1158],\n",
            "        [-0.0847, -0.5389,  0.3590],\n",
            "        [-0.1084, -0.4890,  0.1586],\n",
            "        [-0.1100, -0.1987,  0.0813]])\n"
          ]
        }
      ],
      "source": [
        "# average word embedding via matrix multiply and softmax\n",
        "batch_size = 4              # B\n",
        "context_window_size = 8     # T\n",
        "embed_size = 3              # D\n",
        "\n",
        "# make \"synthetic\" word embeddings (for illustration purposes only)\n",
        "X = torch.randn(batch_size, context_window_size, embed_size)\n",
        "\n",
        "# TODO: comment the code below\n",
        "print(X.shape)\n",
        "\n",
        "# Create a lower triangular matrix of attention weights, filled with ones on\n",
        "# and below the main diagonal and zeros elsewhere. This matrix is used to simulate\n",
        "# a causal or autoregressive model.\n",
        "tril = torch.tril(torch.ones(context_window_size, context_window_size))\n",
        "\n",
        "# These lines initialize attn_weights as a matrix of zeros with the same shape\n",
        "# as tril, then apply a mask where all elements not in the lower triangle (where\n",
        "# tril == 0) are filled with -inf (negative infinity).\n",
        "attn_weights = torch.zeros((context_window_size, context_window_size))\n",
        "attn_weights = attn_weights.masked_fill(tril == 0, float('-inf'))\n",
        "\n",
        "# The softmax function is applied to the masked attn_weights along the last dimension\n",
        "# (dim=-1), turning them into a proper distribution of attention weights across\n",
        "# the context window for each position.\n",
        "attn_weights = F.softmax(attn_weights, dim=-1)\n",
        "\n",
        "# This line performs a matrix multiplication between the normalized attention\n",
        "# weights (attn_weights) and the word embeddings (X). Due to the broadcasting rules\n",
        "# and the shapes of the tensors, this operation computes a weighted sum of the\n",
        "# embeddings within the context window for each word, where the weights are determined\n",
        "# by the attention mechanism. The result, avgDmbds, has a shape of (T, B, D).\n",
        "avgDmbds = attn_weights @ X\n",
        "print(X[0])\n",
        "print(\"\")\n",
        "print(avgDmbds[0])"
      ]
    },
    {
      "cell_type": "code",
      "source": [
        "key_weights = nn.Linear(embed_size, 2, bias=False)\n",
        "key_weights(X).shape"
      ],
      "metadata": {
        "id": "hnJyTPsoTEcj",
        "outputId": "98c35941-58e6-42a9-d3cc-a531c04b41c3",
        "colab": {
          "base_uri": "https://localhost:8080/"
        }
      },
      "execution_count": 18,
      "outputs": [
        {
          "output_type": "execute_result",
          "data": {
            "text/plain": [
              "torch.Size([4, 8, 2])"
            ]
          },
          "metadata": {},
          "execution_count": 18
        }
      ]
    },
    {
      "cell_type": "markdown",
      "metadata": {
        "id": "oIDlnRDGXaie"
      },
      "source": [
        "#### 1.3.2: Single-headed scaled $(Q,K,V)$-attention\n",
        "\n",
        "A more sophisticated approach than simply averaging over previous word embeddings is single-headed (Query, Key, Value) scaled attention.\n",
        "That is, we now summarize the information contained in a length $T$ sequence of tokens that have been embeded into $X \\in \\mathbb{R}^{T \\times D}$ according to\n",
        "\\begin{equation}\n",
        "   \\mathrm{SoftmaxAcrossRows} \\Bigg( \\frac{\\mathrm{CausalMask}\\Big(X U_q^\\top U_k X^\\top \\Big)}{\\sqrt{K}} \\Bigg) \\Big( X V^\\top \\Big),\n",
        "\\end{equation}\n",
        "where $U_q, U_k \\in \\mathbb{R}^{K \\times D}$, $V \\in \\mathbb{R}^{D \\times D}$, and $K$ is the \"head size\".\n",
        "\n"
      ]
    },
    {
      "cell_type": "markdown",
      "metadata": {
        "id": "E84BzzxPdwUd"
      },
      "source": [
        "##### Question 1.3.2.1\n",
        "\n",
        "In the limiting case where $U_q$ and $U_k$ are all zeros, and $V = I_{D}$, what does $(U_q, U_k, V)$ attention simplify to?"
      ]
    },
    {
      "cell_type": "markdown",
      "metadata": {
        "id": "AmFw8z5Dz3T6"
      },
      "source": [
        "---\n",
        "\n",
        "Let $X' \\in \\mathbb{R}$ be the resultant matrix. Let $x_t$ denote the $t$-th row of $X$, and $x'_t$ that of $X'$. Then $x'_t = (\\sum_{i=1}^{t} x_i) / t$.\n",
        "\n",
        "This is because $\\mathrm{SoftmaxAcrossRows} (\\cdots)$ simplifies to taking the average of the embeddings of previous tokens, i.e., what the `attn_weights` matrix created in Question 1.3.1 achieves. To see this, notice that when $U_q$ and $U_k$ are zero matrices, $\\mathrm{CausalMask}\\Big(X U_q^\\top U_k X^\\top \\Big)$ is a matrix whose lower triangle is filled with $0$'s while the upper triangle is filled with `-inf`'s. Dividing by $\\sqrt K$ doesn't change either values, and after softmaxing across rows we get a lower-triangular matrix whose lower triangle are row-stochastic and have equal row entries. This is the same as taking the mean of previous token embeddings.\n",
        "\n",
        "---"
      ]
    },
    {
      "cell_type": "markdown",
      "metadata": {
        "id": "1cU9BXYPekkt"
      },
      "source": [
        "##### Question 1.3.2.2\n",
        "\n",
        "Imagine we had two matrices $U_q$ and $U_k$, both in $\\mathbb{R}^{K \\times D}$, where every entry was an independent standard normal.\n",
        "\n",
        "What would be the distribution of an element of $U_q^\\top U_k$? What about $U_q^\\top U_k / \\sqrt{K}$?"
      ]
    },
    {
      "cell_type": "markdown",
      "metadata": {
        "id": "GDtilESJz4oC"
      },
      "source": [
        "---\n",
        "\n",
        "Each element of $U_q^T U_k$ is the sum of $K$ products of independent standard normal R.V.'s. This sum has mean $0$ and variance $K$, since each individual product has mean $0$ and variance $1$. Each individual summand has mean $0$ and variance $1$. By the Central Limit Theorem, when the value of $K$ is large, the sum of these i.i.d. R.V.'s is distributed approximately to $N(0, K)$.\n",
        "\n",
        "$U_q^T U_k / \\sqrt K$ is just $U_q^T U_k$ scaled down by $\\sqrt K$, so it has mean $0$ and variance $1$. Since $U_q^T U_k$ is the sum of $K$ i.i.d. R.V.'s with finite variance $1$, when $K$ is large the distribution of $U_q^T U_k / \\sqrt K$ is approximately $N(0, 1)$ due to the Central Limit Theorem.\n",
        "\n",
        "As an aside, if we are interested in finding the exact distributions, $\\mathrm{Var} (u \\cdot v) = \\mathbb{E}[u^2 v^2] = \\mathbb{E}[u^2] \\cdot \\mathbb{E}[v^2] = 1$ for $u$, $v$ i.i.d. and standard normal. According to Wolfram-Alpha, the PDF of a product of two independent standard normal R.V.s has the form $f(u) = \\frac{K_0 \\big(|u|\\big)}{\\pi}$ where $K_0$ is a modified Bessel function of the second kind. The distribution of the sum of $K$ such independent R.V.'s will be the convolution of them.\n",
        "\n",
        "---"
      ]
    },
    {
      "cell_type": "markdown",
      "metadata": {
        "id": "jeKfSrREhgdH"
      },
      "source": [
        "##### Question 1.3.2.3: Implement single-headed scaled $(U_q,U_k,V)$-attention.\n",
        "\n",
        "Complete the below code so the `forward` method returns single-headed scaled $(U_q,U_k,V)$-attention."
      ]
    },
    {
      "cell_type": "code",
      "execution_count": 20,
      "metadata": {
        "id": "O_eBPiT-Yy0q"
      },
      "outputs": [],
      "source": [
        "class Head(nn.Module):\n",
        "    \"\"\" one head of self-attention \"\"\"\n",
        "\n",
        "    def __init__(self, head_size, context_window_size, embed_size=384):\n",
        "        \"\"\"\n",
        "        Args:\n",
        "          head_size: int, size of the head embedding dimension (K)\n",
        "          context_window_size: int, number of tokens considered in the past for attention (T)\n",
        "          embed_size: int, size of the token embedding dimension (D)\n",
        "        \"\"\"\n",
        "        super().__init__()\n",
        "        self.head_size = head_size\n",
        "        self.key = nn.Linear(embed_size, head_size, bias=False) # weights (K, D)\n",
        "        self.query = nn.Linear(embed_size, head_size, bias=False) # weights (K, D)\n",
        "        self.value = nn.Linear(embed_size, embed_size, bias=False) # weights (D, D)\n",
        "\n",
        "        # not a param of the model, so registered as a buffer\n",
        "        self.register_buffer('tril', torch.tril(\n",
        "            torch.ones(context_window_size, context_window_size)))\n",
        "\n",
        "    def forward(self, x):\n",
        "        \"\"\"\n",
        "        Args:\n",
        "          x: (B,T,D) tensor of token embeddings\n",
        "\n",
        "        Returns:\n",
        "          (B,T,D) tensor of attention-weighted token embeddings\n",
        "        \"\"\"\n",
        "        # TODO: your code here\n",
        "        X_k = self.key(x) # X projected onto K-space (B, T, K)\n",
        "        X_q = self.query(x) # X projected onto Q-space (B, T, K)\n",
        "        X_v = self.value(x) # X projected onto V-space (B, T, D)\n",
        "        sqrt_K = torch.sqrt(torch.tensor(self.head_size)) # sqrt(K)\n",
        "\n",
        "        X_k_T = X_k.transpose(-2, -1)\n",
        "        XUUX = X_q @ X_k_T # (B, T, T)\n",
        "        XUUX = XUUX.masked_fill(self.tril == 0, float('-inf')) # applies causal mask\n",
        "        attn_weights = XUUX / sqrt_K\n",
        "        attn_weights = F.softmax(attn_weights, dim=-1) # (B, T, T)\n",
        "        wghtDmbds = attn_weights @ X_v # (B, T, D)\n",
        "        return wghtDmbds"
      ]
    },
    {
      "cell_type": "markdown",
      "metadata": {
        "id": "3RqGrCB21qUV"
      },
      "source": [
        "##### Question 1.3.2.3: Implement a single-headed attention language model\n",
        "\n",
        "Complete the code below. Note that because the transformer has no idea where tokens are occuring in space, we have also added in position embeddings."
      ]
    },
    {
      "cell_type": "code",
      "execution_count": 78,
      "metadata": {
        "id": "REr3aWnS1xJL"
      },
      "outputs": [],
      "source": [
        "class SingleHeadedAttentionLM(nn.Module):\n",
        "\n",
        "    def __init__(self, vocab_size, context_window_size, head_size, embed_size=384):\n",
        "      \"\"\"\n",
        "      Args:\n",
        "        vocab_size: int, size of the vocabulary (V)\n",
        "        context_window_size: int, number of tokens considered in the past for attention (T)\n",
        "        head_size: int, size of the head embedding dimension (K)\n",
        "        embed_size: int, size of the token embedding dimension (D)\n",
        "      \"\"\"\n",
        "      super().__init__()\n",
        "      self.token_embedding_table = nn.Embedding(vocab_size, embed_size)\n",
        "      self.position_embedding_table = nn.Embedding(context_window_size, embed_size)\n",
        "      self.context_window_size = context_window_size\n",
        "\n",
        "      # TODO: your code below\n",
        "      self.atten_head = Head(head_size, context_window_size, embed_size)\n",
        "      # map embeddings to tokens space\n",
        "      self.lm_head = nn.Linear(embed_size, vocab_size, bias = False) # map from D to V\n",
        "\n",
        "    def forward(self, token_ids, targets=None):\n",
        "        \"\"\"\n",
        "        Args:\n",
        "          token_ids: (B, T) token ids that make up the context (batch has size B, each entry\n",
        "                     in the batch has length T)\n",
        "          targets: (B, T) token ids corresponding to the target of each context in token_ids\n",
        "\n",
        "        Returns:\n",
        "          logits: (B, T, V) logits[b,t] gives the length V vector of logits for the next token\n",
        "                   prediction in string b up to t tokens\n",
        "          loss: scalar, negative log likelihood of target given context\n",
        "        \"\"\"\n",
        "        B, T = token_ids.shape # (batch size, length)\n",
        "        tok_emb = self.token_embedding_table(token_ids) # (B,T,K)\n",
        "        pos_emb = self.position_embedding_table(torch.arange(T, device=device)) # (T,K)\n",
        "        x = tok_emb + pos_emb # (B,T,K)\n",
        "        x = self.atten_head(x) # (B,T,D)\n",
        "        logits = self.lm_head(x) # (B,T,V)\n",
        "\n",
        "        # TODO: your code here\n",
        "        log_probs = F.log_softmax(logits, dim = 2) # log of the softmax along the last dimension\n",
        "\n",
        "        if targets is None:\n",
        "            loss = None\n",
        "        else:\n",
        "            log_condit_probs = torch.gather(log_probs, dim = 2,\n",
        "                                            index = targets.unsqueeze(2))\n",
        "            loss = - log_condit_probs.mean()\n",
        "\n",
        "        return logits, loss\n",
        "\n",
        "    @torch.no_grad()\n",
        "    def generate(self, token_ids, max_new_tokens):\n",
        "        \"\"\"\n",
        "        Args:\n",
        "          token_ids: (B, T) tensor of token ids to provide as context\n",
        "          max_new_tokens: int, maximum number of new tokens to generate\n",
        "\n",
        "        Returns:\n",
        "          (B, T+max_new_tokens) tensor of context with new tokens appended\n",
        "        \"\"\"\n",
        "        #TODO\n",
        "        # your code below\n",
        "        assert (max_new_tokens > 0)\n",
        "        B, T = token_ids.shape # (batch size, length)\n",
        "\n",
        "        new_token_ids = torch.zeros(token_ids.shape[0], max_new_tokens,\n",
        "                                    dtype = torch.int64, device = device)\n",
        "        combined_token_ids = torch.concat((token_ids, new_token_ids), dim = 1) # (B, T + max_new_tokens)\n",
        "\n",
        "        logits, _ = self.forward(combined_token_ids[:, :T])\n",
        "        # breakpoint()\n",
        "        combined_token_ids[:, T] = torch.argmax(logits[:, -1], dim = 1)\n",
        "\n",
        "        if max_new_tokens == 1:\n",
        "            return combined_token_ids\n",
        "\n",
        "        for t in range(1, max_new_tokens):\n",
        "            logits, _ = self.forward(combined_token_ids[:, t:T+t]) # (B,V). Get the logits from the final layer's representations\n",
        "            # breakpoint()\n",
        "            combined_token_ids[:, T + t] = torch.argmax(logits[:, -1], dim = 1)\n",
        "\n",
        "        return combined_token_ids"
      ]
    },
    {
      "cell_type": "markdown",
      "metadata": {
        "id": "End-pUCa4RXe"
      },
      "source": [
        "Train your new `SingleHeadedAttentionLM` for `SMALL_ITERS` training iterations and plot the loss curve.\n",
        "Do you seen an improvement compared to your `BigramLanguageModel`? Discuss.\n",
        "\n",
        "Note: you may want to modify the learning rate. Training for `SMALL_ITERS` with a learning rate of `6e-4`, we can get to a loss of around 3.3 in around 4 min of training."
      ]
    },
    {
      "cell_type": "code",
      "source": [
        "batch_size = 32               # B\n",
        "context_window_size = 256     # T\n",
        "embed_size = 384              # D\n",
        "eval_interval = 200\n",
        "eval_iters = 200\n",
        "\n",
        "sha_model = SingleHeadedAttentionLM(vocab_size, context_window_size, embed_size, embed_size)\n",
        "sham = sha_model.to(device)"
      ],
      "metadata": {
        "id": "Qd78Vzgi9AY2"
      },
      "execution_count": 80,
      "outputs": []
    },
    {
      "cell_type": "code",
      "source": [
        "sham.to('cpu')\n",
        "torch.cuda.empty_cache()"
      ],
      "metadata": {
        "id": "2I89D-qB-Jz9"
      },
      "execution_count": 79,
      "outputs": []
    },
    {
      "cell_type": "code",
      "execution_count": 82,
      "metadata": {
        "id": "070G_l0E0uG9",
        "colab": {
          "base_uri": "https://localhost:8080/"
        },
        "outputId": "33f56ae6-87d9-4c8b-db3b-26c32b677395"
      },
      "outputs": [
        {
          "output_type": "stream",
          "name": "stderr",
          "text": [
            "\r  0%|          | 0/1000 [00:00<?, ?it/s]"
          ]
        },
        {
          "output_type": "stream",
          "name": "stdout",
          "text": [
            "iteration 0\n"
          ]
        },
        {
          "output_type": "stream",
          "name": "stderr",
          "text": [
            "  0%|          | 4/1000 [00:06<19:41,  1.19s/it]  "
          ]
        },
        {
          "output_type": "stream",
          "name": "stdout",
          "text": [
            "step 0: train loss 10.0397, val loss 10.0420\n"
          ]
        },
        {
          "output_type": "stream",
          "name": "stderr",
          "text": [
            " 20%|█▉        | 199/1000 [00:14<00:33, 23.67it/s]"
          ]
        },
        {
          "output_type": "stream",
          "name": "stdout",
          "text": [
            "iteration 200\n"
          ]
        },
        {
          "output_type": "stream",
          "name": "stderr",
          "text": [
            " 20%|██        | 205/1000 [00:20<06:12,  2.14it/s]"
          ]
        },
        {
          "output_type": "stream",
          "name": "stdout",
          "text": [
            "step 200: train loss 4.1709, val loss 4.2978\n"
          ]
        },
        {
          "output_type": "stream",
          "name": "stderr",
          "text": [
            " 40%|████      | 400/1000 [00:29<00:25, 23.71it/s]"
          ]
        },
        {
          "output_type": "stream",
          "name": "stdout",
          "text": [
            "iteration 400\n"
          ]
        },
        {
          "output_type": "stream",
          "name": "stderr",
          "text": [
            "\r 40%|████      | 403/1000 [00:35<06:30,  1.53it/s]"
          ]
        },
        {
          "output_type": "stream",
          "name": "stdout",
          "text": [
            "step 400: train loss 3.8670, val loss 4.1167\n"
          ]
        },
        {
          "output_type": "stream",
          "name": "stderr",
          "text": [
            " 60%|█████▉    | 598/1000 [00:43<00:17, 23.63it/s]"
          ]
        },
        {
          "output_type": "stream",
          "name": "stdout",
          "text": [
            "iteration 600\n"
          ]
        },
        {
          "output_type": "stream",
          "name": "stderr",
          "text": [
            " 60%|██████    | 604/1000 [00:49<03:05,  2.13it/s]"
          ]
        },
        {
          "output_type": "stream",
          "name": "stdout",
          "text": [
            "step 600: train loss 3.6295, val loss 3.9945\n"
          ]
        },
        {
          "output_type": "stream",
          "name": "stderr",
          "text": [
            " 80%|███████▉  | 799/1000 [00:58<00:08, 23.64it/s]"
          ]
        },
        {
          "output_type": "stream",
          "name": "stdout",
          "text": [
            "iteration 800\n"
          ]
        },
        {
          "output_type": "stream",
          "name": "stderr",
          "text": [
            " 80%|████████  | 805/1000 [01:04<01:31,  2.13it/s]"
          ]
        },
        {
          "output_type": "stream",
          "name": "stdout",
          "text": [
            "step 800: train loss 3.4673, val loss 3.8934\n"
          ]
        },
        {
          "output_type": "stream",
          "name": "stderr",
          "text": [
            "100%|█████████▉| 997/1000 [01:12<00:00, 23.75it/s]"
          ]
        },
        {
          "output_type": "stream",
          "name": "stdout",
          "text": [
            "iteration 999\n"
          ]
        },
        {
          "output_type": "stream",
          "name": "stderr",
          "text": [
            "100%|██████████| 1000/1000 [01:18<00:00, 12.68it/s]"
          ]
        },
        {
          "output_type": "stream",
          "name": "stdout",
          "text": [
            "step 999: train loss 3.3291, val loss 3.8265\n"
          ]
        },
        {
          "output_type": "stream",
          "name": "stderr",
          "text": [
            "\n"
          ]
        }
      ],
      "source": [
        "learning_rate = 6e-4\n",
        "optimizer = torch.optim.AdamW(sha_model.parameters(), lr=learning_rate)\n",
        "\n",
        "loss_list = []\n",
        "\n",
        "for it in tqdm(range(SMALL_ITERS)):\n",
        "\n",
        "    # every once in a while evaluate the loss on train and val sets\n",
        "    if it % eval_interval == 0 or it == SMALL_ITERS - 1:\n",
        "        print(f\"iteration {it}\")\n",
        "        losses = estimate_loss(sham, eval_iters, context_window_size, device)\n",
        "        print(\n",
        "            f\"step {it}: train loss {losses['train']:.4f}, val loss {losses['val']:.4f}\"\n",
        "        )\n",
        "\n",
        "    # sample a batch of data\n",
        "    xb, yb = get_batch(\"train\", context_window_size, device)\n",
        "\n",
        "    # evaluate the loss\n",
        "    logits, loss = sham(xb, yb)\n",
        "    loss_list.append(loss.detach().item())\n",
        "    optimizer.zero_grad(set_to_none=True)\n",
        "    loss.backward()\n",
        "    optimizer.step()"
      ]
    },
    {
      "cell_type": "code",
      "source": [
        "plt.plot(loss_list)\n",
        "plt.xlabel(\"Iteration\")\n",
        "plt.ylabel(\"Training loss\")\n",
        "plt.title(\"Per-token training loss\")"
      ],
      "metadata": {
        "id": "f37yak1Byl3E",
        "outputId": "84870a1b-6641-4f2f-b4be-1a373b428a78",
        "colab": {
          "base_uri": "https://localhost:8080/",
          "height": 490
        }
      },
      "execution_count": 35,
      "outputs": [
        {
          "output_type": "execute_result",
          "data": {
            "text/plain": [
              "Text(0.5, 1.0, 'Per-token training loss')"
            ]
          },
          "metadata": {},
          "execution_count": 35
        },
        {
          "output_type": "display_data",
          "data": {
            "text/plain": [
              "<Figure size 640x480 with 1 Axes>"
            ],
            "image/png": "[encoded data removed]"
          },
          "metadata": {}
        }
      ]
    },
    {
      "cell_type": "code",
      "source": [
        "x,y = get_batch(\"train\", context_window_size, device)\n",
        "output_tokens = sham.generate(x, 64)\n",
        "tokenizer.decode(output_tokens[0])"
      ],
      "metadata": {
        "id": "G2N8whcq0K7m"
      },
      "execution_count": null,
      "outputs": []
    },
    {
      "cell_type": "code",
      "source": [
        "# the contexts for the different prompts\n",
        "start_context = torch.zeros((1, 1), dtype=torch.long, device=device)\n",
        "print(f\"shape is {start_context.shape}\")\n",
        "context1 = torch.tensor(from_code_bert(tokenizer.encode(prompt_1_text)[:-1]), device=device).reshape(1, -1) # (1, T)\n",
        "print(f\"shape is {context1.shape}\")\n",
        "context2 = torch.tensor(from_code_bert(tokenizer.encode(prompt_2_text)[:-1])).to(device).reshape(1, -1)\n",
        "print(f\"shape is {context2.shape}\")"
      ],
      "metadata": {
        "id": "H0akRKFfDDaW",
        "outputId": "e1323729-5abb-4502-9d08-b3c38f4c6eab",
        "colab": {
          "base_uri": "https://localhost:8080/"
        }
      },
      "execution_count": 85,
      "outputs": [
        {
          "output_type": "stream",
          "name": "stdout",
          "text": [
            "shape is torch.Size([1, 1])\n",
            "shape is torch.Size([1, 225])\n",
            "shape is torch.Size([1, 263])\n"
          ]
        }
      ]
    },
    {
      "cell_type": "markdown",
      "metadata": {
        "id": "u05NFXpo0wWs"
      },
      "source": [
        "---\n",
        "\n",
        "**Answer:** Yes, there is a noticeable improvement in terms of both training and evaluation losses compared to the `BigramLanguageModel`. The training loss lowered to $3.36$, down from $4.00$ before. The evaluation loss lowered to $3.84$, down from $4.53$ before.\n",
        "\n",
        "---"
      ]
    },
    {
      "cell_type": "markdown",
      "metadata": {
        "id": "7wjXYf-S4Lus"
      },
      "source": [
        "#### 1.3.3: Multi-headed attention"
      ]
    },
    {
      "cell_type": "markdown",
      "metadata": {
        "id": "ZIObjMO0Ikp5"
      },
      "source": [
        "##### Question 1.3.3.1: Implement multi-headed attention"
      ]
    },
    {
      "cell_type": "code",
      "execution_count": null,
      "metadata": {
        "id": "6vb8NU_s6Vfg"
      },
      "outputs": [],
      "source": [
        "class MultiHeadAttention(nn.Module):\n",
        "    \"\"\" multiple heads of self-attention in parallel \"\"\"\n",
        "\n",
        "    def __init__(self, vocab_size, context_window_size, num_heads, head_size, embed_size=384):\n",
        "        super().__init__()\n",
        "        # TODO, your code below\n",
        "        self.heads = nn.ModuleList(...)\n",
        "\n",
        "    def forward(self, x):\n",
        "        # TODO, your code below\n",
        "        pass"
      ]
    },
    {
      "cell_type": "markdown",
      "metadata": {
        "id": "aFCBRay3IuR3"
      },
      "source": [
        "##### Question 1.3.3.2: Implement a multi-headed attention LM\n",
        "\n",
        "Fill in the code below to create a language model that outputs its logits for next token prediction using multi-headed attention. Train your model for `SMALL_ITERS` training iterations. Compare the results with the single-headed attention model. Do you see an improvement?\n",
        "\n",
        "We get to a train loss of around 3 in around 5 mins of training."
      ]
    },
    {
      "cell_type": "code",
      "execution_count": null,
      "metadata": {
        "id": "LvWHwcCzI1yr"
      },
      "outputs": [],
      "source": [
        "class MultiHeadedAttentionLM(nn.Module):\n",
        "\n",
        "    def __init__(self, vocab_size, context_window_size, embed_size=384, num_heads=6):\n",
        "      super().__init__()\n",
        "      self.head_size = embed_size // num_heads\n",
        "      self.context_window_size = context_window_size\n",
        "      # TODO: your code below\n",
        "\n",
        "    def forward(self, token_ids, targets=None):\n",
        "        \"\"\"\n",
        "        Args:\n",
        "          token_ids: (B, T) token ids that make up the context (batch has size B, each entry in the\n",
        "                     batch has length T)\n",
        "          targets: (B, T) token ids corresponding to the target of each context in token_ids\n",
        "\n",
        "        Returns:\n",
        "          logits: (B, T, V), logits[b,t] gives the length V vector of logits for the next token\n",
        "                  prediction in string b up to t tokens\n",
        "          loss: scalar, negative log likelihood of target given context\n",
        "        \"\"\"\n",
        "        # TODO: your code below\n",
        "        logits = ...\n",
        "        loss = ...\n",
        "        return logits, loss\n",
        "\n",
        "    @torch.no_grad()\n",
        "    def generate(self, token_ids, max_new_tokens):\n",
        "        \"\"\"\n",
        "        Args:\n",
        "          token_ids: (B, T) tensor of token ids to provide as context\n",
        "          max_new_tokens: int, maximum number of new tokens to generate\n",
        "\n",
        "        Returns:\n",
        "          (B, T+max_new_tokens) tensor of context with new tokens appended\n",
        "        \"\"\"\n",
        "        # TODO: your code below\n",
        "        pass"
      ]
    },
    {
      "cell_type": "markdown",
      "metadata": {
        "id": "A2tKVYDY1XG5"
      },
      "source": [
        "---\n",
        "\n",
        "_your answer here_\n",
        "\n",
        "---"
      ]
    },
    {
      "cell_type": "markdown",
      "metadata": {
        "id": "X9XsUWpwG7uA"
      },
      "source": [
        "### 1.4: The Transformer Architecture: combining attention with deep learning"
      ]
    },
    {
      "cell_type": "code",
      "execution_count": null,
      "metadata": {
        "id": "1GbGqwKWJzOK"
      },
      "outputs": [],
      "source": [
        "# run this cell to initialize this deep learning module that you should use in the code your write later\n",
        "# you don't need to edit this layer\n",
        "class FeedForward(nn.Module):\n",
        "    \"\"\" a simple linear layer followed by a non-linearity\n",
        "        Given to you, you don't need to write any code here!\n",
        "    \"\"\"\n",
        "\n",
        "    def __init__(self, embed_size):\n",
        "        super().__init__()\n",
        "        self.net = nn.Sequential(\n",
        "            nn.Linear(embed_size, 4 * embed_size),\n",
        "            nn.ReLU(),\n",
        "            nn.Linear(4 * embed_size, embed_size),\n",
        "        )\n",
        "\n",
        "    def forward(self, x):\n",
        "        return self.net(x)"
      ]
    },
    {
      "cell_type": "markdown",
      "metadata": {
        "id": "WKJxVp6aJb6i"
      },
      "source": [
        "#### Question 1.4.1: Implement a transformer block\n",
        "\n",
        "Complete the code below to implement a transformer block"
      ]
    },
    {
      "cell_type": "markdown",
      "metadata": {
        "id": "8Jw2I6a8IYOi"
      },
      "source": [
        "To make the your implemenation easier to train, we have added two deep learning best practices:\n",
        "\n",
        "1. Residual connections.\n",
        "In the `forward` method of the `TransformerBlock`, we have made the connections of the residual connection, which of the form\n",
        "\\begin{equation}\n",
        "  x = (I + N)(x),\n",
        "\\end{equation}\n",
        "where $I$ stands for the identity transformation and $N$ stands for some non-linearity. The idea is that every layer is some adjustment of the identity function, which allows gradients to flow through a deep network during back propogation, especially at initialization.\n",
        "\n",
        "2. Prenorm via `LayerNorm`\n",
        "Also in the `forward` method of the `TransformerBlock`, the nonlinearity first applied a `LayerNorm` to its arguments. The `LayerNorm` basically standardizes the neurons in that layer so that they have mean 0 and variance 1. Doing so is very helpful for numerical stability, espeically of the gradients."
      ]
    },
    {
      "cell_type": "code",
      "execution_count": null,
      "metadata": {
        "id": "hUDbIv9eISkf"
      },
      "outputs": [],
      "source": [
        "class TransformerBlock(nn.Module):\n",
        "    \"\"\" Transformer block: communication across sequence length, followed by communication across embedding space\n",
        "        Uses multi-headed attention\n",
        "    \"\"\"\n",
        "\n",
        "    def __init__(self, vocab_size, block_size, embed_size=384, num_heads=6):\n",
        "        super().__init__()\n",
        "        self.ln1 = nn.LayerNorm(embed_size)\n",
        "        self.ln2 = nn.LayerNorm(embed_size)\n",
        "\n",
        "        # TODO: your code below\n",
        "        self.feed_forward = FeedForward(...)\n",
        "        self.mh_attention = ...\n",
        "\n",
        "    def forward(self, x):\n",
        "        x = x + self.mh_attention(self.ln1(x)) # communication over sequence length\n",
        "        x = x + self.feed_forward(self.ln2(x)) # communication across embedding space\n",
        "        return x"
      ]
    },
    {
      "cell_type": "markdown",
      "metadata": {
        "id": "vqCCiCYcKMD0"
      },
      "source": [
        "#### Question 1.4.2: Implement your baseline transformer model\n",
        "\n",
        "We now stack 6 `TransformerBlocks` (with a final layer norm applied after the blocks but before the logits) to create our basline `TransformerLM`."
      ]
    },
    {
      "cell_type": "code",
      "execution_count": null,
      "metadata": {
        "id": "t2veTg9N3ufJ"
      },
      "outputs": [],
      "source": [
        "class TransformerLM(nn.Module):\n",
        "\n",
        "    def __init__(self, vocab_size, context_window_size, embed_size=384, num_heads=6, n_layers=6):\n",
        "        \"\"\"\n",
        "          Args:\n",
        "              vocab_size: int, number of tokens in the vocabulary (V)\n",
        "              context_window_size: int, size of the context window (T)\n",
        "              embed_size: int, embedding size (D)\n",
        "              num_heads: int, number of heads (H)\n",
        "              n_layers: int, number of layers (M)\n",
        "        \"\"\"\n",
        "        super().__init__()\n",
        "        self.token_embedding_table = nn.Embedding(vocab_size, embed_size)\n",
        "        self.position_embedding_table = nn.Embedding(context_window_size, embed_size)\n",
        "        self.blocks = nn.Sequential(*[\n",
        "            TransformerBlock(vocab_size,\n",
        "                             context_window_size,\n",
        "                             embed_size=embed_size,\n",
        "                             num_heads=num_heads)\n",
        "            for _ in range(n_layers)])\n",
        "\n",
        "        # final layer norm\n",
        "        self.ln_f = nn.LayerNorm(embed_size)\n",
        "        self.lm_head = nn.Linear(embed_size, vocab_size)\n",
        "\n",
        "        # good initialization\n",
        "        self.apply(self._init_weights)\n",
        "\n",
        "    def _init_weights(self, module):\n",
        "        if isinstance(module, nn.Linear):\n",
        "            torch.nn.init.normal_(module.weight, mean=0.0, std=0.02)\n",
        "            if module.bias is not None:\n",
        "                torch.nn.init.zeros_(module.bias)\n",
        "        elif isinstance(module, nn.Embedding):\n",
        "            torch.nn.init.normal_(module.weight, mean=0.0, std=0.02)\n",
        "\n",
        "    def forward(self, token_ids, targets=None):\n",
        "        \"\"\"\n",
        "        Agrgs:\n",
        "            token_ids: tensor of integers, provides the contet, shape (B, T)\n",
        "            targets: tensor of integers, provides the tokens we are preidcitng, shape (B, T)\n",
        "        \"\"\"\n",
        "        B, T = token_ids.shape\n",
        "\n",
        "        # token_ids and targets are both (B, T) tensor of integers\n",
        "        tok_emb = self.token_embedding_table(token_ids) # (B, T, D)\n",
        "        pos_emb = self.position_embedding_table(torch.arange(T, device=device)) # (T, D)\n",
        "        x = tok_emb + pos_emb # (B, T, D)\n",
        "\n",
        "        # TODO: your code below\n",
        "        logits = ...\n",
        "        loss = ...\n",
        "\n",
        "        return logits, loss\n",
        "\n",
        "    @torch.no_grad()\n",
        "    def generate(self, token_ids, max_new_tokens):\n",
        "        \"\"\"\n",
        "        Args:\n",
        "            token_ids: tensor of integers forming the context, shape (B, T)\n",
        "            max_new_tokens: int, max number of tokens to generate\n",
        "        \"\"\"\n",
        "        # TOOD, your code below\n",
        "        return token_ids"
      ]
    },
    {
      "cell_type": "markdown",
      "metadata": {
        "id": "JP8430nWKbZ6"
      },
      "source": [
        "Train your `TransformerLM` for `LARGE_ITERS` iterations and plot the loss curve. You may want to change the learning rate.\n",
        "\n",
        "We used a learning rate of `1e-4` and got to a final train loss of around 2.3 in around 25 mins of training."
      ]
    },
    {
      "cell_type": "code",
      "execution_count": null,
      "metadata": {
        "id": "jsnbDpdhLeKo"
      },
      "outputs": [],
      "source": [
        "trans = TransformerLM(vocab_size, context_window_size)\n",
        "tlm = trans.to(device)\n",
        "learning_rate = 1e-4\n",
        "# TODO, your code below"
      ]
    },
    {
      "cell_type": "markdown",
      "metadata": {
        "id": "5Jgvwzv5Ko7c"
      },
      "source": [
        "Generate an unconditional sample of length `context_window_size` from your trained `TransformerLM`, and also prompt it with the two prompts we gave you. How does the output look? Discuss?"
      ]
    },
    {
      "cell_type": "code",
      "execution_count": null,
      "metadata": {
        "id": "89-1t6MRLVi4"
      },
      "outputs": [],
      "source": [
        "# the contexts for the different prompts\n",
        "start_context = torch.zeros((1, 1), dtype=torch.long, device=device)\n",
        "print(f\"shape is {start_context.shape}\")\n",
        "context1 = torch.tensor(from_code_bert(tokenizer.encode(prompt_1_text)[:-1]), device=device).reshape(1, -1) # (1, T)\n",
        "print(f\"shape is {context1.shape}\")\n",
        "context2 = torch.tensor(from_code_bert(tokenizer.encode(prompt_2_text)[:-1])).to(device).reshape(1, -1)\n",
        "print(f\"shape is {context2.shape}\")"
      ]
    },
    {
      "cell_type": "code",
      "execution_count": null,
      "metadata": {
        "id": "9_rxT1iSKzdO"
      },
      "outputs": [],
      "source": [
        "# unconditional generate from the transformer model\n",
        "uncond_gen = (tlm.generate(start_context, max_new_tokens=context_window_size)[0].tolist())\n",
        "print(tokenizer.decode(to_code_bert(uncond_gen)))"
      ]
    },
    {
      "cell_type": "code",
      "execution_count": null,
      "metadata": {
        "id": "1-FeFwD8K4jj"
      },
      "outputs": [],
      "source": [
        "# conditional generation of newton's method\n",
        "# TODO, your code here"
      ]
    },
    {
      "cell_type": "code",
      "execution_count": null,
      "metadata": {
        "id": "tA2TnXBzK6mN"
      },
      "outputs": [],
      "source": [
        "# conditional generation of cosine distance\n",
        "# TODO, your code here"
      ]
    },
    {
      "cell_type": "markdown",
      "metadata": {
        "id": "LgOzvWFDx_yH"
      },
      "source": [
        "#### Question 1.4.3\n",
        "\n",
        "The negative log-likelihood we have been using to train our models can be expressed as\n",
        "\\begin{equation*}\n",
        "  L = -\\frac{1}{T} \\sum_{t = 1}^{T} \\log p(s[t] | \\text{context})\n",
        "\\end{equation*}\n",
        "for some document $s$, where $s[t]$ is the $t$th token of the doc. The natural language processing (NLP) community often reports the quantity\n",
        "\\begin{equation*}\n",
        "  \\text{perplexity} = \\exp(L).\n",
        "\\end{equation*}\n",
        "\n",
        "Give an intuitive interpretation of what perpelxity is. Does the reported perplexity of your trained `TransformerLM` model make sense in terms of samples it generates? (be sure to distinguish betwen `train` and `validation` perplexity). (*Hint: your answer to Question 1.1.6 may be helpful*)."
      ]
    },
    {
      "cell_type": "markdown",
      "metadata": {
        "id": "9Izr1wTOjzlo"
      },
      "source": [
        "## Part 2: Mini-Project"
      ]
    },
    {
      "cell_type": "markdown",
      "metadata": {
        "id": "5lF3jFrQj1f4"
      },
      "source": [
        "Quick recap: So far we have\n",
        "\n",
        "1. Preprocessed the python code dataset by encoding text into integer tokens.\n",
        "2. Implemented single headed attention and then further generalized to multiheaded attention. We further combined multiheaded attention with deep learning to create the transformer architecture.\n",
        "3. Trained our transformer and generate code output.\n",
        "\n",
        "Up to this point, the performance of our simple language model has clearly made a lot of progress. We can see that our model has learned to generate in the style of python code syntax, although there are many quirks that suggest it will not make a very practical code assistant in its current state.\n",
        "\n",
        "### Project Outline\n",
        "\n",
        "Find some area of possible improvement.\n",
        "We interpret \"improvement\" quite loosely, but it is up to you to state precisely in what sense your proposed innovation might constitute an improvement and to show convincing evidence that your innovation does or does not constitue an improvement according to your definition.\n",
        "For your idea, **formulate a hypothesis** for why this change should result in a better model. **Implement your changes** and **report any findings**.\n",
        "\n",
        "_Notes_: As this assignment is being treated as a project, you should expect training to take longer than previous assignments. However, please use your judgement to decide what is reasonable. We will not expect you to run training procedures that take more than 2 hours on the free Google Colab computing resources and we certainly do not expect you to acquire additional compute. The proposed improvements should not solely rely on increased computing demands, but must be based on the goal of improving the model by more efficiently learning from our data.\n",
        "\n",
        "_Hints_: There are many aspects to assessing our model. For example, not only is quality of generated text important, it is also of interest to reduce costs associated with training.\n",
        "\n",
        "### Deliverables\n",
        "\n",
        "In addition to a pdf of your python notebook, the submission for this project will be a written report no more than 4 pages in length using the [NeurIPS LaTex template](https://neurips.cc/Conferences/2023/PaperInformation/StyleFiles). Your report should include detailed analysis of the hypotheses you chose to test along with any conclusions.\n",
        "\n",
        "The page limit for the report does not include bibliography or appendices. Make sure to keep the \"ready for submission\" option to help us grade anonymously. One of your apprendices should contain a link to any code used to generate the project so that we can grade it (google drive with colab nbs or github repo are both fine). You should have at least one plot in your main text (which is capped at 4 pages).\n",
        "\n",
        "### Data augmentation\n",
        "\n",
        "We got the data for this project from [The Stack](https://huggingface.co/datasets/bigcode/the-stack-dedup). If you'd like, you can definitely train on larger datasets by accessing their dataset of python code (we just scratched the surface). You have to make an account on Hugginface to get a Hugginface access token, but the process is pretty quick."
      ]
    },
    {
      "cell_type": "markdown",
      "metadata": {
        "id": "zMq2IE4m5q85"
      },
      "source": [
        "## Submission Instructions\n",
        "\n",
        "You will generate two PDFs: one from parts 0 and 1, which involves completing this colab to create a transformer baseline; and one from the mini-project in part 2, which will be your write-up of no longer than 4 pages.\n",
        "\n",
        "**Combine the two PDFs into a single PDF and submit on gradescope. Tag your PDF correclty.**\n",
        "\n",
        "If you work in a group of two, submit one assignment on gradescope. If you complete the assignment individually, submit as usual."
      ]
    }
  ],
  "metadata": {
    "colab": {
      "provenance": [],
      "toc_visible": true,
      "machine_shape": "hm",
      "gpuType": "V100",
      "include_colab_link": true
    },
    "kernelspec": {
      "display_name": "Python 3",
      "name": "python3"
    },
    "language_info": {
      "name": "python"
    },
    "widgets": {
      "application/vnd.jupyter.widget-state+json": {
        "d4268cd10d554a22b31038d421c7a9e5": {
          "model_module": "@jupyter-widgets/controls",
          "model_name": "HBoxModel",
          "model_module_version": "1.5.0",
          "state": {
            "_dom_classes": [],
            "_model_module": "@jupyter-widgets/controls",
            "_model_module_version": "1.5.0",
            "_model_name": "HBoxModel",
            "_view_count": null,
            "_view_module": "@jupyter-widgets/controls",
            "_view_module_version": "1.5.0",
            "_view_name": "HBoxView",
            "box_style": "",
            "children": [
              "IPY_MODEL_3eeeba545c7d4486b22c694f31840d54",
              "IPY_MODEL_3c2121c0fcd5483e8ed5e7f40f57a518",
              "IPY_MODEL_60f6a20343374b07a0ae5ede3688558f"
            ],
            "layout": "IPY_MODEL_c95afedb287c47598fd7d4cf3b4111ba"
          }
        },
        "3eeeba545c7d4486b22c694f31840d54": {
          "model_module": "@jupyter-widgets/controls",
          "model_name": "HTMLModel",
          "model_module_version": "1.5.0",
          "state": {
            "_dom_classes": [],
            "_model_module": "@jupyter-widgets/controls",
            "_model_module_version": "1.5.0",
            "_model_name": "HTMLModel",
            "_view_count": null,
            "_view_module": "@jupyter-widgets/controls",
            "_view_module_version": "1.5.0",
            "_view_name": "HTMLView",
            "description": "",
            "description_tooltip": null,
            "layout": "IPY_MODEL_0ba8a70ee3ff4f41a6aeed2607ef53d7",
            "placeholder": "​",
            "style": "IPY_MODEL_8a49d929c3f34e3fa4c60d5f6623b6f8",
            "value": "tokenizer_config.json: 100%"
          }
        },
        "3c2121c0fcd5483e8ed5e7f40f57a518": {
          "model_module": "@jupyter-widgets/controls",
          "model_name": "FloatProgressModel",
          "model_module_version": "1.5.0",
          "state": {
            "_dom_classes": [],
            "_model_module": "@jupyter-widgets/controls",
            "_model_module_version": "1.5.0",
            "_model_name": "FloatProgressModel",
            "_view_count": null,
            "_view_module": "@jupyter-widgets/controls",
            "_view_module_version": "1.5.0",
            "_view_name": "ProgressView",
            "bar_style": "success",
            "description": "",
            "description_tooltip": null,
            "layout": "IPY_MODEL_163cef04b6fa447cb94d32430203b436",
            "max": 25,
            "min": 0,
            "orientation": "horizontal",
            "style": "IPY_MODEL_7e09b516e8d6496ca83d8efc3673f2fb",
            "value": 25
          }
        },
        "60f6a20343374b07a0ae5ede3688558f": {
          "model_module": "@jupyter-widgets/controls",
          "model_name": "HTMLModel",
          "model_module_version": "1.5.0",
          "state": {
            "_dom_classes": [],
            "_model_module": "@jupyter-widgets/controls",
            "_model_module_version": "1.5.0",
            "_model_name": "HTMLModel",
            "_view_count": null,
            "_view_module": "@jupyter-widgets/controls",
            "_view_module_version": "1.5.0",
            "_view_name": "HTMLView",
            "description": "",
            "description_tooltip": null,
            "layout": "IPY_MODEL_db413cd9d444459d9fb6a5692fb14174",
            "placeholder": "​",
            "style": "IPY_MODEL_075f72bbc5394e7c9c4b7b9b801adc08",
            "value": " 25.0/25.0 [00:00&lt;00:00, 1.93kB/s]"
          }
        },
        "c95afedb287c47598fd7d4cf3b4111ba": {
          "model_module": "@jupyter-widgets/base",
          "model_name": "LayoutModel",
          "model_module_version": "1.2.0",
          "state": {
            "_model_module": "@jupyter-widgets/base",
            "_model_module_version": "1.2.0",
            "_model_name": "LayoutModel",
            "_view_count": null,
            "_view_module": "@jupyter-widgets/base",
            "_view_module_version": "1.2.0",
            "_view_name": "LayoutView",
            "align_content": null,
            "align_items": null,
            "align_self": null,
            "border": null,
            "bottom": null,
            "display": null,
            "flex": null,
            "flex_flow": null,
            "grid_area": null,
            "grid_auto_columns": null,
            "grid_auto_flow": null,
            "grid_auto_rows": null,
            "grid_column": null,
            "grid_gap": null,
            "grid_row": null,
            "grid_template_areas": null,
            "grid_template_columns": null,
            "grid_template_rows": null,
            "height": null,
            "justify_content": null,
            "justify_items": null,
            "left": null,
            "margin": null,
            "max_height": null,
            "max_width": null,
            "min_height": null,
            "min_width": null,
            "object_fit": null,
            "object_position": null,
            "order": null,
            "overflow": null,
            "overflow_x": null,
            "overflow_y": null,
            "padding": null,
            "right": null,
            "top": null,
            "visibility": null,
            "width": null
          }
        },
        "0ba8a70ee3ff4f41a6aeed2607ef53d7": {
          "model_module": "@jupyter-widgets/base",
          "model_name": "LayoutModel",
          "model_module_version": "1.2.0",
          "state": {
            "_model_module": "@jupyter-widgets/base",
            "_model_module_version": "1.2.0",
            "_model_name": "LayoutModel",
            "_view_count": null,
            "_view_module": "@jupyter-widgets/base",
            "_view_module_version": "1.2.0",
            "_view_name": "LayoutView",
            "align_content": null,
            "align_items": null,
            "align_self": null,
            "border": null,
            "bottom": null,
            "display": null,
            "flex": null,
            "flex_flow": null,
            "grid_area": null,
            "grid_auto_columns": null,
            "grid_auto_flow": null,
            "grid_auto_rows": null,
            "grid_column": null,
            "grid_gap": null,
            "grid_row": null,
            "grid_template_areas": null,
            "grid_template_columns": null,
            "grid_template_rows": null,
            "height": null,
            "justify_content": null,
            "justify_items": null,
            "left": null,
            "margin": null,
            "max_height": null,
            "max_width": null,
            "min_height": null,
            "min_width": null,
            "object_fit": null,
            "object_position": null,
            "order": null,
            "overflow": null,
            "overflow_x": null,
            "overflow_y": null,
            "padding": null,
            "right": null,
            "top": null,
            "visibility": null,
            "width": null
          }
        },
        "8a49d929c3f34e3fa4c60d5f6623b6f8": {
          "model_module": "@jupyter-widgets/controls",
          "model_name": "DescriptionStyleModel",
          "model_module_version": "1.5.0",
          "state": {
            "_model_module": "@jupyter-widgets/controls",
            "_model_module_version": "1.5.0",
            "_model_name": "DescriptionStyleModel",
            "_view_count": null,
            "_view_module": "@jupyter-widgets/base",
            "_view_module_version": "1.2.0",
            "_view_name": "StyleView",
            "description_width": ""
          }
        },
        "163cef04b6fa447cb94d32430203b436": {
          "model_module": "@jupyter-widgets/base",
          "model_name": "LayoutModel",
          "model_module_version": "1.2.0",
          "state": {
            "_model_module": "@jupyter-widgets/base",
            "_model_module_version": "1.2.0",
            "_model_name": "LayoutModel",
            "_view_count": null,
            "_view_module": "@jupyter-widgets/base",
            "_view_module_version": "1.2.0",
            "_view_name": "LayoutView",
            "align_content": null,
            "align_items": null,
            "align_self": null,
            "border": null,
            "bottom": null,
            "display": null,
            "flex": null,
            "flex_flow": null,
            "grid_area": null,
            "grid_auto_columns": null,
            "grid_auto_flow": null,
            "grid_auto_rows": null,
            "grid_column": null,
            "grid_gap": null,
            "grid_row": null,
            "grid_template_areas": null,
            "grid_template_columns": null,
            "grid_template_rows": null,
            "height": null,
            "justify_content": null,
            "justify_items": null,
            "left": null,
            "margin": null,
            "max_height": null,
            "max_width": null,
            "min_height": null,
            "min_width": null,
            "object_fit": null,
            "object_position": null,
            "order": null,
            "overflow": null,
            "overflow_x": null,
            "overflow_y": null,
            "padding": null,
            "right": null,
            "top": null,
            "visibility": null,
            "width": null
          }
        },
        "7e09b516e8d6496ca83d8efc3673f2fb": {
          "model_module": "@jupyter-widgets/controls",
          "model_name": "ProgressStyleModel",
          "model_module_version": "1.5.0",
          "state": {
            "_model_module": "@jupyter-widgets/controls",
            "_model_module_version": "1.5.0",
            "_model_name": "ProgressStyleModel",
            "_view_count": null,
            "_view_module": "@jupyter-widgets/base",
            "_view_module_version": "1.2.0",
            "_view_name": "StyleView",
            "bar_color": null,
            "description_width": ""
          }
        },
        "db413cd9d444459d9fb6a5692fb14174": {
          "model_module": "@jupyter-widgets/base",
          "model_name": "LayoutModel",
          "model_module_version": "1.2.0",
          "state": {
            "_model_module": "@jupyter-widgets/base",
            "_model_module_version": "1.2.0",
            "_model_name": "LayoutModel",
            "_view_count": null,
            "_view_module": "@jupyter-widgets/base",
            "_view_module_version": "1.2.0",
            "_view_name": "LayoutView",
            "align_content": null,
            "align_items": null,
            "align_self": null,
            "border": null,
            "bottom": null,
            "display": null,
            "flex": null,
            "flex_flow": null,
            "grid_area": null,
            "grid_auto_columns": null,
            "grid_auto_flow": null,
            "grid_auto_rows": null,
            "grid_column": null,
            "grid_gap": null,
            "grid_row": null,
            "grid_template_areas": null,
            "grid_template_columns": null,
            "grid_template_rows": null,
            "height": null,
            "justify_content": null,
            "justify_items": null,
            "left": null,
            "margin": null,
            "max_height": null,
            "max_width": null,
            "min_height": null,
            "min_width": null,
            "object_fit": null,
            "object_position": null,
            "order": null,
            "overflow": null,
            "overflow_x": null,
            "overflow_y": null,
            "padding": null,
            "right": null,
            "top": null,
            "visibility": null,
            "width": null
          }
        },
        "075f72bbc5394e7c9c4b7b9b801adc08": {
          "model_module": "@jupyter-widgets/controls",
          "model_name": "DescriptionStyleModel",
          "model_module_version": "1.5.0",
          "state": {
            "_model_module": "@jupyter-widgets/controls",
            "_model_module_version": "1.5.0",
            "_model_name": "DescriptionStyleModel",
            "_view_count": null,
            "_view_module": "@jupyter-widgets/base",
            "_view_module_version": "1.2.0",
            "_view_name": "StyleView",
            "description_width": ""
          }
        },
        "103a5b9848984592862e4b555b0efbaf": {
          "model_module": "@jupyter-widgets/controls",
          "model_name": "HBoxModel",
          "model_module_version": "1.5.0",
          "state": {
            "_dom_classes": [],
            "_model_module": "@jupyter-widgets/controls",
            "_model_module_version": "1.5.0",
            "_model_name": "HBoxModel",
            "_view_count": null,
            "_view_module": "@jupyter-widgets/controls",
            "_view_module_version": "1.5.0",
            "_view_name": "HBoxView",
            "box_style": "",
            "children": [
              "IPY_MODEL_1cb99ca73bba4554aa696d0c1fcf6e4c",
              "IPY_MODEL_8be6fb33bc0e4f3d9567dcfd4deef08b",
              "IPY_MODEL_33d0f5b51ad641cb8ca7bb65b6f9ff56"
            ],
            "layout": "IPY_MODEL_54d51549f62f40d5826eaa0026e9073f"
          }
        },
        "1cb99ca73bba4554aa696d0c1fcf6e4c": {
          "model_module": "@jupyter-widgets/controls",
          "model_name": "HTMLModel",
          "model_module_version": "1.5.0",
          "state": {
            "_dom_classes": [],
            "_model_module": "@jupyter-widgets/controls",
            "_model_module_version": "1.5.0",
            "_model_name": "HTMLModel",
            "_view_count": null,
            "_view_module": "@jupyter-widgets/controls",
            "_view_module_version": "1.5.0",
            "_view_name": "HTMLView",
            "description": "",
            "description_tooltip": null,
            "layout": "IPY_MODEL_bf0e74b7c6a04a32a5fa20e6e09a07cb",
            "placeholder": "​",
            "style": "IPY_MODEL_0098ffa0f5ca40f889b5db0710a9ef49",
            "value": "config.json: 100%"
          }
        },
        "8be6fb33bc0e4f3d9567dcfd4deef08b": {
          "model_module": "@jupyter-widgets/controls",
          "model_name": "FloatProgressModel",
          "model_module_version": "1.5.0",
          "state": {
            "_dom_classes": [],
            "_model_module": "@jupyter-widgets/controls",
            "_model_module_version": "1.5.0",
            "_model_name": "FloatProgressModel",
            "_view_count": null,
            "_view_module": "@jupyter-widgets/controls",
            "_view_module_version": "1.5.0",
            "_view_name": "ProgressView",
            "bar_style": "success",
            "description": "",
            "description_tooltip": null,
            "layout": "IPY_MODEL_a12319ae69d246029993e5e0ed4c32fb",
            "max": 498,
            "min": 0,
            "orientation": "horizontal",
            "style": "IPY_MODEL_0be090d8fe484710a419c09dd8716b78",
            "value": 498
          }
        },
        "33d0f5b51ad641cb8ca7bb65b6f9ff56": {
          "model_module": "@jupyter-widgets/controls",
          "model_name": "HTMLModel",
          "model_module_version": "1.5.0",
          "state": {
            "_dom_classes": [],
            "_model_module": "@jupyter-widgets/controls",
            "_model_module_version": "1.5.0",
            "_model_name": "HTMLModel",
            "_view_count": null,
            "_view_module": "@jupyter-widgets/controls",
            "_view_module_version": "1.5.0",
            "_view_name": "HTMLView",
            "description": "",
            "description_tooltip": null,
            "layout": "IPY_MODEL_7e37032aa2fd4ad1a7dd056a14dd6193",
            "placeholder": "​",
            "style": "IPY_MODEL_233318987de640c688bfc1ab2fb0d76a",
            "value": " 498/498 [00:00&lt;00:00, 29.6kB/s]"
          }
        },
        "54d51549f62f40d5826eaa0026e9073f": {
          "model_module": "@jupyter-widgets/base",
          "model_name": "LayoutModel",
          "model_module_version": "1.2.0",
          "state": {
            "_model_module": "@jupyter-widgets/base",
            "_model_module_version": "1.2.0",
            "_model_name": "LayoutModel",
            "_view_count": null,
            "_view_module": "@jupyter-widgets/base",
            "_view_module_version": "1.2.0",
            "_view_name": "LayoutView",
            "align_content": null,
            "align_items": null,
            "align_self": null,
            "border": null,
            "bottom": null,
            "display": null,
            "flex": null,
            "flex_flow": null,
            "grid_area": null,
            "grid_auto_columns": null,
            "grid_auto_flow": null,
            "grid_auto_rows": null,
            "grid_column": null,
            "grid_gap": null,
            "grid_row": null,
            "grid_template_areas": null,
            "grid_template_columns": null,
            "grid_template_rows": null,
            "height": null,
            "justify_content": null,
            "justify_items": null,
            "left": null,
            "margin": null,
            "max_height": null,
            "max_width": null,
            "min_height": null,
            "min_width": null,
            "object_fit": null,
            "object_position": null,
            "order": null,
            "overflow": null,
            "overflow_x": null,
            "overflow_y": null,
            "padding": null,
            "right": null,
            "top": null,
            "visibility": null,
            "width": null
          }
        },
        "bf0e74b7c6a04a32a5fa20e6e09a07cb": {
          "model_module": "@jupyter-widgets/base",
          "model_name": "LayoutModel",
          "model_module_version": "1.2.0",
          "state": {
            "_model_module": "@jupyter-widgets/base",
            "_model_module_version": "1.2.0",
            "_model_name": "LayoutModel",
            "_view_count": null,
            "_view_module": "@jupyter-widgets/base",
            "_view_module_version": "1.2.0",
            "_view_name": "LayoutView",
            "align_content": null,
            "align_items": null,
            "align_self": null,
            "border": null,
            "bottom": null,
            "display": null,
            "flex": null,
            "flex_flow": null,
            "grid_area": null,
            "grid_auto_columns": null,
            "grid_auto_flow": null,
            "grid_auto_rows": null,
            "grid_column": null,
            "grid_gap": null,
            "grid_row": null,
            "grid_template_areas": null,
            "grid_template_columns": null,
            "grid_template_rows": null,
            "height": null,
            "justify_content": null,
            "justify_items": null,
            "left": null,
            "margin": null,
            "max_height": null,
            "max_width": null,
            "min_height": null,
            "min_width": null,
            "object_fit": null,
            "object_position": null,
            "order": null,
            "overflow": null,
            "overflow_x": null,
            "overflow_y": null,
            "padding": null,
            "right": null,
            "top": null,
            "visibility": null,
            "width": null
          }
        },
        "0098ffa0f5ca40f889b5db0710a9ef49": {
          "model_module": "@jupyter-widgets/controls",
          "model_name": "DescriptionStyleModel",
          "model_module_version": "1.5.0",
          "state": {
            "_model_module": "@jupyter-widgets/controls",
            "_model_module_version": "1.5.0",
            "_model_name": "DescriptionStyleModel",
            "_view_count": null,
            "_view_module": "@jupyter-widgets/base",
            "_view_module_version": "1.2.0",
            "_view_name": "StyleView",
            "description_width": ""
          }
        },
        "a12319ae69d246029993e5e0ed4c32fb": {
          "model_module": "@jupyter-widgets/base",
          "model_name": "LayoutModel",
          "model_module_version": "1.2.0",
          "state": {
            "_model_module": "@jupyter-widgets/base",
            "_model_module_version": "1.2.0",
            "_model_name": "LayoutModel",
            "_view_count": null,
            "_view_module": "@jupyter-widgets/base",
            "_view_module_version": "1.2.0",
            "_view_name": "LayoutView",
            "align_content": null,
            "align_items": null,
            "align_self": null,
            "border": null,
            "bottom": null,
            "display": null,
            "flex": null,
            "flex_flow": null,
            "grid_area": null,
            "grid_auto_columns": null,
            "grid_auto_flow": null,
            "grid_auto_rows": null,
            "grid_column": null,
            "grid_gap": null,
            "grid_row": null,
            "grid_template_areas": null,
            "grid_template_columns": null,
            "grid_template_rows": null,
            "height": null,
            "justify_content": null,
            "justify_items": null,
            "left": null,
            "margin": null,
            "max_height": null,
            "max_width": null,
            "min_height": null,
            "min_width": null,
            "object_fit": null,
            "object_position": null,
            "order": null,
            "overflow": null,
            "overflow_x": null,
            "overflow_y": null,
            "padding": null,
            "right": null,
            "top": null,
            "visibility": null,
            "width": null
          }
        },
        "0be090d8fe484710a419c09dd8716b78": {
          "model_module": "@jupyter-widgets/controls",
          "model_name": "ProgressStyleModel",
          "model_module_version": "1.5.0",
          "state": {
            "_model_module": "@jupyter-widgets/controls",
            "_model_module_version": "1.5.0",
            "_model_name": "ProgressStyleModel",
            "_view_count": null,
            "_view_module": "@jupyter-widgets/base",
            "_view_module_version": "1.2.0",
            "_view_name": "StyleView",
            "bar_color": null,
            "description_width": ""
          }
        },
        "7e37032aa2fd4ad1a7dd056a14dd6193": {
          "model_module": "@jupyter-widgets/base",
          "model_name": "LayoutModel",
          "model_module_version": "1.2.0",
          "state": {
            "_model_module": "@jupyter-widgets/base",
            "_model_module_version": "1.2.0",
            "_model_name": "LayoutModel",
            "_view_count": null,
            "_view_module": "@jupyter-widgets/base",
            "_view_module_version": "1.2.0",
            "_view_name": "LayoutView",
            "align_content": null,
            "align_items": null,
            "align_self": null,
            "border": null,
            "bottom": null,
            "display": null,
            "flex": null,
            "flex_flow": null,
            "grid_area": null,
            "grid_auto_columns": null,
            "grid_auto_flow": null,
            "grid_auto_rows": null,
            "grid_column": null,
            "grid_gap": null,
            "grid_row": null,
            "grid_template_areas": null,
            "grid_template_columns": null,
            "grid_template_rows": null,
            "height": null,
            "justify_content": null,
            "justify_items": null,
            "left": null,
            "margin": null,
            "max_height": null,
            "max_width": null,
            "min_height": null,
            "min_width": null,
            "object_fit": null,
            "object_position": null,
            "order": null,
            "overflow": null,
            "overflow_x": null,
            "overflow_y": null,
            "padding": null,
            "right": null,
            "top": null,
            "visibility": null,
            "width": null
          }
        },
        "233318987de640c688bfc1ab2fb0d76a": {
          "model_module": "@jupyter-widgets/controls",
          "model_name": "DescriptionStyleModel",
          "model_module_version": "1.5.0",
          "state": {
            "_model_module": "@jupyter-widgets/controls",
            "_model_module_version": "1.5.0",
            "_model_name": "DescriptionStyleModel",
            "_view_count": null,
            "_view_module": "@jupyter-widgets/base",
            "_view_module_version": "1.2.0",
            "_view_name": "StyleView",
            "description_width": ""
          }
        },
        "3a55e1aa23d34deeb7cd23143d6f5195": {
          "model_module": "@jupyter-widgets/controls",
          "model_name": "HBoxModel",
          "model_module_version": "1.5.0",
          "state": {
            "_dom_classes": [],
            "_model_module": "@jupyter-widgets/controls",
            "_model_module_version": "1.5.0",
            "_model_name": "HBoxModel",
            "_view_count": null,
            "_view_module": "@jupyter-widgets/controls",
            "_view_module_version": "1.5.0",
            "_view_name": "HBoxView",
            "box_style": "",
            "children": [
              "IPY_MODEL_638173881761435d893e4250bf59866b",
              "IPY_MODEL_2e91861aaf274ce595079544fe631ef9",
              "IPY_MODEL_1e939327696a4319a609cc866e34766c"
            ],
            "layout": "IPY_MODEL_58f65771dbba44afa40966c80b89b11d"
          }
        },
        "638173881761435d893e4250bf59866b": {
          "model_module": "@jupyter-widgets/controls",
          "model_name": "HTMLModel",
          "model_module_version": "1.5.0",
          "state": {
            "_dom_classes": [],
            "_model_module": "@jupyter-widgets/controls",
            "_model_module_version": "1.5.0",
            "_model_name": "HTMLModel",
            "_view_count": null,
            "_view_module": "@jupyter-widgets/controls",
            "_view_module_version": "1.5.0",
            "_view_name": "HTMLView",
            "description": "",
            "description_tooltip": null,
            "layout": "IPY_MODEL_b56cd7b14d2b42de8a853e2e601f4e2f",
            "placeholder": "​",
            "style": "IPY_MODEL_1f1895d006b44b72bc7536e68558d45c",
            "value": "vocab.json: 100%"
          }
        },
        "2e91861aaf274ce595079544fe631ef9": {
          "model_module": "@jupyter-widgets/controls",
          "model_name": "FloatProgressModel",
          "model_module_version": "1.5.0",
          "state": {
            "_dom_classes": [],
            "_model_module": "@jupyter-widgets/controls",
            "_model_module_version": "1.5.0",
            "_model_name": "FloatProgressModel",
            "_view_count": null,
            "_view_module": "@jupyter-widgets/controls",
            "_view_module_version": "1.5.0",
            "_view_name": "ProgressView",
            "bar_style": "success",
            "description": "",
            "description_tooltip": null,
            "layout": "IPY_MODEL_b0c7754240bd4ab0b75d0030281a1576",
            "max": 898822,
            "min": 0,
            "orientation": "horizontal",
            "style": "IPY_MODEL_0f00d72556d949ed88c4ad3a7b48f11f",
            "value": 898822
          }
        },
        "1e939327696a4319a609cc866e34766c": {
          "model_module": "@jupyter-widgets/controls",
          "model_name": "HTMLModel",
          "model_module_version": "1.5.0",
          "state": {
            "_dom_classes": [],
            "_model_module": "@jupyter-widgets/controls",
            "_model_module_version": "1.5.0",
            "_model_name": "HTMLModel",
            "_view_count": null,
            "_view_module": "@jupyter-widgets/controls",
            "_view_module_version": "1.5.0",
            "_view_name": "HTMLView",
            "description": "",
            "description_tooltip": null,
            "layout": "IPY_MODEL_debc602a88f5496eb9a7ab04a2493a59",
            "placeholder": "​",
            "style": "IPY_MODEL_9bf7ab4a0a654fa795b4f65d71a0ab64",
            "value": " 899k/899k [00:00&lt;00:00, 2.77MB/s]"
          }
        },
        "58f65771dbba44afa40966c80b89b11d": {
          "model_module": "@jupyter-widgets/base",
          "model_name": "LayoutModel",
          "model_module_version": "1.2.0",
          "state": {
            "_model_module": "@jupyter-widgets/base",
            "_model_module_version": "1.2.0",
            "_model_name": "LayoutModel",
            "_view_count": null,
            "_view_module": "@jupyter-widgets/base",
            "_view_module_version": "1.2.0",
            "_view_name": "LayoutView",
            "align_content": null,
            "align_items": null,
            "align_self": null,
            "border": null,
            "bottom": null,
            "display": null,
            "flex": null,
            "flex_flow": null,
            "grid_area": null,
            "grid_auto_columns": null,
            "grid_auto_flow": null,
            "grid_auto_rows": null,
            "grid_column": null,
            "grid_gap": null,
            "grid_row": null,
            "grid_template_areas": null,
            "grid_template_columns": null,
            "grid_template_rows": null,
            "height": null,
            "justify_content": null,
            "justify_items": null,
            "left": null,
            "margin": null,
            "max_height": null,
            "max_width": null,
            "min_height": null,
            "min_width": null,
            "object_fit": null,
            "object_position": null,
            "order": null,
            "overflow": null,
            "overflow_x": null,
            "overflow_y": null,
            "padding": null,
            "right": null,
            "top": null,
            "visibility": null,
            "width": null
          }
        },
        "b56cd7b14d2b42de8a853e2e601f4e2f": {
          "model_module": "@jupyter-widgets/base",
          "model_name": "LayoutModel",
          "model_module_version": "1.2.0",
          "state": {
            "_model_module": "@jupyter-widgets/base",
            "_model_module_version": "1.2.0",
            "_model_name": "LayoutModel",
            "_view_count": null,
            "_view_module": "@jupyter-widgets/base",
            "_view_module_version": "1.2.0",
            "_view_name": "LayoutView",
            "align_content": null,
            "align_items": null,
            "align_self": null,
            "border": null,
            "bottom": null,
            "display": null,
            "flex": null,
            "flex_flow": null,
            "grid_area": null,
            "grid_auto_columns": null,
            "grid_auto_flow": null,
            "grid_auto_rows": null,
            "grid_column": null,
            "grid_gap": null,
            "grid_row": null,
            "grid_template_areas": null,
            "grid_template_columns": null,
            "grid_template_rows": null,
            "height": null,
            "justify_content": null,
            "justify_items": null,
            "left": null,
            "margin": null,
            "max_height": null,
            "max_width": null,
            "min_height": null,
            "min_width": null,
            "object_fit": null,
            "object_position": null,
            "order": null,
            "overflow": null,
            "overflow_x": null,
            "overflow_y": null,
            "padding": null,
            "right": null,
            "top": null,
            "visibility": null,
            "width": null
          }
        },
        "1f1895d006b44b72bc7536e68558d45c": {
          "model_module": "@jupyter-widgets/controls",
          "model_name": "DescriptionStyleModel",
          "model_module_version": "1.5.0",
          "state": {
            "_model_module": "@jupyter-widgets/controls",
            "_model_module_version": "1.5.0",
            "_model_name": "DescriptionStyleModel",
            "_view_count": null,
            "_view_module": "@jupyter-widgets/base",
            "_view_module_version": "1.2.0",
            "_view_name": "StyleView",
            "description_width": ""
          }
        },
        "b0c7754240bd4ab0b75d0030281a1576": {
          "model_module": "@jupyter-widgets/base",
          "model_name": "LayoutModel",
          "model_module_version": "1.2.0",
          "state": {
            "_model_module": "@jupyter-widgets/base",
            "_model_module_version": "1.2.0",
            "_model_name": "LayoutModel",
            "_view_count": null,
            "_view_module": "@jupyter-widgets/base",
            "_view_module_version": "1.2.0",
            "_view_name": "LayoutView",
            "align_content": null,
            "align_items": null,
            "align_self": null,
            "border": null,
            "bottom": null,
            "display": null,
            "flex": null,
            "flex_flow": null,
            "grid_area": null,
            "grid_auto_columns": null,
            "grid_auto_flow": null,
            "grid_auto_rows": null,
            "grid_column": null,
            "grid_gap": null,
            "grid_row": null,
            "grid_template_areas": null,
            "grid_template_columns": null,
            "grid_template_rows": null,
            "height": null,
            "justify_content": null,
            "justify_items": null,
            "left": null,
            "margin": null,
            "max_height": null,
            "max_width": null,
            "min_height": null,
            "min_width": null,
            "object_fit": null,
            "object_position": null,
            "order": null,
            "overflow": null,
            "overflow_x": null,
            "overflow_y": null,
            "padding": null,
            "right": null,
            "top": null,
            "visibility": null,
            "width": null
          }
        },
        "0f00d72556d949ed88c4ad3a7b48f11f": {
          "model_module": "@jupyter-widgets/controls",
          "model_name": "ProgressStyleModel",
          "model_module_version": "1.5.0",
          "state": {
            "_model_module": "@jupyter-widgets/controls",
            "_model_module_version": "1.5.0",
            "_model_name": "ProgressStyleModel",
            "_view_count": null,
            "_view_module": "@jupyter-widgets/base",
            "_view_module_version": "1.2.0",
            "_view_name": "StyleView",
            "bar_color": null,
            "description_width": ""
          }
        },
        "debc602a88f5496eb9a7ab04a2493a59": {
          "model_module": "@jupyter-widgets/base",
          "model_name": "LayoutModel",
          "model_module_version": "1.2.0",
          "state": {
            "_model_module": "@jupyter-widgets/base",
            "_model_module_version": "1.2.0",
            "_model_name": "LayoutModel",
            "_view_count": null,
            "_view_module": "@jupyter-widgets/base",
            "_view_module_version": "1.2.0",
            "_view_name": "LayoutView",
            "align_content": null,
            "align_items": null,
            "align_self": null,
            "border": null,
            "bottom": null,
            "display": null,
            "flex": null,
            "flex_flow": null,
            "grid_area": null,
            "grid_auto_columns": null,
            "grid_auto_flow": null,
            "grid_auto_rows": null,
            "grid_column": null,
            "grid_gap": null,
            "grid_row": null,
            "grid_template_areas": null,
            "grid_template_columns": null,
            "grid_template_rows": null,
            "height": null,
            "justify_content": null,
            "justify_items": null,
            "left": null,
            "margin": null,
            "max_height": null,
            "max_width": null,
            "min_height": null,
            "min_width": null,
            "object_fit": null,
            "object_position": null,
            "order": null,
            "overflow": null,
            "overflow_x": null,
            "overflow_y": null,
            "padding": null,
            "right": null,
            "top": null,
            "visibility": null,
            "width": null
          }
        },
        "9bf7ab4a0a654fa795b4f65d71a0ab64": {
          "model_module": "@jupyter-widgets/controls",
          "model_name": "DescriptionStyleModel",
          "model_module_version": "1.5.0",
          "state": {
            "_model_module": "@jupyter-widgets/controls",
            "_model_module_version": "1.5.0",
            "_model_name": "DescriptionStyleModel",
            "_view_count": null,
            "_view_module": "@jupyter-widgets/base",
            "_view_module_version": "1.2.0",
            "_view_name": "StyleView",
            "description_width": ""
          }
        },
        "f284b2cbeb4840469982ac0f433c249c": {
          "model_module": "@jupyter-widgets/controls",
          "model_name": "HBoxModel",
          "model_module_version": "1.5.0",
          "state": {
            "_dom_classes": [],
            "_model_module": "@jupyter-widgets/controls",
            "_model_module_version": "1.5.0",
            "_model_name": "HBoxModel",
            "_view_count": null,
            "_view_module": "@jupyter-widgets/controls",
            "_view_module_version": "1.5.0",
            "_view_name": "HBoxView",
            "box_style": "",
            "children": [
              "IPY_MODEL_d8acee6dd6164f36b50637e1924feaac",
              "IPY_MODEL_07a6681f7d1242c78b3f40de55e33302",
              "IPY_MODEL_33f7c40289d447559252f3397f9c48e6"
            ],
            "layout": "IPY_MODEL_503adfc82c9f49549404f63fb420f108"
          }
        },
        "d8acee6dd6164f36b50637e1924feaac": {
          "model_module": "@jupyter-widgets/controls",
          "model_name": "HTMLModel",
          "model_module_version": "1.5.0",
          "state": {
            "_dom_classes": [],
            "_model_module": "@jupyter-widgets/controls",
            "_model_module_version": "1.5.0",
            "_model_name": "HTMLModel",
            "_view_count": null,
            "_view_module": "@jupyter-widgets/controls",
            "_view_module_version": "1.5.0",
            "_view_name": "HTMLView",
            "description": "",
            "description_tooltip": null,
            "layout": "IPY_MODEL_529f7c4156094db183b391ad8af42102",
            "placeholder": "​",
            "style": "IPY_MODEL_0b267ffe059c4d70bf04a859664b45e8",
            "value": "merges.txt: 100%"
          }
        },
        "07a6681f7d1242c78b3f40de55e33302": {
          "model_module": "@jupyter-widgets/controls",
          "model_name": "FloatProgressModel",
          "model_module_version": "1.5.0",
          "state": {
            "_dom_classes": [],
            "_model_module": "@jupyter-widgets/controls",
            "_model_module_version": "1.5.0",
            "_model_name": "FloatProgressModel",
            "_view_count": null,
            "_view_module": "@jupyter-widgets/controls",
            "_view_module_version": "1.5.0",
            "_view_name": "ProgressView",
            "bar_style": "success",
            "description": "",
            "description_tooltip": null,
            "layout": "IPY_MODEL_ba7124ce57a145d19e24e867d207a58f",
            "max": 456318,
            "min": 0,
            "orientation": "horizontal",
            "style": "IPY_MODEL_5107944089b34f57a70ddd0723e30725",
            "value": 456318
          }
        },
        "33f7c40289d447559252f3397f9c48e6": {
          "model_module": "@jupyter-widgets/controls",
          "model_name": "HTMLModel",
          "model_module_version": "1.5.0",
          "state": {
            "_dom_classes": [],
            "_model_module": "@jupyter-widgets/controls",
            "_model_module_version": "1.5.0",
            "_model_name": "HTMLModel",
            "_view_count": null,
            "_view_module": "@jupyter-widgets/controls",
            "_view_module_version": "1.5.0",
            "_view_name": "HTMLView",
            "description": "",
            "description_tooltip": null,
            "layout": "IPY_MODEL_8126ba06df4044a18cee576ecfdd3285",
            "placeholder": "​",
            "style": "IPY_MODEL_2e49877125bc40c2a0fd72c8099608f7",
            "value": " 456k/456k [00:00&lt;00:00, 1.88MB/s]"
          }
        },
        "503adfc82c9f49549404f63fb420f108": {
          "model_module": "@jupyter-widgets/base",
          "model_name": "LayoutModel",
          "model_module_version": "1.2.0",
          "state": {
            "_model_module": "@jupyter-widgets/base",
            "_model_module_version": "1.2.0",
            "_model_name": "LayoutModel",
            "_view_count": null,
            "_view_module": "@jupyter-widgets/base",
            "_view_module_version": "1.2.0",
            "_view_name": "LayoutView",
            "align_content": null,
            "align_items": null,
            "align_self": null,
            "border": null,
            "bottom": null,
            "display": null,
            "flex": null,
            "flex_flow": null,
            "grid_area": null,
            "grid_auto_columns": null,
            "grid_auto_flow": null,
            "grid_auto_rows": null,
            "grid_column": null,
            "grid_gap": null,
            "grid_row": null,
            "grid_template_areas": null,
            "grid_template_columns": null,
            "grid_template_rows": null,
            "height": null,
            "justify_content": null,
            "justify_items": null,
            "left": null,
            "margin": null,
            "max_height": null,
            "max_width": null,
            "min_height": null,
            "min_width": null,
            "object_fit": null,
            "object_position": null,
            "order": null,
            "overflow": null,
            "overflow_x": null,
            "overflow_y": null,
            "padding": null,
            "right": null,
            "top": null,
            "visibility": null,
            "width": null
          }
        },
        "529f7c4156094db183b391ad8af42102": {
          "model_module": "@jupyter-widgets/base",
          "model_name": "LayoutModel",
          "model_module_version": "1.2.0",
          "state": {
            "_model_module": "@jupyter-widgets/base",
            "_model_module_version": "1.2.0",
            "_model_name": "LayoutModel",
            "_view_count": null,
            "_view_module": "@jupyter-widgets/base",
            "_view_module_version": "1.2.0",
            "_view_name": "LayoutView",
            "align_content": null,
            "align_items": null,
            "align_self": null,
            "border": null,
            "bottom": null,
            "display": null,
            "flex": null,
            "flex_flow": null,
            "grid_area": null,
            "grid_auto_columns": null,
            "grid_auto_flow": null,
            "grid_auto_rows": null,
            "grid_column": null,
            "grid_gap": null,
            "grid_row": null,
            "grid_template_areas": null,
            "grid_template_columns": null,
            "grid_template_rows": null,
            "height": null,
            "justify_content": null,
            "justify_items": null,
            "left": null,
            "margin": null,
            "max_height": null,
            "max_width": null,
            "min_height": null,
            "min_width": null,
            "object_fit": null,
            "object_position": null,
            "order": null,
            "overflow": null,
            "overflow_x": null,
            "overflow_y": null,
            "padding": null,
            "right": null,
            "top": null,
            "visibility": null,
            "width": null
          }
        },
        "0b267ffe059c4d70bf04a859664b45e8": {
          "model_module": "@jupyter-widgets/controls",
          "model_name": "DescriptionStyleModel",
          "model_module_version": "1.5.0",
          "state": {
            "_model_module": "@jupyter-widgets/controls",
            "_model_module_version": "1.5.0",
            "_model_name": "DescriptionStyleModel",
            "_view_count": null,
            "_view_module": "@jupyter-widgets/base",
            "_view_module_version": "1.2.0",
            "_view_name": "StyleView",
            "description_width": ""
          }
        },
        "ba7124ce57a145d19e24e867d207a58f": {
          "model_module": "@jupyter-widgets/base",
          "model_name": "LayoutModel",
          "model_module_version": "1.2.0",
          "state": {
            "_model_module": "@jupyter-widgets/base",
            "_model_module_version": "1.2.0",
            "_model_name": "LayoutModel",
            "_view_count": null,
            "_view_module": "@jupyter-widgets/base",
            "_view_module_version": "1.2.0",
            "_view_name": "LayoutView",
            "align_content": null,
            "align_items": null,
            "align_self": null,
            "border": null,
            "bottom": null,
            "display": null,
            "flex": null,
            "flex_flow": null,
            "grid_area": null,
            "grid_auto_columns": null,
            "grid_auto_flow": null,
            "grid_auto_rows": null,
            "grid_column": null,
            "grid_gap": null,
            "grid_row": null,
            "grid_template_areas": null,
            "grid_template_columns": null,
            "grid_template_rows": null,
            "height": null,
            "justify_content": null,
            "justify_items": null,
            "left": null,
            "margin": null,
            "max_height": null,
            "max_width": null,
            "min_height": null,
            "min_width": null,
            "object_fit": null,
            "object_position": null,
            "order": null,
            "overflow": null,
            "overflow_x": null,
            "overflow_y": null,
            "padding": null,
            "right": null,
            "top": null,
            "visibility": null,
            "width": null
          }
        },
        "5107944089b34f57a70ddd0723e30725": {
          "model_module": "@jupyter-widgets/controls",
          "model_name": "ProgressStyleModel",
          "model_module_version": "1.5.0",
          "state": {
            "_model_module": "@jupyter-widgets/controls",
            "_model_module_version": "1.5.0",
            "_model_name": "ProgressStyleModel",
            "_view_count": null,
            "_view_module": "@jupyter-widgets/base",
            "_view_module_version": "1.2.0",
            "_view_name": "StyleView",
            "bar_color": null,
            "description_width": ""
          }
        },
        "8126ba06df4044a18cee576ecfdd3285": {
          "model_module": "@jupyter-widgets/base",
          "model_name": "LayoutModel",
          "model_module_version": "1.2.0",
          "state": {
            "_model_module": "@jupyter-widgets/base",
            "_model_module_version": "1.2.0",
            "_model_name": "LayoutModel",
            "_view_count": null,
            "_view_module": "@jupyter-widgets/base",
            "_view_module_version": "1.2.0",
            "_view_name": "LayoutView",
            "align_content": null,
            "align_items": null,
            "align_self": null,
            "border": null,
            "bottom": null,
            "display": null,
            "flex": null,
            "flex_flow": null,
            "grid_area": null,
            "grid_auto_columns": null,
            "grid_auto_flow": null,
            "grid_auto_rows": null,
            "grid_column": null,
            "grid_gap": null,
            "grid_row": null,
            "grid_template_areas": null,
            "grid_template_columns": null,
            "grid_template_rows": null,
            "height": null,
            "justify_content": null,
            "justify_items": null,
            "left": null,
            "margin": null,
            "max_height": null,
            "max_width": null,
            "min_height": null,
            "min_width": null,
            "object_fit": null,
            "object_position": null,
            "order": null,
            "overflow": null,
            "overflow_x": null,
            "overflow_y": null,
            "padding": null,
            "right": null,
            "top": null,
            "visibility": null,
            "width": null
          }
        },
        "2e49877125bc40c2a0fd72c8099608f7": {
          "model_module": "@jupyter-widgets/controls",
          "model_name": "DescriptionStyleModel",
          "model_module_version": "1.5.0",
          "state": {
            "_model_module": "@jupyter-widgets/controls",
            "_model_module_version": "1.5.0",
            "_model_name": "DescriptionStyleModel",
            "_view_count": null,
            "_view_module": "@jupyter-widgets/base",
            "_view_module_version": "1.2.0",
            "_view_name": "StyleView",
            "description_width": ""
          }
        },
        "489b6468d54c4d8690570602621f9e2e": {
          "model_module": "@jupyter-widgets/controls",
          "model_name": "HBoxModel",
          "model_module_version": "1.5.0",
          "state": {
            "_dom_classes": [],
            "_model_module": "@jupyter-widgets/controls",
            "_model_module_version": "1.5.0",
            "_model_name": "HBoxModel",
            "_view_count": null,
            "_view_module": "@jupyter-widgets/controls",
            "_view_module_version": "1.5.0",
            "_view_name": "HBoxView",
            "box_style": "",
            "children": [
              "IPY_MODEL_b29169776b9844d7921709e3e9562d24",
              "IPY_MODEL_7f5a3eff43774fcd941bd2b62626cec9",
              "IPY_MODEL_dd9b485ce98343c9a145c09ba46339c3"
            ],
            "layout": "IPY_MODEL_5f0a517efe8e40a3beebd76a258793dc"
          }
        },
        "b29169776b9844d7921709e3e9562d24": {
          "model_module": "@jupyter-widgets/controls",
          "model_name": "HTMLModel",
          "model_module_version": "1.5.0",
          "state": {
            "_dom_classes": [],
            "_model_module": "@jupyter-widgets/controls",
            "_model_module_version": "1.5.0",
            "_model_name": "HTMLModel",
            "_view_count": null,
            "_view_module": "@jupyter-widgets/controls",
            "_view_module_version": "1.5.0",
            "_view_name": "HTMLView",
            "description": "",
            "description_tooltip": null,
            "layout": "IPY_MODEL_5b7888c177e14110bf21b044231b3dab",
            "placeholder": "​",
            "style": "IPY_MODEL_2313f954e29e46a5a8777e88563a5e9e",
            "value": "special_tokens_map.json: 100%"
          }
        },
        "7f5a3eff43774fcd941bd2b62626cec9": {
          "model_module": "@jupyter-widgets/controls",
          "model_name": "FloatProgressModel",
          "model_module_version": "1.5.0",
          "state": {
            "_dom_classes": [],
            "_model_module": "@jupyter-widgets/controls",
            "_model_module_version": "1.5.0",
            "_model_name": "FloatProgressModel",
            "_view_count": null,
            "_view_module": "@jupyter-widgets/controls",
            "_view_module_version": "1.5.0",
            "_view_name": "ProgressView",
            "bar_style": "success",
            "description": "",
            "description_tooltip": null,
            "layout": "IPY_MODEL_7c93de84782d4c5e81b408a57663bf6d",
            "max": 150,
            "min": 0,
            "orientation": "horizontal",
            "style": "IPY_MODEL_816ed4dd3a9a4a2babddc5a6af5d2489",
            "value": 150
          }
        },
        "dd9b485ce98343c9a145c09ba46339c3": {
          "model_module": "@jupyter-widgets/controls",
          "model_name": "HTMLModel",
          "model_module_version": "1.5.0",
          "state": {
            "_dom_classes": [],
            "_model_module": "@jupyter-widgets/controls",
            "_model_module_version": "1.5.0",
            "_model_name": "HTMLModel",
            "_view_count": null,
            "_view_module": "@jupyter-widgets/controls",
            "_view_module_version": "1.5.0",
            "_view_name": "HTMLView",
            "description": "",
            "description_tooltip": null,
            "layout": "IPY_MODEL_306ea42e839442b2ae15407696f529b6",
            "placeholder": "​",
            "style": "IPY_MODEL_2561ffdf9ac14f36890d578e7a44dc0f",
            "value": " 150/150 [00:00&lt;00:00, 11.6kB/s]"
          }
        },
        "5f0a517efe8e40a3beebd76a258793dc": {
          "model_module": "@jupyter-widgets/base",
          "model_name": "LayoutModel",
          "model_module_version": "1.2.0",
          "state": {
            "_model_module": "@jupyter-widgets/base",
            "_model_module_version": "1.2.0",
            "_model_name": "LayoutModel",
            "_view_count": null,
            "_view_module": "@jupyter-widgets/base",
            "_view_module_version": "1.2.0",
            "_view_name": "LayoutView",
            "align_content": null,
            "align_items": null,
            "align_self": null,
            "border": null,
            "bottom": null,
            "display": null,
            "flex": null,
            "flex_flow": null,
            "grid_area": null,
            "grid_auto_columns": null,
            "grid_auto_flow": null,
            "grid_auto_rows": null,
            "grid_column": null,
            "grid_gap": null,
            "grid_row": null,
            "grid_template_areas": null,
            "grid_template_columns": null,
            "grid_template_rows": null,
            "height": null,
            "justify_content": null,
            "justify_items": null,
            "left": null,
            "margin": null,
            "max_height": null,
            "max_width": null,
            "min_height": null,
            "min_width": null,
            "object_fit": null,
            "object_position": null,
            "order": null,
            "overflow": null,
            "overflow_x": null,
            "overflow_y": null,
            "padding": null,
            "right": null,
            "top": null,
            "visibility": null,
            "width": null
          }
        },
        "5b7888c177e14110bf21b044231b3dab": {
          "model_module": "@jupyter-widgets/base",
          "model_name": "LayoutModel",
          "model_module_version": "1.2.0",
          "state": {
            "_model_module": "@jupyter-widgets/base",
            "_model_module_version": "1.2.0",
            "_model_name": "LayoutModel",
            "_view_count": null,
            "_view_module": "@jupyter-widgets/base",
            "_view_module_version": "1.2.0",
            "_view_name": "LayoutView",
            "align_content": null,
            "align_items": null,
            "align_self": null,
            "border": null,
            "bottom": null,
            "display": null,
            "flex": null,
            "flex_flow": null,
            "grid_area": null,
            "grid_auto_columns": null,
            "grid_auto_flow": null,
            "grid_auto_rows": null,
            "grid_column": null,
            "grid_gap": null,
            "grid_row": null,
            "grid_template_areas": null,
            "grid_template_columns": null,
            "grid_template_rows": null,
            "height": null,
            "justify_content": null,
            "justify_items": null,
            "left": null,
            "margin": null,
            "max_height": null,
            "max_width": null,
            "min_height": null,
            "min_width": null,
            "object_fit": null,
            "object_position": null,
            "order": null,
            "overflow": null,
            "overflow_x": null,
            "overflow_y": null,
            "padding": null,
            "right": null,
            "top": null,
            "visibility": null,
            "width": null
          }
        },
        "2313f954e29e46a5a8777e88563a5e9e": {
          "model_module": "@jupyter-widgets/controls",
          "model_name": "DescriptionStyleModel",
          "model_module_version": "1.5.0",
          "state": {
            "_model_module": "@jupyter-widgets/controls",
            "_model_module_version": "1.5.0",
            "_model_name": "DescriptionStyleModel",
            "_view_count": null,
            "_view_module": "@jupyter-widgets/base",
            "_view_module_version": "1.2.0",
            "_view_name": "StyleView",
            "description_width": ""
          }
        },
        "7c93de84782d4c5e81b408a57663bf6d": {
          "model_module": "@jupyter-widgets/base",
          "model_name": "LayoutModel",
          "model_module_version": "1.2.0",
          "state": {
            "_model_module": "@jupyter-widgets/base",
            "_model_module_version": "1.2.0",
            "_model_name": "LayoutModel",
            "_view_count": null,
            "_view_module": "@jupyter-widgets/base",
            "_view_module_version": "1.2.0",
            "_view_name": "LayoutView",
            "align_content": null,
            "align_items": null,
            "align_self": null,
            "border": null,
            "bottom": null,
            "display": null,
            "flex": null,
            "flex_flow": null,
            "grid_area": null,
            "grid_auto_columns": null,
            "grid_auto_flow": null,
            "grid_auto_rows": null,
            "grid_column": null,
            "grid_gap": null,
            "grid_row": null,
            "grid_template_areas": null,
            "grid_template_columns": null,
            "grid_template_rows": null,
            "height": null,
            "justify_content": null,
            "justify_items": null,
            "left": null,
            "margin": null,
            "max_height": null,
            "max_width": null,
            "min_height": null,
            "min_width": null,
            "object_fit": null,
            "object_position": null,
            "order": null,
            "overflow": null,
            "overflow_x": null,
            "overflow_y": null,
            "padding": null,
            "right": null,
            "top": null,
            "visibility": null,
            "width": null
          }
        },
        "816ed4dd3a9a4a2babddc5a6af5d2489": {
          "model_module": "@jupyter-widgets/controls",
          "model_name": "ProgressStyleModel",
          "model_module_version": "1.5.0",
          "state": {
            "_model_module": "@jupyter-widgets/controls",
            "_model_module_version": "1.5.0",
            "_model_name": "ProgressStyleModel",
            "_view_count": null,
            "_view_module": "@jupyter-widgets/base",
            "_view_module_version": "1.2.0",
            "_view_name": "StyleView",
            "bar_color": null,
            "description_width": ""
          }
        },
        "306ea42e839442b2ae15407696f529b6": {
          "model_module": "@jupyter-widgets/base",
          "model_name": "LayoutModel",
          "model_module_version": "1.2.0",
          "state": {
            "_model_module": "@jupyter-widgets/base",
            "_model_module_version": "1.2.0",
            "_model_name": "LayoutModel",
            "_view_count": null,
            "_view_module": "@jupyter-widgets/base",
            "_view_module_version": "1.2.0",
            "_view_name": "LayoutView",
            "align_content": null,
            "align_items": null,
            "align_self": null,
            "border": null,
            "bottom": null,
            "display": null,
            "flex": null,
            "flex_flow": null,
            "grid_area": null,
            "grid_auto_columns": null,
            "grid_auto_flow": null,
            "grid_auto_rows": null,
            "grid_column": null,
            "grid_gap": null,
            "grid_row": null,
            "grid_template_areas": null,
            "grid_template_columns": null,
            "grid_template_rows": null,
            "height": null,
            "justify_content": null,
            "justify_items": null,
            "left": null,
            "margin": null,
            "max_height": null,
            "max_width": null,
            "min_height": null,
            "min_width": null,
            "object_fit": null,
            "object_position": null,
            "order": null,
            "overflow": null,
            "overflow_x": null,
            "overflow_y": null,
            "padding": null,
            "right": null,
            "top": null,
            "visibility": null,
            "width": null
          }
        },
        "2561ffdf9ac14f36890d578e7a44dc0f": {
          "model_module": "@jupyter-widgets/controls",
          "model_name": "DescriptionStyleModel",
          "model_module_version": "1.5.0",
          "state": {
            "_model_module": "@jupyter-widgets/controls",
            "_model_module_version": "1.5.0",
            "_model_name": "DescriptionStyleModel",
            "_view_count": null,
            "_view_module": "@jupyter-widgets/base",
            "_view_module_version": "1.2.0",
            "_view_name": "StyleView",
            "description_width": ""
          }
        }
      }
    },
    "accelerator": "GPU"
  },
  "nbformat": 4,
  "nbformat_minor": 0
}
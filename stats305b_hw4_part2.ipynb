{
  "nbformat": 4,
  "nbformat_minor": 0,
  "metadata": {
    "colab": {
      "provenance": [],
      "collapsed_sections": [
        "qZ-AwbZ4ySCJ"
      ],
      "machine_shape": "hm",
      "toc_visible": true,
      "gpuType": "A100"
    },
    "kernelspec": {
      "name": "python3",
      "display_name": "Python 3"
    },
    "language_info": {
      "name": "python"
    },
    "widgets": {
      "application/vnd.jupyter.widget-state+json": {
        "a67620d61ebf47ea86c53d3a1108afa4": {
          "model_module": "@jupyter-widgets/controls",
          "model_name": "HBoxModel",
          "model_module_version": "1.5.0",
          "state": {
            "_dom_classes": [],
            "_model_module": "@jupyter-widgets/controls",
            "_model_module_version": "1.5.0",
            "_model_name": "HBoxModel",
            "_view_count": null,
            "_view_module": "@jupyter-widgets/controls",
            "_view_module_version": "1.5.0",
            "_view_name": "HBoxView",
            "box_style": "",
            "children": [
              "IPY_MODEL_0c6c596a6c5546118f604de1907a0051",
              "IPY_MODEL_14fe11fa4ba94b1a801245e940c5d5f6",
              "IPY_MODEL_c8ec6c0798124023a2adbd2218e50de4"
            ],
            "layout": "IPY_MODEL_a645902eaab84e59b1c4523b1026f566"
          }
        },
        "0c6c596a6c5546118f604de1907a0051": {
          "model_module": "@jupyter-widgets/controls",
          "model_name": "HTMLModel",
          "model_module_version": "1.5.0",
          "state": {
            "_dom_classes": [],
            "_model_module": "@jupyter-widgets/controls",
            "_model_module_version": "1.5.0",
            "_model_name": "HTMLModel",
            "_view_count": null,
            "_view_module": "@jupyter-widgets/controls",
            "_view_module_version": "1.5.0",
            "_view_name": "HTMLView",
            "description": "",
            "description_tooltip": null,
            "layout": "IPY_MODEL_d1edf393bc9745008758eb720588e9e5",
            "placeholder": "​",
            "style": "IPY_MODEL_9d7456d90f7245399165a74d032f8109",
            "value": "tokenizer_config.json: 100%"
          }
        },
        "14fe11fa4ba94b1a801245e940c5d5f6": {
          "model_module": "@jupyter-widgets/controls",
          "model_name": "FloatProgressModel",
          "model_module_version": "1.5.0",
          "state": {
            "_dom_classes": [],
            "_model_module": "@jupyter-widgets/controls",
            "_model_module_version": "1.5.0",
            "_model_name": "FloatProgressModel",
            "_view_count": null,
            "_view_module": "@jupyter-widgets/controls",
            "_view_module_version": "1.5.0",
            "_view_name": "ProgressView",
            "bar_style": "success",
            "description": "",
            "description_tooltip": null,
            "layout": "IPY_MODEL_cff1072bdd0348eea4919af5d411da85",
            "max": 25,
            "min": 0,
            "orientation": "horizontal",
            "style": "IPY_MODEL_778b466d8d9c44e0a11e461f85b3bd0e",
            "value": 25
          }
        },
        "c8ec6c0798124023a2adbd2218e50de4": {
          "model_module": "@jupyter-widgets/controls",
          "model_name": "HTMLModel",
          "model_module_version": "1.5.0",
          "state": {
            "_dom_classes": [],
            "_model_module": "@jupyter-widgets/controls",
            "_model_module_version": "1.5.0",
            "_model_name": "HTMLModel",
            "_view_count": null,
            "_view_module": "@jupyter-widgets/controls",
            "_view_module_version": "1.5.0",
            "_view_name": "HTMLView",
            "description": "",
            "description_tooltip": null,
            "layout": "IPY_MODEL_a6738333e3c04d75b0fc2904d083cc8f",
            "placeholder": "​",
            "style": "IPY_MODEL_49b576c9a16b496782675185847cdef6",
            "value": " 25.0/25.0 [00:00&lt;00:00, 2.24kB/s]"
          }
        },
        "a645902eaab84e59b1c4523b1026f566": {
          "model_module": "@jupyter-widgets/base",
          "model_name": "LayoutModel",
          "model_module_version": "1.2.0",
          "state": {
            "_model_module": "@jupyter-widgets/base",
            "_model_module_version": "1.2.0",
            "_model_name": "LayoutModel",
            "_view_count": null,
            "_view_module": "@jupyter-widgets/base",
            "_view_module_version": "1.2.0",
            "_view_name": "LayoutView",
            "align_content": null,
            "align_items": null,
            "align_self": null,
            "border": null,
            "bottom": null,
            "display": null,
            "flex": null,
            "flex_flow": null,
            "grid_area": null,
            "grid_auto_columns": null,
            "grid_auto_flow": null,
            "grid_auto_rows": null,
            "grid_column": null,
            "grid_gap": null,
            "grid_row": null,
            "grid_template_areas": null,
            "grid_template_columns": null,
            "grid_template_rows": null,
            "height": null,
            "justify_content": null,
            "justify_items": null,
            "left": null,
            "margin": null,
            "max_height": null,
            "max_width": null,
            "min_height": null,
            "min_width": null,
            "object_fit": null,
            "object_position": null,
            "order": null,
            "overflow": null,
            "overflow_x": null,
            "overflow_y": null,
            "padding": null,
            "right": null,
            "top": null,
            "visibility": null,
            "width": null
          }
        },
        "d1edf393bc9745008758eb720588e9e5": {
          "model_module": "@jupyter-widgets/base",
          "model_name": "LayoutModel",
          "model_module_version": "1.2.0",
          "state": {
            "_model_module": "@jupyter-widgets/base",
            "_model_module_version": "1.2.0",
            "_model_name": "LayoutModel",
            "_view_count": null,
            "_view_module": "@jupyter-widgets/base",
            "_view_module_version": "1.2.0",
            "_view_name": "LayoutView",
            "align_content": null,
            "align_items": null,
            "align_self": null,
            "border": null,
            "bottom": null,
            "display": null,
            "flex": null,
            "flex_flow": null,
            "grid_area": null,
            "grid_auto_columns": null,
            "grid_auto_flow": null,
            "grid_auto_rows": null,
            "grid_column": null,
            "grid_gap": null,
            "grid_row": null,
            "grid_template_areas": null,
            "grid_template_columns": null,
            "grid_template_rows": null,
            "height": null,
            "justify_content": null,
            "justify_items": null,
            "left": null,
            "margin": null,
            "max_height": null,
            "max_width": null,
            "min_height": null,
            "min_width": null,
            "object_fit": null,
            "object_position": null,
            "order": null,
            "overflow": null,
            "overflow_x": null,
            "overflow_y": null,
            "padding": null,
            "right": null,
            "top": null,
            "visibility": null,
            "width": null
          }
        },
        "9d7456d90f7245399165a74d032f8109": {
          "model_module": "@jupyter-widgets/controls",
          "model_name": "DescriptionStyleModel",
          "model_module_version": "1.5.0",
          "state": {
            "_model_module": "@jupyter-widgets/controls",
            "_model_module_version": "1.5.0",
            "_model_name": "DescriptionStyleModel",
            "_view_count": null,
            "_view_module": "@jupyter-widgets/base",
            "_view_module_version": "1.2.0",
            "_view_name": "StyleView",
            "description_width": ""
          }
        },
        "cff1072bdd0348eea4919af5d411da85": {
          "model_module": "@jupyter-widgets/base",
          "model_name": "LayoutModel",
          "model_module_version": "1.2.0",
          "state": {
            "_model_module": "@jupyter-widgets/base",
            "_model_module_version": "1.2.0",
            "_model_name": "LayoutModel",
            "_view_count": null,
            "_view_module": "@jupyter-widgets/base",
            "_view_module_version": "1.2.0",
            "_view_name": "LayoutView",
            "align_content": null,
            "align_items": null,
            "align_self": null,
            "border": null,
            "bottom": null,
            "display": null,
            "flex": null,
            "flex_flow": null,
            "grid_area": null,
            "grid_auto_columns": null,
            "grid_auto_flow": null,
            "grid_auto_rows": null,
            "grid_column": null,
            "grid_gap": null,
            "grid_row": null,
            "grid_template_areas": null,
            "grid_template_columns": null,
            "grid_template_rows": null,
            "height": null,
            "justify_content": null,
            "justify_items": null,
            "left": null,
            "margin": null,
            "max_height": null,
            "max_width": null,
            "min_height": null,
            "min_width": null,
            "object_fit": null,
            "object_position": null,
            "order": null,
            "overflow": null,
            "overflow_x": null,
            "overflow_y": null,
            "padding": null,
            "right": null,
            "top": null,
            "visibility": null,
            "width": null
          }
        },
        "778b466d8d9c44e0a11e461f85b3bd0e": {
          "model_module": "@jupyter-widgets/controls",
          "model_name": "ProgressStyleModel",
          "model_module_version": "1.5.0",
          "state": {
            "_model_module": "@jupyter-widgets/controls",
            "_model_module_version": "1.5.0",
            "_model_name": "ProgressStyleModel",
            "_view_count": null,
            "_view_module": "@jupyter-widgets/base",
            "_view_module_version": "1.2.0",
            "_view_name": "StyleView",
            "bar_color": null,
            "description_width": ""
          }
        },
        "a6738333e3c04d75b0fc2904d083cc8f": {
          "model_module": "@jupyter-widgets/base",
          "model_name": "LayoutModel",
          "model_module_version": "1.2.0",
          "state": {
            "_model_module": "@jupyter-widgets/base",
            "_model_module_version": "1.2.0",
            "_model_name": "LayoutModel",
            "_view_count": null,
            "_view_module": "@jupyter-widgets/base",
            "_view_module_version": "1.2.0",
            "_view_name": "LayoutView",
            "align_content": null,
            "align_items": null,
            "align_self": null,
            "border": null,
            "bottom": null,
            "display": null,
            "flex": null,
            "flex_flow": null,
            "grid_area": null,
            "grid_auto_columns": null,
            "grid_auto_flow": null,
            "grid_auto_rows": null,
            "grid_column": null,
            "grid_gap": null,
            "grid_row": null,
            "grid_template_areas": null,
            "grid_template_columns": null,
            "grid_template_rows": null,
            "height": null,
            "justify_content": null,
            "justify_items": null,
            "left": null,
            "margin": null,
            "max_height": null,
            "max_width": null,
            "min_height": null,
            "min_width": null,
            "object_fit": null,
            "object_position": null,
            "order": null,
            "overflow": null,
            "overflow_x": null,
            "overflow_y": null,
            "padding": null,
            "right": null,
            "top": null,
            "visibility": null,
            "width": null
          }
        },
        "49b576c9a16b496782675185847cdef6": {
          "model_module": "@jupyter-widgets/controls",
          "model_name": "DescriptionStyleModel",
          "model_module_version": "1.5.0",
          "state": {
            "_model_module": "@jupyter-widgets/controls",
            "_model_module_version": "1.5.0",
            "_model_name": "DescriptionStyleModel",
            "_view_count": null,
            "_view_module": "@jupyter-widgets/base",
            "_view_module_version": "1.2.0",
            "_view_name": "StyleView",
            "description_width": ""
          }
        },
        "e795a88cd35f401da27ce3a683ed78e6": {
          "model_module": "@jupyter-widgets/controls",
          "model_name": "HBoxModel",
          "model_module_version": "1.5.0",
          "state": {
            "_dom_classes": [],
            "_model_module": "@jupyter-widgets/controls",
            "_model_module_version": "1.5.0",
            "_model_name": "HBoxModel",
            "_view_count": null,
            "_view_module": "@jupyter-widgets/controls",
            "_view_module_version": "1.5.0",
            "_view_name": "HBoxView",
            "box_style": "",
            "children": [
              "IPY_MODEL_0285eab356ea43e4814ba6414bbc2678",
              "IPY_MODEL_b9dd64d5f628476fbf4640cde6ebab2e",
              "IPY_MODEL_97526387d39f4cafadcfc85f5b0e0e4c"
            ],
            "layout": "IPY_MODEL_e5c23018ff5d484dae889ce26373b1d4"
          }
        },
        "0285eab356ea43e4814ba6414bbc2678": {
          "model_module": "@jupyter-widgets/controls",
          "model_name": "HTMLModel",
          "model_module_version": "1.5.0",
          "state": {
            "_dom_classes": [],
            "_model_module": "@jupyter-widgets/controls",
            "_model_module_version": "1.5.0",
            "_model_name": "HTMLModel",
            "_view_count": null,
            "_view_module": "@jupyter-widgets/controls",
            "_view_module_version": "1.5.0",
            "_view_name": "HTMLView",
            "description": "",
            "description_tooltip": null,
            "layout": "IPY_MODEL_ebf86ae951364674a04912944091104a",
            "placeholder": "​",
            "style": "IPY_MODEL_2775817c86324b6ab9805bd2f21ee7f8",
            "value": "config.json: 100%"
          }
        },
        "b9dd64d5f628476fbf4640cde6ebab2e": {
          "model_module": "@jupyter-widgets/controls",
          "model_name": "FloatProgressModel",
          "model_module_version": "1.5.0",
          "state": {
            "_dom_classes": [],
            "_model_module": "@jupyter-widgets/controls",
            "_model_module_version": "1.5.0",
            "_model_name": "FloatProgressModel",
            "_view_count": null,
            "_view_module": "@jupyter-widgets/controls",
            "_view_module_version": "1.5.0",
            "_view_name": "ProgressView",
            "bar_style": "success",
            "description": "",
            "description_tooltip": null,
            "layout": "IPY_MODEL_0140eb6388494cb4913e35a5e3634a00",
            "max": 498,
            "min": 0,
            "orientation": "horizontal",
            "style": "IPY_MODEL_071233a1ed19492b8e14f616615f8624",
            "value": 498
          }
        },
        "97526387d39f4cafadcfc85f5b0e0e4c": {
          "model_module": "@jupyter-widgets/controls",
          "model_name": "HTMLModel",
          "model_module_version": "1.5.0",
          "state": {
            "_dom_classes": [],
            "_model_module": "@jupyter-widgets/controls",
            "_model_module_version": "1.5.0",
            "_model_name": "HTMLModel",
            "_view_count": null,
            "_view_module": "@jupyter-widgets/controls",
            "_view_module_version": "1.5.0",
            "_view_name": "HTMLView",
            "description": "",
            "description_tooltip": null,
            "layout": "IPY_MODEL_29a9c7c7b4524cc5aa49ea9c7531e4b5",
            "placeholder": "​",
            "style": "IPY_MODEL_08cfd2faac894409994b152f58122fdf",
            "value": " 498/498 [00:00&lt;00:00, 47.1kB/s]"
          }
        },
        "e5c23018ff5d484dae889ce26373b1d4": {
          "model_module": "@jupyter-widgets/base",
          "model_name": "LayoutModel",
          "model_module_version": "1.2.0",
          "state": {
            "_model_module": "@jupyter-widgets/base",
            "_model_module_version": "1.2.0",
            "_model_name": "LayoutModel",
            "_view_count": null,
            "_view_module": "@jupyter-widgets/base",
            "_view_module_version": "1.2.0",
            "_view_name": "LayoutView",
            "align_content": null,
            "align_items": null,
            "align_self": null,
            "border": null,
            "bottom": null,
            "display": null,
            "flex": null,
            "flex_flow": null,
            "grid_area": null,
            "grid_auto_columns": null,
            "grid_auto_flow": null,
            "grid_auto_rows": null,
            "grid_column": null,
            "grid_gap": null,
            "grid_row": null,
            "grid_template_areas": null,
            "grid_template_columns": null,
            "grid_template_rows": null,
            "height": null,
            "justify_content": null,
            "justify_items": null,
            "left": null,
            "margin": null,
            "max_height": null,
            "max_width": null,
            "min_height": null,
            "min_width": null,
            "object_fit": null,
            "object_position": null,
            "order": null,
            "overflow": null,
            "overflow_x": null,
            "overflow_y": null,
            "padding": null,
            "right": null,
            "top": null,
            "visibility": null,
            "width": null
          }
        },
        "ebf86ae951364674a04912944091104a": {
          "model_module": "@jupyter-widgets/base",
          "model_name": "LayoutModel",
          "model_module_version": "1.2.0",
          "state": {
            "_model_module": "@jupyter-widgets/base",
            "_model_module_version": "1.2.0",
            "_model_name": "LayoutModel",
            "_view_count": null,
            "_view_module": "@jupyter-widgets/base",
            "_view_module_version": "1.2.0",
            "_view_name": "LayoutView",
            "align_content": null,
            "align_items": null,
            "align_self": null,
            "border": null,
            "bottom": null,
            "display": null,
            "flex": null,
            "flex_flow": null,
            "grid_area": null,
            "grid_auto_columns": null,
            "grid_auto_flow": null,
            "grid_auto_rows": null,
            "grid_column": null,
            "grid_gap": null,
            "grid_row": null,
            "grid_template_areas": null,
            "grid_template_columns": null,
            "grid_template_rows": null,
            "height": null,
            "justify_content": null,
            "justify_items": null,
            "left": null,
            "margin": null,
            "max_height": null,
            "max_width": null,
            "min_height": null,
            "min_width": null,
            "object_fit": null,
            "object_position": null,
            "order": null,
            "overflow": null,
            "overflow_x": null,
            "overflow_y": null,
            "padding": null,
            "right": null,
            "top": null,
            "visibility": null,
            "width": null
          }
        },
        "2775817c86324b6ab9805bd2f21ee7f8": {
          "model_module": "@jupyter-widgets/controls",
          "model_name": "DescriptionStyleModel",
          "model_module_version": "1.5.0",
          "state": {
            "_model_module": "@jupyter-widgets/controls",
            "_model_module_version": "1.5.0",
            "_model_name": "DescriptionStyleModel",
            "_view_count": null,
            "_view_module": "@jupyter-widgets/base",
            "_view_module_version": "1.2.0",
            "_view_name": "StyleView",
            "description_width": ""
          }
        },
        "0140eb6388494cb4913e35a5e3634a00": {
          "model_module": "@jupyter-widgets/base",
          "model_name": "LayoutModel",
          "model_module_version": "1.2.0",
          "state": {
            "_model_module": "@jupyter-widgets/base",
            "_model_module_version": "1.2.0",
            "_model_name": "LayoutModel",
            "_view_count": null,
            "_view_module": "@jupyter-widgets/base",
            "_view_module_version": "1.2.0",
            "_view_name": "LayoutView",
            "align_content": null,
            "align_items": null,
            "align_self": null,
            "border": null,
            "bottom": null,
            "display": null,
            "flex": null,
            "flex_flow": null,
            "grid_area": null,
            "grid_auto_columns": null,
            "grid_auto_flow": null,
            "grid_auto_rows": null,
            "grid_column": null,
            "grid_gap": null,
            "grid_row": null,
            "grid_template_areas": null,
            "grid_template_columns": null,
            "grid_template_rows": null,
            "height": null,
            "justify_content": null,
            "justify_items": null,
            "left": null,
            "margin": null,
            "max_height": null,
            "max_width": null,
            "min_height": null,
            "min_width": null,
            "object_fit": null,
            "object_position": null,
            "order": null,
            "overflow": null,
            "overflow_x": null,
            "overflow_y": null,
            "padding": null,
            "right": null,
            "top": null,
            "visibility": null,
            "width": null
          }
        },
        "071233a1ed19492b8e14f616615f8624": {
          "model_module": "@jupyter-widgets/controls",
          "model_name": "ProgressStyleModel",
          "model_module_version": "1.5.0",
          "state": {
            "_model_module": "@jupyter-widgets/controls",
            "_model_module_version": "1.5.0",
            "_model_name": "ProgressStyleModel",
            "_view_count": null,
            "_view_module": "@jupyter-widgets/base",
            "_view_module_version": "1.2.0",
            "_view_name": "StyleView",
            "bar_color": null,
            "description_width": ""
          }
        },
        "29a9c7c7b4524cc5aa49ea9c7531e4b5": {
          "model_module": "@jupyter-widgets/base",
          "model_name": "LayoutModel",
          "model_module_version": "1.2.0",
          "state": {
            "_model_module": "@jupyter-widgets/base",
            "_model_module_version": "1.2.0",
            "_model_name": "LayoutModel",
            "_view_count": null,
            "_view_module": "@jupyter-widgets/base",
            "_view_module_version": "1.2.0",
            "_view_name": "LayoutView",
            "align_content": null,
            "align_items": null,
            "align_self": null,
            "border": null,
            "bottom": null,
            "display": null,
            "flex": null,
            "flex_flow": null,
            "grid_area": null,
            "grid_auto_columns": null,
            "grid_auto_flow": null,
            "grid_auto_rows": null,
            "grid_column": null,
            "grid_gap": null,
            "grid_row": null,
            "grid_template_areas": null,
            "grid_template_columns": null,
            "grid_template_rows": null,
            "height": null,
            "justify_content": null,
            "justify_items": null,
            "left": null,
            "margin": null,
            "max_height": null,
            "max_width": null,
            "min_height": null,
            "min_width": null,
            "object_fit": null,
            "object_position": null,
            "order": null,
            "overflow": null,
            "overflow_x": null,
            "overflow_y": null,
            "padding": null,
            "right": null,
            "top": null,
            "visibility": null,
            "width": null
          }
        },
        "08cfd2faac894409994b152f58122fdf": {
          "model_module": "@jupyter-widgets/controls",
          "model_name": "DescriptionStyleModel",
          "model_module_version": "1.5.0",
          "state": {
            "_model_module": "@jupyter-widgets/controls",
            "_model_module_version": "1.5.0",
            "_model_name": "DescriptionStyleModel",
            "_view_count": null,
            "_view_module": "@jupyter-widgets/base",
            "_view_module_version": "1.2.0",
            "_view_name": "StyleView",
            "description_width": ""
          }
        },
        "0ed094b830e8416b864ff4a508a70a40": {
          "model_module": "@jupyter-widgets/controls",
          "model_name": "HBoxModel",
          "model_module_version": "1.5.0",
          "state": {
            "_dom_classes": [],
            "_model_module": "@jupyter-widgets/controls",
            "_model_module_version": "1.5.0",
            "_model_name": "HBoxModel",
            "_view_count": null,
            "_view_module": "@jupyter-widgets/controls",
            "_view_module_version": "1.5.0",
            "_view_name": "HBoxView",
            "box_style": "",
            "children": [
              "IPY_MODEL_a3edcc8dc09f4b11bdfa39610f693d33",
              "IPY_MODEL_334e6c8efc284184aa8345e3a9ef4d45",
              "IPY_MODEL_b432a5e71b9a4602ac66e62b2783ce31"
            ],
            "layout": "IPY_MODEL_fee3215c1e0c482b8dfee7a3d26995c2"
          }
        },
        "a3edcc8dc09f4b11bdfa39610f693d33": {
          "model_module": "@jupyter-widgets/controls",
          "model_name": "HTMLModel",
          "model_module_version": "1.5.0",
          "state": {
            "_dom_classes": [],
            "_model_module": "@jupyter-widgets/controls",
            "_model_module_version": "1.5.0",
            "_model_name": "HTMLModel",
            "_view_count": null,
            "_view_module": "@jupyter-widgets/controls",
            "_view_module_version": "1.5.0",
            "_view_name": "HTMLView",
            "description": "",
            "description_tooltip": null,
            "layout": "IPY_MODEL_b85f704b75684aa9ab477a0cd22b5d4f",
            "placeholder": "​",
            "style": "IPY_MODEL_aac65c713cdf4fc6b7315cca1cf8cb24",
            "value": "vocab.json: 100%"
          }
        },
        "334e6c8efc284184aa8345e3a9ef4d45": {
          "model_module": "@jupyter-widgets/controls",
          "model_name": "FloatProgressModel",
          "model_module_version": "1.5.0",
          "state": {
            "_dom_classes": [],
            "_model_module": "@jupyter-widgets/controls",
            "_model_module_version": "1.5.0",
            "_model_name": "FloatProgressModel",
            "_view_count": null,
            "_view_module": "@jupyter-widgets/controls",
            "_view_module_version": "1.5.0",
            "_view_name": "ProgressView",
            "bar_style": "success",
            "description": "",
            "description_tooltip": null,
            "layout": "IPY_MODEL_599aea60772b4b43a4775c7e41f024ec",
            "max": 898822,
            "min": 0,
            "orientation": "horizontal",
            "style": "IPY_MODEL_de75ae65e1f6441f93210387175bfebb",
            "value": 898822
          }
        },
        "b432a5e71b9a4602ac66e62b2783ce31": {
          "model_module": "@jupyter-widgets/controls",
          "model_name": "HTMLModel",
          "model_module_version": "1.5.0",
          "state": {
            "_dom_classes": [],
            "_model_module": "@jupyter-widgets/controls",
            "_model_module_version": "1.5.0",
            "_model_name": "HTMLModel",
            "_view_count": null,
            "_view_module": "@jupyter-widgets/controls",
            "_view_module_version": "1.5.0",
            "_view_name": "HTMLView",
            "description": "",
            "description_tooltip": null,
            "layout": "IPY_MODEL_abdedb1a153e4a27b46c5c1cd9f89509",
            "placeholder": "​",
            "style": "IPY_MODEL_ba55900f83674c3285b46ea441148cd7",
            "value": " 899k/899k [00:00&lt;00:00, 1.83MB/s]"
          }
        },
        "fee3215c1e0c482b8dfee7a3d26995c2": {
          "model_module": "@jupyter-widgets/base",
          "model_name": "LayoutModel",
          "model_module_version": "1.2.0",
          "state": {
            "_model_module": "@jupyter-widgets/base",
            "_model_module_version": "1.2.0",
            "_model_name": "LayoutModel",
            "_view_count": null,
            "_view_module": "@jupyter-widgets/base",
            "_view_module_version": "1.2.0",
            "_view_name": "LayoutView",
            "align_content": null,
            "align_items": null,
            "align_self": null,
            "border": null,
            "bottom": null,
            "display": null,
            "flex": null,
            "flex_flow": null,
            "grid_area": null,
            "grid_auto_columns": null,
            "grid_auto_flow": null,
            "grid_auto_rows": null,
            "grid_column": null,
            "grid_gap": null,
            "grid_row": null,
            "grid_template_areas": null,
            "grid_template_columns": null,
            "grid_template_rows": null,
            "height": null,
            "justify_content": null,
            "justify_items": null,
            "left": null,
            "margin": null,
            "max_height": null,
            "max_width": null,
            "min_height": null,
            "min_width": null,
            "object_fit": null,
            "object_position": null,
            "order": null,
            "overflow": null,
            "overflow_x": null,
            "overflow_y": null,
            "padding": null,
            "right": null,
            "top": null,
            "visibility": null,
            "width": null
          }
        },
        "b85f704b75684aa9ab477a0cd22b5d4f": {
          "model_module": "@jupyter-widgets/base",
          "model_name": "LayoutModel",
          "model_module_version": "1.2.0",
          "state": {
            "_model_module": "@jupyter-widgets/base",
            "_model_module_version": "1.2.0",
            "_model_name": "LayoutModel",
            "_view_count": null,
            "_view_module": "@jupyter-widgets/base",
            "_view_module_version": "1.2.0",
            "_view_name": "LayoutView",
            "align_content": null,
            "align_items": null,
            "align_self": null,
            "border": null,
            "bottom": null,
            "display": null,
            "flex": null,
            "flex_flow": null,
            "grid_area": null,
            "grid_auto_columns": null,
            "grid_auto_flow": null,
            "grid_auto_rows": null,
            "grid_column": null,
            "grid_gap": null,
            "grid_row": null,
            "grid_template_areas": null,
            "grid_template_columns": null,
            "grid_template_rows": null,
            "height": null,
            "justify_content": null,
            "justify_items": null,
            "left": null,
            "margin": null,
            "max_height": null,
            "max_width": null,
            "min_height": null,
            "min_width": null,
            "object_fit": null,
            "object_position": null,
            "order": null,
            "overflow": null,
            "overflow_x": null,
            "overflow_y": null,
            "padding": null,
            "right": null,
            "top": null,
            "visibility": null,
            "width": null
          }
        },
        "aac65c713cdf4fc6b7315cca1cf8cb24": {
          "model_module": "@jupyter-widgets/controls",
          "model_name": "DescriptionStyleModel",
          "model_module_version": "1.5.0",
          "state": {
            "_model_module": "@jupyter-widgets/controls",
            "_model_module_version": "1.5.0",
            "_model_name": "DescriptionStyleModel",
            "_view_count": null,
            "_view_module": "@jupyter-widgets/base",
            "_view_module_version": "1.2.0",
            "_view_name": "StyleView",
            "description_width": ""
          }
        },
        "599aea60772b4b43a4775c7e41f024ec": {
          "model_module": "@jupyter-widgets/base",
          "model_name": "LayoutModel",
          "model_module_version": "1.2.0",
          "state": {
            "_model_module": "@jupyter-widgets/base",
            "_model_module_version": "1.2.0",
            "_model_name": "LayoutModel",
            "_view_count": null,
            "_view_module": "@jupyter-widgets/base",
            "_view_module_version": "1.2.0",
            "_view_name": "LayoutView",
            "align_content": null,
            "align_items": null,
            "align_self": null,
            "border": null,
            "bottom": null,
            "display": null,
            "flex": null,
            "flex_flow": null,
            "grid_area": null,
            "grid_auto_columns": null,
            "grid_auto_flow": null,
            "grid_auto_rows": null,
            "grid_column": null,
            "grid_gap": null,
            "grid_row": null,
            "grid_template_areas": null,
            "grid_template_columns": null,
            "grid_template_rows": null,
            "height": null,
            "justify_content": null,
            "justify_items": null,
            "left": null,
            "margin": null,
            "max_height": null,
            "max_width": null,
            "min_height": null,
            "min_width": null,
            "object_fit": null,
            "object_position": null,
            "order": null,
            "overflow": null,
            "overflow_x": null,
            "overflow_y": null,
            "padding": null,
            "right": null,
            "top": null,
            "visibility": null,
            "width": null
          }
        },
        "de75ae65e1f6441f93210387175bfebb": {
          "model_module": "@jupyter-widgets/controls",
          "model_name": "ProgressStyleModel",
          "model_module_version": "1.5.0",
          "state": {
            "_model_module": "@jupyter-widgets/controls",
            "_model_module_version": "1.5.0",
            "_model_name": "ProgressStyleModel",
            "_view_count": null,
            "_view_module": "@jupyter-widgets/base",
            "_view_module_version": "1.2.0",
            "_view_name": "StyleView",
            "bar_color": null,
            "description_width": ""
          }
        },
        "abdedb1a153e4a27b46c5c1cd9f89509": {
          "model_module": "@jupyter-widgets/base",
          "model_name": "LayoutModel",
          "model_module_version": "1.2.0",
          "state": {
            "_model_module": "@jupyter-widgets/base",
            "_model_module_version": "1.2.0",
            "_model_name": "LayoutModel",
            "_view_count": null,
            "_view_module": "@jupyter-widgets/base",
            "_view_module_version": "1.2.0",
            "_view_name": "LayoutView",
            "align_content": null,
            "align_items": null,
            "align_self": null,
            "border": null,
            "bottom": null,
            "display": null,
            "flex": null,
            "flex_flow": null,
            "grid_area": null,
            "grid_auto_columns": null,
            "grid_auto_flow": null,
            "grid_auto_rows": null,
            "grid_column": null,
            "grid_gap": null,
            "grid_row": null,
            "grid_template_areas": null,
            "grid_template_columns": null,
            "grid_template_rows": null,
            "height": null,
            "justify_content": null,
            "justify_items": null,
            "left": null,
            "margin": null,
            "max_height": null,
            "max_width": null,
            "min_height": null,
            "min_width": null,
            "object_fit": null,
            "object_position": null,
            "order": null,
            "overflow": null,
            "overflow_x": null,
            "overflow_y": null,
            "padding": null,
            "right": null,
            "top": null,
            "visibility": null,
            "width": null
          }
        },
        "ba55900f83674c3285b46ea441148cd7": {
          "model_module": "@jupyter-widgets/controls",
          "model_name": "DescriptionStyleModel",
          "model_module_version": "1.5.0",
          "state": {
            "_model_module": "@jupyter-widgets/controls",
            "_model_module_version": "1.5.0",
            "_model_name": "DescriptionStyleModel",
            "_view_count": null,
            "_view_module": "@jupyter-widgets/base",
            "_view_module_version": "1.2.0",
            "_view_name": "StyleView",
            "description_width": ""
          }
        },
        "f13fb4a95ee240a28e042dada593d18c": {
          "model_module": "@jupyter-widgets/controls",
          "model_name": "HBoxModel",
          "model_module_version": "1.5.0",
          "state": {
            "_dom_classes": [],
            "_model_module": "@jupyter-widgets/controls",
            "_model_module_version": "1.5.0",
            "_model_name": "HBoxModel",
            "_view_count": null,
            "_view_module": "@jupyter-widgets/controls",
            "_view_module_version": "1.5.0",
            "_view_name": "HBoxView",
            "box_style": "",
            "children": [
              "IPY_MODEL_83601ed4b118450abe2c8a6380faae9e",
              "IPY_MODEL_c1afa6d028884e5abcbe1ef3e37af728",
              "IPY_MODEL_592844ed04934de0b389ad9ee642fd99"
            ],
            "layout": "IPY_MODEL_cd2532e6416e4452b15ae2a15bfdc759"
          }
        },
        "83601ed4b118450abe2c8a6380faae9e": {
          "model_module": "@jupyter-widgets/controls",
          "model_name": "HTMLModel",
          "model_module_version": "1.5.0",
          "state": {
            "_dom_classes": [],
            "_model_module": "@jupyter-widgets/controls",
            "_model_module_version": "1.5.0",
            "_model_name": "HTMLModel",
            "_view_count": null,
            "_view_module": "@jupyter-widgets/controls",
            "_view_module_version": "1.5.0",
            "_view_name": "HTMLView",
            "description": "",
            "description_tooltip": null,
            "layout": "IPY_MODEL_f8b956892ebe4aec94cd0cb1f265ec4f",
            "placeholder": "​",
            "style": "IPY_MODEL_660e474135344cbc945b1acef2141950",
            "value": "merges.txt: 100%"
          }
        },
        "c1afa6d028884e5abcbe1ef3e37af728": {
          "model_module": "@jupyter-widgets/controls",
          "model_name": "FloatProgressModel",
          "model_module_version": "1.5.0",
          "state": {
            "_dom_classes": [],
            "_model_module": "@jupyter-widgets/controls",
            "_model_module_version": "1.5.0",
            "_model_name": "FloatProgressModel",
            "_view_count": null,
            "_view_module": "@jupyter-widgets/controls",
            "_view_module_version": "1.5.0",
            "_view_name": "ProgressView",
            "bar_style": "success",
            "description": "",
            "description_tooltip": null,
            "layout": "IPY_MODEL_48b19644849449699775fd142a1fac1d",
            "max": 456318,
            "min": 0,
            "orientation": "horizontal",
            "style": "IPY_MODEL_fca0102f4aad406788696c786c085e95",
            "value": 456318
          }
        },
        "592844ed04934de0b389ad9ee642fd99": {
          "model_module": "@jupyter-widgets/controls",
          "model_name": "HTMLModel",
          "model_module_version": "1.5.0",
          "state": {
            "_dom_classes": [],
            "_model_module": "@jupyter-widgets/controls",
            "_model_module_version": "1.5.0",
            "_model_name": "HTMLModel",
            "_view_count": null,
            "_view_module": "@jupyter-widgets/controls",
            "_view_module_version": "1.5.0",
            "_view_name": "HTMLView",
            "description": "",
            "description_tooltip": null,
            "layout": "IPY_MODEL_f70619235ace4549a58346ab80c4aae8",
            "placeholder": "​",
            "style": "IPY_MODEL_f63da1019b6e4c2895562bc90aa31b95",
            "value": " 456k/456k [00:00&lt;00:00, 29.1MB/s]"
          }
        },
        "cd2532e6416e4452b15ae2a15bfdc759": {
          "model_module": "@jupyter-widgets/base",
          "model_name": "LayoutModel",
          "model_module_version": "1.2.0",
          "state": {
            "_model_module": "@jupyter-widgets/base",
            "_model_module_version": "1.2.0",
            "_model_name": "LayoutModel",
            "_view_count": null,
            "_view_module": "@jupyter-widgets/base",
            "_view_module_version": "1.2.0",
            "_view_name": "LayoutView",
            "align_content": null,
            "align_items": null,
            "align_self": null,
            "border": null,
            "bottom": null,
            "display": null,
            "flex": null,
            "flex_flow": null,
            "grid_area": null,
            "grid_auto_columns": null,
            "grid_auto_flow": null,
            "grid_auto_rows": null,
            "grid_column": null,
            "grid_gap": null,
            "grid_row": null,
            "grid_template_areas": null,
            "grid_template_columns": null,
            "grid_template_rows": null,
            "height": null,
            "justify_content": null,
            "justify_items": null,
            "left": null,
            "margin": null,
            "max_height": null,
            "max_width": null,
            "min_height": null,
            "min_width": null,
            "object_fit": null,
            "object_position": null,
            "order": null,
            "overflow": null,
            "overflow_x": null,
            "overflow_y": null,
            "padding": null,
            "right": null,
            "top": null,
            "visibility": null,
            "width": null
          }
        },
        "f8b956892ebe4aec94cd0cb1f265ec4f": {
          "model_module": "@jupyter-widgets/base",
          "model_name": "LayoutModel",
          "model_module_version": "1.2.0",
          "state": {
            "_model_module": "@jupyter-widgets/base",
            "_model_module_version": "1.2.0",
            "_model_name": "LayoutModel",
            "_view_count": null,
            "_view_module": "@jupyter-widgets/base",
            "_view_module_version": "1.2.0",
            "_view_name": "LayoutView",
            "align_content": null,
            "align_items": null,
            "align_self": null,
            "border": null,
            "bottom": null,
            "display": null,
            "flex": null,
            "flex_flow": null,
            "grid_area": null,
            "grid_auto_columns": null,
            "grid_auto_flow": null,
            "grid_auto_rows": null,
            "grid_column": null,
            "grid_gap": null,
            "grid_row": null,
            "grid_template_areas": null,
            "grid_template_columns": null,
            "grid_template_rows": null,
            "height": null,
            "justify_content": null,
            "justify_items": null,
            "left": null,
            "margin": null,
            "max_height": null,
            "max_width": null,
            "min_height": null,
            "min_width": null,
            "object_fit": null,
            "object_position": null,
            "order": null,
            "overflow": null,
            "overflow_x": null,
            "overflow_y": null,
            "padding": null,
            "right": null,
            "top": null,
            "visibility": null,
            "width": null
          }
        },
        "660e474135344cbc945b1acef2141950": {
          "model_module": "@jupyter-widgets/controls",
          "model_name": "DescriptionStyleModel",
          "model_module_version": "1.5.0",
          "state": {
            "_model_module": "@jupyter-widgets/controls",
            "_model_module_version": "1.5.0",
            "_model_name": "DescriptionStyleModel",
            "_view_count": null,
            "_view_module": "@jupyter-widgets/base",
            "_view_module_version": "1.2.0",
            "_view_name": "StyleView",
            "description_width": ""
          }
        },
        "48b19644849449699775fd142a1fac1d": {
          "model_module": "@jupyter-widgets/base",
          "model_name": "LayoutModel",
          "model_module_version": "1.2.0",
          "state": {
            "_model_module": "@jupyter-widgets/base",
            "_model_module_version": "1.2.0",
            "_model_name": "LayoutModel",
            "_view_count": null,
            "_view_module": "@jupyter-widgets/base",
            "_view_module_version": "1.2.0",
            "_view_name": "LayoutView",
            "align_content": null,
            "align_items": null,
            "align_self": null,
            "border": null,
            "bottom": null,
            "display": null,
            "flex": null,
            "flex_flow": null,
            "grid_area": null,
            "grid_auto_columns": null,
            "grid_auto_flow": null,
            "grid_auto_rows": null,
            "grid_column": null,
            "grid_gap": null,
            "grid_row": null,
            "grid_template_areas": null,
            "grid_template_columns": null,
            "grid_template_rows": null,
            "height": null,
            "justify_content": null,
            "justify_items": null,
            "left": null,
            "margin": null,
            "max_height": null,
            "max_width": null,
            "min_height": null,
            "min_width": null,
            "object_fit": null,
            "object_position": null,
            "order": null,
            "overflow": null,
            "overflow_x": null,
            "overflow_y": null,
            "padding": null,
            "right": null,
            "top": null,
            "visibility": null,
            "width": null
          }
        },
        "fca0102f4aad406788696c786c085e95": {
          "model_module": "@jupyter-widgets/controls",
          "model_name": "ProgressStyleModel",
          "model_module_version": "1.5.0",
          "state": {
            "_model_module": "@jupyter-widgets/controls",
            "_model_module_version": "1.5.0",
            "_model_name": "ProgressStyleModel",
            "_view_count": null,
            "_view_module": "@jupyter-widgets/base",
            "_view_module_version": "1.2.0",
            "_view_name": "StyleView",
            "bar_color": null,
            "description_width": ""
          }
        },
        "f70619235ace4549a58346ab80c4aae8": {
          "model_module": "@jupyter-widgets/base",
          "model_name": "LayoutModel",
          "model_module_version": "1.2.0",
          "state": {
            "_model_module": "@jupyter-widgets/base",
            "_model_module_version": "1.2.0",
            "_model_name": "LayoutModel",
            "_view_count": null,
            "_view_module": "@jupyter-widgets/base",
            "_view_module_version": "1.2.0",
            "_view_name": "LayoutView",
            "align_content": null,
            "align_items": null,
            "align_self": null,
            "border": null,
            "bottom": null,
            "display": null,
            "flex": null,
            "flex_flow": null,
            "grid_area": null,
            "grid_auto_columns": null,
            "grid_auto_flow": null,
            "grid_auto_rows": null,
            "grid_column": null,
            "grid_gap": null,
            "grid_row": null,
            "grid_template_areas": null,
            "grid_template_columns": null,
            "grid_template_rows": null,
            "height": null,
            "justify_content": null,
            "justify_items": null,
            "left": null,
            "margin": null,
            "max_height": null,
            "max_width": null,
            "min_height": null,
            "min_width": null,
            "object_fit": null,
            "object_position": null,
            "order": null,
            "overflow": null,
            "overflow_x": null,
            "overflow_y": null,
            "padding": null,
            "right": null,
            "top": null,
            "visibility": null,
            "width": null
          }
        },
        "f63da1019b6e4c2895562bc90aa31b95": {
          "model_module": "@jupyter-widgets/controls",
          "model_name": "DescriptionStyleModel",
          "model_module_version": "1.5.0",
          "state": {
            "_model_module": "@jupyter-widgets/controls",
            "_model_module_version": "1.5.0",
            "_model_name": "DescriptionStyleModel",
            "_view_count": null,
            "_view_module": "@jupyter-widgets/base",
            "_view_module_version": "1.2.0",
            "_view_name": "StyleView",
            "description_width": ""
          }
        },
        "03c473ac36934cf0b33e1013c4233e0f": {
          "model_module": "@jupyter-widgets/controls",
          "model_name": "HBoxModel",
          "model_module_version": "1.5.0",
          "state": {
            "_dom_classes": [],
            "_model_module": "@jupyter-widgets/controls",
            "_model_module_version": "1.5.0",
            "_model_name": "HBoxModel",
            "_view_count": null,
            "_view_module": "@jupyter-widgets/controls",
            "_view_module_version": "1.5.0",
            "_view_name": "HBoxView",
            "box_style": "",
            "children": [
              "IPY_MODEL_a77707341ead46b196c112dc0ffce6c0",
              "IPY_MODEL_a1de2d5609894a32a8dd52f676431cf2",
              "IPY_MODEL_45ecb803d0aa45979626d2b191c1c9d0"
            ],
            "layout": "IPY_MODEL_f2575a40f1f542cf9a422b0425ff81a1"
          }
        },
        "a77707341ead46b196c112dc0ffce6c0": {
          "model_module": "@jupyter-widgets/controls",
          "model_name": "HTMLModel",
          "model_module_version": "1.5.0",
          "state": {
            "_dom_classes": [],
            "_model_module": "@jupyter-widgets/controls",
            "_model_module_version": "1.5.0",
            "_model_name": "HTMLModel",
            "_view_count": null,
            "_view_module": "@jupyter-widgets/controls",
            "_view_module_version": "1.5.0",
            "_view_name": "HTMLView",
            "description": "",
            "description_tooltip": null,
            "layout": "IPY_MODEL_9e6330173b6d42cab42a38737e598a09",
            "placeholder": "​",
            "style": "IPY_MODEL_b47044aa7f0a41b19dc1087feb695020",
            "value": "special_tokens_map.json: 100%"
          }
        },
        "a1de2d5609894a32a8dd52f676431cf2": {
          "model_module": "@jupyter-widgets/controls",
          "model_name": "FloatProgressModel",
          "model_module_version": "1.5.0",
          "state": {
            "_dom_classes": [],
            "_model_module": "@jupyter-widgets/controls",
            "_model_module_version": "1.5.0",
            "_model_name": "FloatProgressModel",
            "_view_count": null,
            "_view_module": "@jupyter-widgets/controls",
            "_view_module_version": "1.5.0",
            "_view_name": "ProgressView",
            "bar_style": "success",
            "description": "",
            "description_tooltip": null,
            "layout": "IPY_MODEL_970d6873c4094859ba22bd2c3446282e",
            "max": 150,
            "min": 0,
            "orientation": "horizontal",
            "style": "IPY_MODEL_dacfbc05c4434de68e63eec246523e4c",
            "value": 150
          }
        },
        "45ecb803d0aa45979626d2b191c1c9d0": {
          "model_module": "@jupyter-widgets/controls",
          "model_name": "HTMLModel",
          "model_module_version": "1.5.0",
          "state": {
            "_dom_classes": [],
            "_model_module": "@jupyter-widgets/controls",
            "_model_module_version": "1.5.0",
            "_model_name": "HTMLModel",
            "_view_count": null,
            "_view_module": "@jupyter-widgets/controls",
            "_view_module_version": "1.5.0",
            "_view_name": "HTMLView",
            "description": "",
            "description_tooltip": null,
            "layout": "IPY_MODEL_fe0da39121034452bbcc1a854ebb8685",
            "placeholder": "​",
            "style": "IPY_MODEL_e1d9d88de7d3440b9d4f341a8849f2e7",
            "value": " 150/150 [00:00&lt;00:00, 12.0kB/s]"
          }
        },
        "f2575a40f1f542cf9a422b0425ff81a1": {
          "model_module": "@jupyter-widgets/base",
          "model_name": "LayoutModel",
          "model_module_version": "1.2.0",
          "state": {
            "_model_module": "@jupyter-widgets/base",
            "_model_module_version": "1.2.0",
            "_model_name": "LayoutModel",
            "_view_count": null,
            "_view_module": "@jupyter-widgets/base",
            "_view_module_version": "1.2.0",
            "_view_name": "LayoutView",
            "align_content": null,
            "align_items": null,
            "align_self": null,
            "border": null,
            "bottom": null,
            "display": null,
            "flex": null,
            "flex_flow": null,
            "grid_area": null,
            "grid_auto_columns": null,
            "grid_auto_flow": null,
            "grid_auto_rows": null,
            "grid_column": null,
            "grid_gap": null,
            "grid_row": null,
            "grid_template_areas": null,
            "grid_template_columns": null,
            "grid_template_rows": null,
            "height": null,
            "justify_content": null,
            "justify_items": null,
            "left": null,
            "margin": null,
            "max_height": null,
            "max_width": null,
            "min_height": null,
            "min_width": null,
            "object_fit": null,
            "object_position": null,
            "order": null,
            "overflow": null,
            "overflow_x": null,
            "overflow_y": null,
            "padding": null,
            "right": null,
            "top": null,
            "visibility": null,
            "width": null
          }
        },
        "9e6330173b6d42cab42a38737e598a09": {
          "model_module": "@jupyter-widgets/base",
          "model_name": "LayoutModel",
          "model_module_version": "1.2.0",
          "state": {
            "_model_module": "@jupyter-widgets/base",
            "_model_module_version": "1.2.0",
            "_model_name": "LayoutModel",
            "_view_count": null,
            "_view_module": "@jupyter-widgets/base",
            "_view_module_version": "1.2.0",
            "_view_name": "LayoutView",
            "align_content": null,
            "align_items": null,
            "align_self": null,
            "border": null,
            "bottom": null,
            "display": null,
            "flex": null,
            "flex_flow": null,
            "grid_area": null,
            "grid_auto_columns": null,
            "grid_auto_flow": null,
            "grid_auto_rows": null,
            "grid_column": null,
            "grid_gap": null,
            "grid_row": null,
            "grid_template_areas": null,
            "grid_template_columns": null,
            "grid_template_rows": null,
            "height": null,
            "justify_content": null,
            "justify_items": null,
            "left": null,
            "margin": null,
            "max_height": null,
            "max_width": null,
            "min_height": null,
            "min_width": null,
            "object_fit": null,
            "object_position": null,
            "order": null,
            "overflow": null,
            "overflow_x": null,
            "overflow_y": null,
            "padding": null,
            "right": null,
            "top": null,
            "visibility": null,
            "width": null
          }
        },
        "b47044aa7f0a41b19dc1087feb695020": {
          "model_module": "@jupyter-widgets/controls",
          "model_name": "DescriptionStyleModel",
          "model_module_version": "1.5.0",
          "state": {
            "_model_module": "@jupyter-widgets/controls",
            "_model_module_version": "1.5.0",
            "_model_name": "DescriptionStyleModel",
            "_view_count": null,
            "_view_module": "@jupyter-widgets/base",
            "_view_module_version": "1.2.0",
            "_view_name": "StyleView",
            "description_width": ""
          }
        },
        "970d6873c4094859ba22bd2c3446282e": {
          "model_module": "@jupyter-widgets/base",
          "model_name": "LayoutModel",
          "model_module_version": "1.2.0",
          "state": {
            "_model_module": "@jupyter-widgets/base",
            "_model_module_version": "1.2.0",
            "_model_name": "LayoutModel",
            "_view_count": null,
            "_view_module": "@jupyter-widgets/base",
            "_view_module_version": "1.2.0",
            "_view_name": "LayoutView",
            "align_content": null,
            "align_items": null,
            "align_self": null,
            "border": null,
            "bottom": null,
            "display": null,
            "flex": null,
            "flex_flow": null,
            "grid_area": null,
            "grid_auto_columns": null,
            "grid_auto_flow": null,
            "grid_auto_rows": null,
            "grid_column": null,
            "grid_gap": null,
            "grid_row": null,
            "grid_template_areas": null,
            "grid_template_columns": null,
            "grid_template_rows": null,
            "height": null,
            "justify_content": null,
            "justify_items": null,
            "left": null,
            "margin": null,
            "max_height": null,
            "max_width": null,
            "min_height": null,
            "min_width": null,
            "object_fit": null,
            "object_position": null,
            "order": null,
            "overflow": null,
            "overflow_x": null,
            "overflow_y": null,
            "padding": null,
            "right": null,
            "top": null,
            "visibility": null,
            "width": null
          }
        },
        "dacfbc05c4434de68e63eec246523e4c": {
          "model_module": "@jupyter-widgets/controls",
          "model_name": "ProgressStyleModel",
          "model_module_version": "1.5.0",
          "state": {
            "_model_module": "@jupyter-widgets/controls",
            "_model_module_version": "1.5.0",
            "_model_name": "ProgressStyleModel",
            "_view_count": null,
            "_view_module": "@jupyter-widgets/base",
            "_view_module_version": "1.2.0",
            "_view_name": "StyleView",
            "bar_color": null,
            "description_width": ""
          }
        },
        "fe0da39121034452bbcc1a854ebb8685": {
          "model_module": "@jupyter-widgets/base",
          "model_name": "LayoutModel",
          "model_module_version": "1.2.0",
          "state": {
            "_model_module": "@jupyter-widgets/base",
            "_model_module_version": "1.2.0",
            "_model_name": "LayoutModel",
            "_view_count": null,
            "_view_module": "@jupyter-widgets/base",
            "_view_module_version": "1.2.0",
            "_view_name": "LayoutView",
            "align_content": null,
            "align_items": null,
            "align_self": null,
            "border": null,
            "bottom": null,
            "display": null,
            "flex": null,
            "flex_flow": null,
            "grid_area": null,
            "grid_auto_columns": null,
            "grid_auto_flow": null,
            "grid_auto_rows": null,
            "grid_column": null,
            "grid_gap": null,
            "grid_row": null,
            "grid_template_areas": null,
            "grid_template_columns": null,
            "grid_template_rows": null,
            "height": null,
            "justify_content": null,
            "justify_items": null,
            "left": null,
            "margin": null,
            "max_height": null,
            "max_width": null,
            "min_height": null,
            "min_width": null,
            "object_fit": null,
            "object_position": null,
            "order": null,
            "overflow": null,
            "overflow_x": null,
            "overflow_y": null,
            "padding": null,
            "right": null,
            "top": null,
            "visibility": null,
            "width": null
          }
        },
        "e1d9d88de7d3440b9d4f341a8849f2e7": {
          "model_module": "@jupyter-widgets/controls",
          "model_name": "DescriptionStyleModel",
          "model_module_version": "1.5.0",
          "state": {
            "_model_module": "@jupyter-widgets/controls",
            "_model_module_version": "1.5.0",
            "_model_name": "DescriptionStyleModel",
            "_view_count": null,
            "_view_module": "@jupyter-widgets/base",
            "_view_module_version": "1.2.0",
            "_view_name": "StyleView",
            "description_width": ""
          }
        }
      }
    },
    "accelerator": "GPU"
  },
  "cells": [
    {
      "cell_type": "markdown",
      "metadata": {
        "id": "qZ-AwbZ4ySCJ"
      },
      "source": [
        "## Setup"
      ]
    },
    {
      "cell_type": "code",
      "execution_count": 1,
      "metadata": {
        "id": "Xd4fRbWr15Yp"
      },
      "outputs": [],
      "source": [
        "# can take around 30s\n",
        "%%capture\n",
        "! pip install datasets #huggingface datasets library\n",
        "! pip install --upgrade pyarrow"
      ]
    },
    {
      "cell_type": "code",
      "source": [
        "from google.colab import drive\n",
        "drive.mount('/content/drive')"
      ],
      "metadata": {
        "id": "NuRMTFEpmLmt",
        "colab": {
          "base_uri": "https://localhost:8080/"
        },
        "outputId": "4f7122e6-afb0-4212-d87b-ce8eae8d354f"
      },
      "execution_count": 2,
      "outputs": [
        {
          "output_type": "stream",
          "name": "stdout",
          "text": [
            "Mounted at /content/drive\n"
          ]
        }
      ]
    },
    {
      "cell_type": "code",
      "execution_count": 3,
      "metadata": {
        "id": "_5IXGh6OOBZV"
      },
      "outputs": [],
      "source": [
        "# torch imports\n",
        "import torch\n",
        "import torch.nn as nn\n",
        "import torch.nn.functional as F\n",
        "import torch.optim as optim\n",
        "\n",
        "# hugging face imports\n",
        "from datasets import load_dataset\n",
        "from transformers import AutoTokenizer\n",
        "\n",
        "import matplotlib.pyplot as plt\n",
        "from tqdm import tqdm\n",
        "\n",
        "import pandas as pd\n",
        "import sys\n",
        "import warnings\n",
        "\n",
        "torch.manual_seed(305)\n",
        "\n",
        "device = 'cuda' if torch.cuda.is_available() else 'cpu'\n",
        "# assert device=='cuda', \"you need to change runtime type to GPU\""
      ]
    },
    {
      "cell_type": "code",
      "execution_count": 4,
      "metadata": {
        "id": "A_Z5Jh74DH_E"
      },
      "outputs": [],
      "source": [
        "# hyperparams and helper functions\n",
        "SMALL_ITERS = 1000\n",
        "LARGE_ITERS = 2000\n",
        "context_window_size = 256\n",
        "chunk_size = 512 # BERT can only take max input size 512 characters\n",
        "\n",
        "def chunk_string(string, size):\n",
        "    \"\"\"\n",
        "    Splits a string into chunks of a specified size.\n",
        "\n",
        "    :param string: The string to be chunked.\n",
        "    :param size: The desired chunk size.\n",
        "    :return: A list of string chunks.\n",
        "    \"\"\"\n",
        "    return [string[i:i+size] for i in range(0, len(string), size)]"
      ]
    },
    {
      "cell_type": "markdown",
      "metadata": {
        "id": "lF6dgHnhOprg"
      },
      "source": [
        "## Data Preprocessing\n",
        "\n",
        "As in the previous problem sets, a certain amount of preprocessing for textual data is required."
      ]
    },
    {
      "cell_type": "markdown",
      "metadata": {
        "id": "WF0_bhXNOxeS"
      },
      "source": [
        "### 0.1: Loading the dataset\n",
        "\n",
        "The first step is to actually download the dataset. We will be using a dataset on [huggingface](https://huggingface.co/). You can think of hugging face as the sklearn of deep learning.\n",
        "\n",
        "The dominant mode for preprocessing textual data is to tokenize it, that is, to split the dataset into a finite vocabulary of tokens. Then, we can set up a dictionary where counting numbers map to tokens. Tokens can be characters, or words, or subwords; in fact, the \"best\" way to tokenize text is an active area of research. For our baseline, we will use a tokenizer that microsoft created for code."
      ]
    },
    {
      "cell_type": "code",
      "execution_count": 5,
      "metadata": {
        "id": "53dGz7ExDkUv",
        "colab": {
          "base_uri": "https://localhost:8080/",
          "height": 304,
          "referenced_widgets": [
            "a67620d61ebf47ea86c53d3a1108afa4",
            "0c6c596a6c5546118f604de1907a0051",
            "14fe11fa4ba94b1a801245e940c5d5f6",
            "c8ec6c0798124023a2adbd2218e50de4",
            "a645902eaab84e59b1c4523b1026f566",
            "d1edf393bc9745008758eb720588e9e5",
            "9d7456d90f7245399165a74d032f8109",
            "cff1072bdd0348eea4919af5d411da85",
            "778b466d8d9c44e0a11e461f85b3bd0e",
            "a6738333e3c04d75b0fc2904d083cc8f",
            "49b576c9a16b496782675185847cdef6",
            "e795a88cd35f401da27ce3a683ed78e6",
            "0285eab356ea43e4814ba6414bbc2678",
            "b9dd64d5f628476fbf4640cde6ebab2e",
            "97526387d39f4cafadcfc85f5b0e0e4c",
            "e5c23018ff5d484dae889ce26373b1d4",
            "ebf86ae951364674a04912944091104a",
            "2775817c86324b6ab9805bd2f21ee7f8",
            "0140eb6388494cb4913e35a5e3634a00",
            "071233a1ed19492b8e14f616615f8624",
            "29a9c7c7b4524cc5aa49ea9c7531e4b5",
            "08cfd2faac894409994b152f58122fdf",
            "0ed094b830e8416b864ff4a508a70a40",
            "a3edcc8dc09f4b11bdfa39610f693d33",
            "334e6c8efc284184aa8345e3a9ef4d45",
            "b432a5e71b9a4602ac66e62b2783ce31",
            "fee3215c1e0c482b8dfee7a3d26995c2",
            "b85f704b75684aa9ab477a0cd22b5d4f",
            "aac65c713cdf4fc6b7315cca1cf8cb24",
            "599aea60772b4b43a4775c7e41f024ec",
            "de75ae65e1f6441f93210387175bfebb",
            "abdedb1a153e4a27b46c5c1cd9f89509",
            "ba55900f83674c3285b46ea441148cd7",
            "f13fb4a95ee240a28e042dada593d18c",
            "83601ed4b118450abe2c8a6380faae9e",
            "c1afa6d028884e5abcbe1ef3e37af728",
            "592844ed04934de0b389ad9ee642fd99",
            "cd2532e6416e4452b15ae2a15bfdc759",
            "f8b956892ebe4aec94cd0cb1f265ec4f",
            "660e474135344cbc945b1acef2141950",
            "48b19644849449699775fd142a1fac1d",
            "fca0102f4aad406788696c786c085e95",
            "f70619235ace4549a58346ab80c4aae8",
            "f63da1019b6e4c2895562bc90aa31b95",
            "03c473ac36934cf0b33e1013c4233e0f",
            "a77707341ead46b196c112dc0ffce6c0",
            "a1de2d5609894a32a8dd52f676431cf2",
            "45ecb803d0aa45979626d2b191c1c9d0",
            "f2575a40f1f542cf9a422b0425ff81a1",
            "9e6330173b6d42cab42a38737e598a09",
            "b47044aa7f0a41b19dc1087feb695020",
            "970d6873c4094859ba22bd2c3446282e",
            "dacfbc05c4434de68e63eec246523e4c",
            "fe0da39121034452bbcc1a854ebb8685",
            "e1d9d88de7d3440b9d4f341a8849f2e7"
          ]
        },
        "outputId": "e1625cf0-86e7-447a-c79b-372c8e057146"
      },
      "outputs": [
        {
          "output_type": "stream",
          "name": "stderr",
          "text": [
            "/usr/local/lib/python3.10/dist-packages/huggingface_hub/utils/_token.py:88: UserWarning: \n",
            "The secret `HF_TOKEN` does not exist in your Colab secrets.\n",
            "To authenticate with the Hugging Face Hub, create a token in your settings tab (https://huggingface.co/settings/tokens), set it as secret in your Google Colab and restart your session.\n",
            "You will be able to reuse this secret in all of your notebooks.\n",
            "Please note that authentication is recommended but still optional to access public models or datasets.\n",
            "  warnings.warn(\n"
          ]
        },
        {
          "output_type": "display_data",
          "data": {
            "text/plain": [
              "tokenizer_config.json:   0%|          | 0.00/25.0 [00:00<?, ?B/s]"
            ],
            "application/vnd.jupyter.widget-view+json": {
              "version_major": 2,
              "version_minor": 0,
              "model_id": "a67620d61ebf47ea86c53d3a1108afa4"
            }
          },
          "metadata": {}
        },
        {
          "output_type": "display_data",
          "data": {
            "text/plain": [
              "config.json:   0%|          | 0.00/498 [00:00<?, ?B/s]"
            ],
            "application/vnd.jupyter.widget-view+json": {
              "version_major": 2,
              "version_minor": 0,
              "model_id": "e795a88cd35f401da27ce3a683ed78e6"
            }
          },
          "metadata": {}
        },
        {
          "output_type": "display_data",
          "data": {
            "text/plain": [
              "vocab.json:   0%|          | 0.00/899k [00:00<?, ?B/s]"
            ],
            "application/vnd.jupyter.widget-view+json": {
              "version_major": 2,
              "version_minor": 0,
              "model_id": "0ed094b830e8416b864ff4a508a70a40"
            }
          },
          "metadata": {}
        },
        {
          "output_type": "display_data",
          "data": {
            "text/plain": [
              "merges.txt:   0%|          | 0.00/456k [00:00<?, ?B/s]"
            ],
            "application/vnd.jupyter.widget-view+json": {
              "version_major": 2,
              "version_minor": 0,
              "model_id": "f13fb4a95ee240a28e042dada593d18c"
            }
          },
          "metadata": {}
        },
        {
          "output_type": "display_data",
          "data": {
            "text/plain": [
              "special_tokens_map.json:   0%|          | 0.00/150 [00:00<?, ?B/s]"
            ],
            "application/vnd.jupyter.widget-view+json": {
              "version_major": 2,
              "version_minor": 0,
              "model_id": "03c473ac36934cf0b33e1013c4233e0f"
            }
          },
          "metadata": {}
        }
      ],
      "source": [
        "tokenizer = AutoTokenizer.from_pretrained('microsoft/CodeBERT-base')"
      ]
    },
    {
      "cell_type": "code",
      "execution_count": 6,
      "metadata": {
        "id": "BAdrvcIbORig"
      },
      "outputs": [],
      "source": [
        "# Load the concatenated data\n",
        "raw_data = pd.read_csv(\"https://raw.githubusercontent.com/slinderman/stats305b/winter2024/assignments/hw4/python_corpus_4M.csv\", header=None)"
      ]
    },
    {
      "cell_type": "code",
      "source": [
        "raw_data.shape"
      ],
      "metadata": {
        "colab": {
          "base_uri": "https://localhost:8080/"
        },
        "id": "LdsahPXEdD2j",
        "outputId": "35aeacf0-442d-4b1d-f6ec-c1b0d0126082"
      },
      "execution_count": 7,
      "outputs": [
        {
          "output_type": "execute_result",
          "data": {
            "text/plain": [
              "(1172, 1)"
            ]
          },
          "metadata": {},
          "execution_count": 7
        }
      ]
    },
    {
      "cell_type": "code",
      "source": [
        "print(raw_data.iloc[60].values)"
      ],
      "metadata": {
        "colab": {
          "base_uri": "https://localhost:8080/"
        },
        "id": "C7AgfhykcnKy",
        "outputId": "5e6af02b-7cbc-4a40-c914-579ff992c1f0"
      },
      "execution_count": 8,
      "outputs": [
        {
          "output_type": "stream",
          "name": "stdout",
          "text": [
            "['\"\"\"\\nReads climate modeling grid 0.05 degree MCD43 BRDF files.\\n\\n\"\"\"\\n\\nimport os\\nimport sys\\nfrom numpy    import loadtxt, array, tile, where, concatenate, flipud\\nfrom numpy import ones\\nfrom datetime import date, datetime, timedelta\\nfrom glob     import glob\\nfrom pyhdf.SD import SD, HDF4Error\\n\\nMISSING = 32.767\\n\\n\\nSDS = dict (\\n      LAND = (\\'BRDF_Albedo_Parameter1_Band1\\',\\'BRDF_Albedo_Parameter1_Band2\\',\\n              \\'BRDF_Albedo_Parameter1_Band3\\',\\'BRDF_Albedo_Parameter1_Band4\\',\\n              \\'BRDF_Albedo_Parameter1_Band5\\',\\'BRDF_Albedo_Parameter1_Band6\\',\\n              \\'BRDF_Albedo_Parameter1_Band7\\',\\n              \\'BRDF_Albedo_Parameter2_Band1\\',\\'BRDF_Albedo_Parameter2_Band2\\',\\n              \\'BRDF_Albedo_Parameter2_Band3\\',\\'BRDF_Albedo_Parameter2_Band4\\',\\n              \\'BRDF_Albedo_Parameter2_Band5\\',\\'BRDF_Albedo_Parameter2_Band6\\',\\n              \\'BRDF_Albedo_Parameter2_Band7\\',\\n              \\'BRDF_Albedo_Parameter3_Band1\\',\\'BRDF_Albedo_Parameter3_Band2\\',\\n              \\'BRDF_Albedo_Parameter3_Band3\\',\\'BRDF_Albedo_Parameter3_Band4\\',\\n              \\'BRDF_Albedo_Parameter3_Band5\\',\\'BRDF_Albedo_Parameter3_Band6\\',\\n              \\'BRDF_Albedo_Parameter3_Band7\\'),\\n\\n      QUAL = (\\'BRDF_Albedo_Quality\\',\\n              \\'Snow_BRDF_Albedo\\',\\n              \\'BRDF_Albedo_Ancillary\\', )\\n           )\\n\\nALIAS = dict ( BRDF_Albedo_Parameter1_Band1 = \\'KISO_b1_645\\',\\n               BRDF_Albedo_Parameter1_Band2 = \\'KISO_b2_856\\',\\n               BRDF_Albedo_Parameter1_Band3 = \\'KISO_b3_465\\',\\n               BRDF_Albedo_Parameter1_Band4 = \\'KISO_b4_553\\',\\n               BRDF_Albedo_Parameter1_Band5 = \\'KISO_b5_1241\\',\\n               BRDF_Albedo_Parameter1_Band6 = \\'KISO_b6_1629\\',\\n               BRDF_Albedo_Parameter1_Band7 = \\'KISO_b7_2114\\',\\n               BRDF_Albedo_Parameter2_Band1 = \\'KVOL_b1_645\\',\\n               BRDF_Albedo_Parameter2_Band2 = \\'KVOL_b2_856\\',\\n               BRDF_Albedo_Parameter2_Band3 = \\'KVOL_b3_465\\',\\n               BRDF_Albedo_Parameter2_Band4 = \\'KVOL_b4_553\\',\\n               BRDF_Albedo_Parameter2_Band5 = \\'KVOL_b5_1241\\',\\n               BRDF_Albedo_Parameter2_Band6 = \\'KVOL_b6_1629\\',\\n               BRDF_Albedo_Parameter2_Band7 = \\'KVOL_b7_2114\\',\\n               BRDF_Albedo_Parameter3_Band1 = \\'KGEO_b1_645\\',\\n               BRDF_Albedo_Parameter3_Band2 = \\'KGEO_b2_856\\',\\n               BRDF_Albedo_Parameter3_Band3 = \\'KGEO_b3_465\\',\\n               BRDF_Albedo_Parameter3_Band4 = \\'KGEO_b4_553\\',\\n               BRDF_Albedo_Parameter3_Band5 = \\'KGEO_b5_1241\\',\\n               BRDF_Albedo_Parameter3_Band6 = \\'KGEO_b6_1629\\',\\n               BRDF_Albedo_Parameter3_Band7 = \\'KGEO_b7_2114\\',               \\n             )\\n\\n#...........................................................................\\n\\nclass McD43C(object):\\n    \"\"\"\\n    This class implements the MODIS LAND BRDF 16-day Level 3 products, MCD43C1 (0.05 degree horz res), \\n    \"\"\"\\n\\n    def __init__ (self,Path,lon,lat,Verb=1):\\n        \"\"\"\\n        Reads files for one day of Level 3 MCD43C1 \\n        present on a given *Path* and returns an object with\\n        all 3 kernels coeff. On input, \\n\\n        Required parameters:\\n         Path -- for now a single file.  Eventually implement a single directory, or a list\\n                 of files and directories. \\n                            \\n        \"\"\"\\n        if type(lon) is list:\\n            lon = array(lon)\\n            lat = array(lat)\\n\\n        # List of HDF files for a given date\\n        #-----------------------------------\\n        self.verb = Verb\\n        self.SDS = SDS[\\'LAND\\'] \\n        #self.Tfiles = glob(Path + \\'*.hdf\\')\\n        if type(Path) is str:\\n            self.Files = [Path]\\n        else:\\n            self.Files = Path\\n\\n        # From a list of lat and lon, return the \\n        # dx, dy on the grid\\n        # -------------------------------------  \\n        self.nobs = len(lon)\\n        self._findNearest(Path,lon,lat)\\n\\n        # Read BRDF kernel in a MODIS tile\\n        # --------------------------------- \\n        self.read_BRDF()\\n\\n        # Result\\n                  \\n       \\n#--- \\n    def _findNearest(self,path,lon,lat):\\n\\n       \"\"\"Given a list of lat, lon, return numbers to find the \\n          position of the nearest neighbor on the grid (dx,dy)\\n       \"\"\"\\n       dLon = 0.05\\n       dLat = 0.05\\n       Lon0 = -180 - dLon\\n       Lat0 = -90 + dLat\\n\\n       self.dx = (0.5+(lon-Lon0)/dLon).astype(int)\\n       self.dy = (0.5+(lat-Lat0)/dLat).astype(int)\\n\\n       if self.verb:\\n          print \\'dx\\',\\'dy\\', self.dx,self.dy\\n      \\n#---\\n    def read_BRDF(self):\\n        \"\"\"Reads MCD43C1 file with Level 3 BRDF kernels for each MODIS band.\"\"\"\\n\\n        # Create empty lists for SDS to be read from file\\n        # -----------------------------------------------\\n        for name in self.SDS:\\n           self.__dict__[name] = [] \\n\\n        BRDF = MISSING * ones((len(self.SDS),self.nobs)) \\n\\n        for fn in self.Files:        \\n            try:\\n                if self.verb:\\n                    print \"[] Working on \"+fn\\n                hfile = SD(fn)\\n            except HDF4Error:\\n                if self.verb > 2:\\n                    print \"- %s: not recognized as an HDF file\"%filename\\n                return \\n\\n            # Read select variables (reshape to allow concatenation later)\\n            # ------------------------------------------------------------\\n            for sds in self.SDS:  \\n                if self.verb:\\n                  print \\'sds\\',self.SDS.index(sds)                 \\n                v = hfile.select(sds).get()           \\n                a = hfile.select(sds).attributes()\\n                if a[\\'scale_factor\\']!=1.0 or a[\\'add_offset\\']!=0.0:\\n                    v = a[\\'scale_factor\\'] * v + a[\\'add_offset\\']\\n                if self.verb:\\n                  print array(self.dx), BRDF.shape, BRDF[self.SDS.index(sds),:], v.shape \\n\\n                v = flipud(v)\\n                BRDF[self.SDS.index(sds),:] = v[array(self.dy), array(self.dx)]\\n\\n            for sds in self.SDS:  \\n               self.__dict__[sds] = BRDF[self.SDS.index(sds),:]  \\n               if sds in ALIAS.keys():\\n                   self.__dict__[ALIAS[sds]] = self.__dict__[sds] \\n         \\n        \\n#---\\n\\n#............................................................................\\n\\nif __name__ == \"__main__\":\\n\\n\\n    path = \\'/nobackup/3/pcastell/MODIS/MCD43C1/MCD43C1.A2005361.005.2008094071946.hdf\\'\\n      \\n    lon = [-2.,-120.,15.2,17.2,170.1]\\n    lat = [88.,40.,-20.,-20.,-55.5]\\n\\n    lon = np.arange(-180,180,1)\\n    lat = np.arange(-90,90,1)\\n    lon,lat = np.meshgrid(lon,lat)\\n    ex = McD43C(path,lon.flatten(),lat.flatte())\\n\\n']\n"
          ]
        }
      ]
    },
    {
      "cell_type": "code",
      "execution_count": 9,
      "metadata": {
        "id": "LFZ2or4BO2w3",
        "colab": {
          "base_uri": "https://localhost:8080/"
        },
        "outputId": "69a2ad3a-0a0b-4f5e-b795-c1414e11a46c"
      },
      "outputs": [
        {
          "output_type": "stream",
          "name": "stderr",
          "text": [
            "Token indices sequence length is longer than the specified maximum sequence length for this model (523 > 512). Running this sequence through the model will result in indexing errors\n"
          ]
        },
        {
          "output_type": "stream",
          "name": "stdout",
          "text": [
            "4000596 tokens have been loaded in\n"
          ]
        }
      ],
      "source": [
        "# should take around 3 min to load in around 4M tokens\n",
        "warnings.filterwarnings(\"ignore\")\n",
        "\n",
        "tokens = torch.tensor([], dtype=torch.long)\n",
        "for index, row in raw_data.iterrows():\n",
        "    text = row[0]\n",
        "    chunks = chunk_string(text, chunk_size)\n",
        "    n = len(chunks)\n",
        "    for idx, chunk in enumerate(chunks):\n",
        "        new_tokens = torch.tensor(tokenizer.encode(chunk, add_special_tokens=True))\n",
        "\n",
        "        # logic to avoid incorrectly adding in start and end sequence tokens as an artifact of chunking\n",
        "        if idx == 0:\n",
        "            tokens = torch.cat((tokens, new_tokens[:-1]), dim=0)\n",
        "        elif idx == n-1:\n",
        "            tokens = torch.cat((tokens, new_tokens[1:]), dim=0)\n",
        "        else:\n",
        "            tokens = torch.cat((tokens, new_tokens[1:-1]), dim=0)\n",
        "\n",
        "print(f\"{len(tokens)} tokens have been loaded in\")"
      ]
    },
    {
      "cell_type": "markdown",
      "metadata": {
        "id": "NUnScCoUCRI0"
      },
      "source": [
        "### Question 0.2: Examining the tokenizer"
      ]
    },
    {
      "cell_type": "markdown",
      "metadata": {
        "id": "3rz0XmuXCdGJ"
      },
      "source": [
        "Let's see what the tokens look like! We will use these two prompts during the assignment."
      ]
    },
    {
      "cell_type": "code",
      "execution_count": 10,
      "metadata": {
        "id": "KPbmLgmmChVg"
      },
      "outputs": [],
      "source": [
        "prompt_1_text = \\\n",
        "\"\"\"def newton(eta, N, X, y, gamma, beta=None):\n",
        "  \\\"\"\"\n",
        "  Performs Newton's method on the negative average log likelihood with an\n",
        "  l2 regularization term\n",
        "\n",
        "  beta: torch.Tensor, of shape (teams)\n",
        "  X: torch.Tensor, the covariate matrix, of shape (-1, teams)\n",
        "  y: torch.Tensor, the response vector, of shape (teams)\n",
        "  gamma: float, the scale parameter for the regularization\n",
        "  beta: torch.Tensor, the starting point for gradient descent, if specified\n",
        "  \\\"\"\"\n",
        "\n",
        "  if beta is None:\n",
        "    # Instantiate the beta vector at a random point\n",
        "    beta = torch.randn(X.shape[1])\n",
        "  else:\n",
        "    beta = torch.clone(beta)\n",
        "\n",
        "  loss = []\n",
        "\n",
        "  # Instantiate a list to store the loss throughout the gradient descent\n",
        "  # path\n",
        "  for i in tqdm(range(N)):\"\"\""
      ]
    },
    {
      "cell_type": "code",
      "execution_count": 11,
      "metadata": {
        "id": "gZpeZjvqCnmH"
      },
      "outputs": [],
      "source": [
        "prompt_2_text = \\\n",
        "\"\"\"import torch\n",
        "import torch.nn.functional as F\n",
        "\n",
        "\n",
        "def normalize(x, axis=-1):\n",
        "    \\\"\"\"Performs L2-Norm.\\\"\"\"\n",
        "    num = x\n",
        "    denom = torch.norm(x, 2, axis, keepdim=True).expand_as(x) + 1e-12\n",
        "    return num / denom\n",
        "\n",
        "def euclidean_dist(x, y):\n",
        "    \\\"\"\"Computes Euclidean distance.\\\"\"\"\n",
        "    m, n = x.size(0), y.size(0)\n",
        "    xx = torch.pow(x, 2).sum(1, keepdim=True).expand(m, n)\n",
        "    yy = torch.pow(x, 2).sum(1, keepdim=True).expand(m, m).t()\n",
        "    dist = xx + yy - 2 * torch.matmul(x, y.t())\n",
        "\n",
        "    dist = dist.clamp(min=1e-12).sqrt()\n",
        "\n",
        "    return dist\n",
        "\n",
        "\n",
        "def cosine_dist(x, y):\"\"\""
      ]
    },
    {
      "cell_type": "markdown",
      "metadata": {
        "id": "jFZUT77rCp3q"
      },
      "source": [
        "Here is what the tokenized output for the prompts looks like"
      ]
    },
    {
      "cell_type": "code",
      "execution_count": 12,
      "metadata": {
        "id": "-8rJjbTKCtRa",
        "colab": {
          "base_uri": "https://localhost:8080/",
          "height": 124
        },
        "outputId": "d6457ef4-bedd-4c65-9e08-4bf51de633c9"
      },
      "outputs": [
        {
          "output_type": "execute_result",
          "data": {
            "text/plain": [
              "'<s>def newton(eta, N, X, y, gamma, beta=None):\\n  \"\"\"\\n  Performs Newton\\'s method on the negative average log likelihood with an\\n  l2 regularization term\\n\\n  beta: torch.Tensor, of shape (teams)\\n  X: torch.Tensor, the covariate matrix, of shape (-1, teams)\\n  y: torch.Tensor, the response vector, of shape (teams)\\n  gamma: float, the scale parameter for the regularization\\n  beta: torch.Tensor, the starting point for gradient descent, if specified\\n  \"\"\"\\n\\n  if beta is None:\\n    # Instantiate the beta vector at a random point\\n    beta = torch.randn(X.shape[1])\\n  else:\\n    beta = torch.clone(beta)\\n\\n  loss = []\\n\\n  # Instantiate a list to store the loss throughout the gradient descent\\n  # path\\n  for i in tqdm(range(N)):</s>'"
            ],
            "application/vnd.google.colaboratory.intrinsic+json": {
              "type": "string"
            }
          },
          "metadata": {},
          "execution_count": 12
        }
      ],
      "source": [
        "tokenizer.decode(tokenizer.encode(prompt_1_text))"
      ]
    },
    {
      "cell_type": "code",
      "execution_count": 13,
      "metadata": {
        "id": "a4zd13L0CvQ9",
        "colab": {
          "base_uri": "https://localhost:8080/",
          "height": 106
        },
        "outputId": "4da65b12-13af-432a-e39e-0d6bea7467b4"
      },
      "outputs": [
        {
          "output_type": "execute_result",
          "data": {
            "text/plain": [
              "'<s>import torch\\nimport torch.nn.functional as F\\n\\n\\ndef normalize(x, axis=-1):\\n    \"\"\"Performs L2-Norm.\"\"\"\\n    num = x\\n    denom = torch.norm(x, 2, axis, keepdim=True).expand_as(x) + 1e-12\\n    return num / denom\\n\\ndef euclidean_dist(x, y):\\n    \"\"\"Computes Euclidean distance.\"\"\"\\n    m, n = x.size(0), y.size(0)\\n    xx = torch.pow(x, 2).sum(1, keepdim=True).expand(m, n)\\n    yy = torch.pow(x, 2).sum(1, keepdim=True).expand(m, m).t()\\n    dist = xx + yy - 2 * torch.matmul(x, y.t())\\n\\n    dist = dist.clamp(min=1e-12).sqrt()\\n\\n    return dist\\n\\n\\ndef cosine_dist(x, y):</s>'"
            ],
            "application/vnd.google.colaboratory.intrinsic+json": {
              "type": "string"
            }
          },
          "metadata": {},
          "execution_count": 13
        }
      ],
      "source": [
        "tokenizer.decode(tokenizer.encode(prompt_2_text))"
      ]
    },
    {
      "cell_type": "markdown",
      "metadata": {
        "id": "bbOwt9U_CyNi"
      },
      "source": [
        "And here are what the first and last 10 tokens for prompt 1 look like:"
      ]
    },
    {
      "cell_type": "code",
      "execution_count": 14,
      "metadata": {
        "id": "nqBUhCiUC6Tk",
        "colab": {
          "base_uri": "https://localhost:8080/"
        },
        "outputId": "707e3dfa-5bbf-4068-b848-61b1910e71e9"
      },
      "outputs": [
        {
          "output_type": "stream",
          "name": "stdout",
          "text": [
            "0 : <s>\n",
            "9232 : def\n",
            "92 :  new\n",
            "1054 : ton\n",
            "1640 : (\n",
            "8152 : eta\n",
            "6 : ,\n",
            "234 :  N\n",
            "6 : ,\n",
            "1577 :  X\n"
          ]
        }
      ],
      "source": [
        "for tok in tokenizer.encode(prompt_1_text, add_special_tokens=True)[:10]:\n",
        "    print(f\"{tok} : {tokenizer.decode([tok])}\")"
      ]
    },
    {
      "cell_type": "code",
      "execution_count": 15,
      "metadata": {
        "id": "UHpBvaxzC7hd",
        "colab": {
          "base_uri": "https://localhost:8080/"
        },
        "outputId": "e7fe492a-be15-4dc0-b359-d6b68b34c380"
      },
      "outputs": [
        {
          "output_type": "stream",
          "name": "stdout",
          "text": [
            "326 :  t\n",
            "1343 : q\n",
            "43604 : dm\n",
            "1640 : (\n",
            "9435 : range\n",
            "1640 : (\n",
            "487 : N\n",
            "43 : )\n",
            "3256 : ):\n",
            "2 : </s>\n"
          ]
        }
      ],
      "source": [
        "for tok in tokenizer.encode(prompt_1_text)[-10:]:\n",
        "    print(f\"{tok} : {tokenizer.decode([tok])}\")"
      ]
    },
    {
      "cell_type": "markdown",
      "metadata": {
        "id": "MrBJPZYYC9za"
      },
      "source": [
        "**Question 0.2**: What is the meanining of the `<s>` and the `<\\s>` tokens? Why is it useful to have them?"
      ]
    },
    {
      "cell_type": "markdown",
      "source": [
        "**Answer:** The \\<s> and \\</s> tokens are special markers used in the context of language model training and processing to indicate the beginning and end of a sentence or text sequence, respectively. This is crucial for models to understand where a sentence or a coherent piece of text begins and ends, especially when processing multiple sentences or paragraphs in a single input. In addition, these tokens can signal different stages of processing or be used to trigger specific behaviors. For instance, in sequence-to-sequence models, the \\<s> token might signal the start of a generation task, while \\</s> indicates that the model should stop generating further text."
      ],
      "metadata": {
        "id": "VFUjm1Em6cON"
      }
    },
    {
      "cell_type": "markdown",
      "metadata": {
        "id": "0hwg1_7kDxwY"
      },
      "source": [
        "### 0.3: Building our dataloader"
      ]
    },
    {
      "cell_type": "markdown",
      "metadata": {
        "id": "uk4UJm5SEMlB"
      },
      "source": [
        "There are around 50,000 tokens in the codebert vocab, but we only use around 20,000 of them. To make our lives easier, we just reindex the token indices to go from 1 to around 20,000."
      ]
    },
    {
      "cell_type": "code",
      "execution_count": 16,
      "metadata": {
        "id": "RZC0TYeaD6yj",
        "colab": {
          "base_uri": "https://localhost:8080/"
        },
        "outputId": "2974645f-a729-4e1e-f82e-38a839453717"
      },
      "outputs": [
        {
          "output_type": "stream",
          "name": "stdout",
          "text": [
            "there are 21970 distinct tokens in the vocabulary\n"
          ]
        }
      ],
      "source": [
        "# Get unique elements\n",
        "extra_tokens = torch.cat((torch.tensor(tokenizer.encode(prompt_1_text, add_special_tokens=True)),\n",
        "                          torch.tensor(tokenizer.encode(prompt_2_text, add_special_tokens=True))),\n",
        "                         dim=0)\n",
        "\n",
        "unique_tokens = torch.unique(torch.cat((tokens, extra_tokens), dim=0))\n",
        "\n",
        "# Create a mapping from code bert to ids that increment by one\n",
        "from_code_bert_dict = {element.item(): id for id, element in enumerate(unique_tokens)}\n",
        "\n",
        "# Create a reverse mapping from ids to code bert token ids\n",
        "to_code_bert_dict = {id: element for element, id in from_code_bert_dict.items()}\n",
        "\n",
        "vocab_size = len(unique_tokens)\n",
        "print(f\"there are {vocab_size} distinct tokens in the vocabulary\")\n",
        "\n",
        "# helper functions to move between code bert and simple ids\n",
        "def from_code_bert(tkn_lst):\n",
        "    \"\"\"\n",
        "    Args:\n",
        "    tkn_lst: a list of code bert tokens\n",
        "    Returns:\n",
        "    a list of simple ids\n",
        "    \"\"\"\n",
        "    tkns = [int(from_code_bert_dict[token]) for token in tkn_lst]\n",
        "    return tkns\n",
        "\n",
        "\n",
        "def to_code_bert(tkn_lst):\n",
        "    \"\"\"\n",
        "    Args:\n",
        "    tkn_lst: a list of simple ids (can also be of type torch.Tensor)\n",
        "    Returns:\n",
        "    a list of code bert tokens\n",
        "    \"\"\"\n",
        "    if isinstance(tkn_lst, torch.Tensor):\n",
        "        tkn_lst = tkn_lst.cpu().numpy()\n",
        "    tkns = [int(to_code_bert_dict[token]) for token in tkn_lst]\n",
        "    return tkns"
      ]
    },
    {
      "cell_type": "code",
      "execution_count": 17,
      "metadata": {
        "id": "pNOmdccJEXWk",
        "colab": {
          "base_uri": "https://localhost:8080/"
        },
        "outputId": "2a3b989f-8f7d-498f-a1bb-1a3829b62010"
      },
      "outputs": [
        {
          "output_type": "stream",
          "name": "stdout",
          "text": [
            "there are 3600536 tokens in the training set\n",
            "there are 400060 tokens in the validation set\n",
            "there are 21970 distinct tokens in the vocabulary\n"
          ]
        }
      ],
      "source": [
        "# let's translate our dataset into our ids\n",
        "tokens_simple_id = torch.tensor([from_code_bert_dict[token.item()] for token in tokens])\n",
        "\n",
        "# split up the data into train and validation sets\n",
        "n = int(0.9 * len(tokens_simple_id)) # first 90% will be train, rest val\n",
        "train_data = tokens_simple_id.clone()[:n]\n",
        "val_data = tokens_simple_id.clone()[n:]\n",
        "\n",
        "print(f\"there are {len(train_data)} tokens in the training set\")\n",
        "print(f\"there are {len(val_data)} tokens in the validation set\")\n",
        "print(f\"there are {vocab_size} distinct tokens in the vocabulary\")"
      ]
    },
    {
      "cell_type": "markdown",
      "metadata": {
        "id": "nsOs0_diEcjY"
      },
      "source": [
        "We also write helper functions to get batches of data and to evaluate the loss of various models on them."
      ]
    },
    {
      "cell_type": "code",
      "execution_count": 18,
      "metadata": {
        "id": "AkAD0PfiEfjG"
      },
      "outputs": [],
      "source": [
        "# function for getting batches of data\n",
        "def get_batch(split, context_window_size, device, batch_size=32):\n",
        "    \"\"\"\n",
        "    generate a small batch of data of inputs x and targets y\n",
        "\n",
        "    Args:\n",
        "        split: 'train' or 'val'\n",
        "        device: 'cpu' or 'cuda' (should be 'cuda' if available)\n",
        "    \"\"\"\n",
        "    data = train_data if split == 'train' else val_data\n",
        "    ix = torch.randint(len(data) - context_window_size, (batch_size,))\n",
        "    x = torch.stack([data[i:i+context_window_size] for i in ix])\n",
        "    y = torch.stack([data[i+1:i+context_window_size+1] for i in ix])\n",
        "    x = x.to(device)\n",
        "    y = y.to(device)\n",
        "    return x, y\n",
        "\n",
        "# helper function for tracking loss during training\n",
        "# given to you\n",
        "@torch.no_grad()\n",
        "def estimate_loss(model, eval_iters, context_window_size, device):\n",
        "    \"\"\"\n",
        "    Args:\n",
        "      model: model being evaluated\n",
        "      eval_iters: number of batches to average over\n",
        "      context_window_size: size of the context window\n",
        "      device: 'cpu' or 'cuda' (should be 'cuda' if available)\n",
        "    \"\"\"\n",
        "    out = {}\n",
        "    for split in ['train', 'val']:\n",
        "        losses = torch.zeros(eval_iters)\n",
        "        for k in range(eval_iters):\n",
        "            X, Y = get_batch(split, context_window_size, device)\n",
        "            logits, loss = model(X, Y)\n",
        "            losses[k] = loss.item()\n",
        "        out[split] = losses.mean()\n",
        "    return out"
      ]
    },
    {
      "cell_type": "code",
      "source": [
        "start_context = torch.zeros((1, 1), dtype=torch.long, device=device)\n",
        "print(f\"shape is {start_context.shape}\")\n",
        "context1 = torch.tensor(from_code_bert(tokenizer.encode(prompt_1_text)[:-1]), device=device).reshape(1, -1) # (1, T)\n",
        "print(f\"shape is {context1.shape}\")\n",
        "context2 = torch.tensor(from_code_bert(tokenizer.encode(prompt_2_text)[:-1])).to(device).reshape(1, -1)\n",
        "print(f\"shape is {context2.shape}\")"
      ],
      "metadata": {
        "id": "aH-tDuxOPoMk",
        "outputId": "ad070775-d460-48eb-ef38-74bac794ac1e",
        "colab": {
          "base_uri": "https://localhost:8080/"
        }
      },
      "execution_count": 19,
      "outputs": [
        {
          "output_type": "stream",
          "name": "stdout",
          "text": [
            "shape is torch.Size([1, 1])\n",
            "shape is torch.Size([1, 225])\n",
            "shape is torch.Size([1, 263])\n"
          ]
        }
      ]
    },
    {
      "cell_type": "markdown",
      "metadata": {
        "id": "jeKfSrREhgdH"
      },
      "source": [
        "# Modify original transformer LM"
      ]
    },
    {
      "cell_type": "code",
      "source": [
        "p_drop = 0.0 # probability of zeroing an element"
      ],
      "metadata": {
        "id": "52wty7m5xf1w"
      },
      "execution_count": 20,
      "outputs": []
    },
    {
      "cell_type": "code",
      "source": [
        "class Head(nn.Module):\n",
        "    \"\"\" one head of self-attention \"\"\"\n",
        "\n",
        "    def __init__(self, head_size, context_window_size,\n",
        "                 embed_size=384, isDropout = True):\n",
        "        \"\"\"\n",
        "        Args:\n",
        "          head_size: int, size of the head embedding dimension (K)\n",
        "          context_window_size: int, number of tokens considered in the past for attention (T)\n",
        "          embed_size: int, size of the token embedding dimension (D)\n",
        "        \"\"\"\n",
        "        super().__init__()\n",
        "        self.head_size = head_size\n",
        "        self.key = nn.Linear(embed_size, head_size, bias=False) # weights (K, D)\n",
        "        self.query = nn.Linear(embed_size, head_size, bias=False) # weights (K, D)\n",
        "        self.value = nn.Linear(embed_size, embed_size, bias=False) # weights (D, D)\n",
        "        self.isDropout = isDropout\n",
        "        self.dropout = nn.Dropout(p_drop)\n",
        "\n",
        "        # not a param of the model, so registered as a buffer\n",
        "        self.register_buffer('tril', torch.tril(\n",
        "            torch.ones(context_window_size, context_window_size)))\n",
        "\n",
        "    def forward(self, x):\n",
        "        \"\"\"\n",
        "        Args:\n",
        "          x: (B,T,D) tensor of token embeddings\n",
        "\n",
        "        Returns:\n",
        "          (B,T,D) tensor of attention-weighted token embeddings\n",
        "        \"\"\"\n",
        "        # TODO: your code here\n",
        "        X_k = self.key(x) # X projected onto K-space (B, T, K)\n",
        "        X_q = self.query(x) # X projected onto Q-space (B, T, K)\n",
        "        X_v = self.value(x) # X projected onto V-space (B, T, D)\n",
        "        sqrt_K = torch.sqrt(torch.tensor(self.head_size)) # sqrt(K)\n",
        "\n",
        "        X_k_T = X_k.transpose(-2, -1)\n",
        "        XUUX = X_q @ X_k_T # (B, T, T)\n",
        "        XUUX = XUUX.masked_fill(self.tril == 0, float('-inf')) # applies causal mask\n",
        "        attn_weights = XUUX / sqrt_K\n",
        "        attn_weights = F.softmax(attn_weights, dim=-1) # (B, T, T)\n",
        "        if self.isDropout:\n",
        "            attn_weights = self.dropout(attn_weights) # apply dropout to attention weights\n",
        "        wghtDmbds = attn_weights @ X_v # (B, T, D)\n",
        "        return wghtDmbds"
      ],
      "metadata": {
        "id": "Wn7g7YTzx_x8"
      },
      "execution_count": 21,
      "outputs": []
    },
    {
      "cell_type": "code",
      "source": [
        "class MultiHeadAttention(nn.Module):\n",
        "    \"\"\" multiple heads of self-attention in parallel \"\"\"\n",
        "\n",
        "    def __init__(self, vocab_size, context_window_size, num_heads, head_size,\n",
        "                 embed_size=384, isDropout = True):\n",
        "        super().__init__()\n",
        "        # TODO, your code below\n",
        "        self.heads = nn.ModuleList(\n",
        "            [Head(head_size, context_window_size, embed_size, isDropout) for _ in range(num_heads)])\n",
        "        # Concatenation of H linear read-out matrices V, each of dimensions (D, D)\n",
        "        self.proj = nn.Linear(embed_size * num_heads, embed_size)\n",
        "        self.isDropout = isDropout\n",
        "        self.dropout = nn.Dropout(p_drop)\n",
        "\n",
        "    def forward(self, x):\n",
        "        # TODO, your code below\n",
        "        out = torch.cat([head(x) for head in self.heads], dim = -1)\n",
        "        out = self.proj(out)\n",
        "        if self.isDropout:\n",
        "            out = self.dropout(out)\n",
        "        return out"
      ],
      "metadata": {
        "id": "0t9oBTDB0Jc4"
      },
      "execution_count": 22,
      "outputs": []
    },
    {
      "cell_type": "code",
      "source": [
        "# run this cell to initialize this deep learning module that you should use in the code your write later\n",
        "# you don't need to edit this layer\n",
        "class FeedForward(nn.Module):\n",
        "    \"\"\" a simple linear layer followed by a non-linearity\n",
        "        Given to you, you don't need to write any code here!\n",
        "    \"\"\"\n",
        "\n",
        "    def __init__(self, embed_size, relu):\n",
        "        '''\n",
        "        Use either relu or gelu function\n",
        "        '''\n",
        "        super().__init__()\n",
        "        self.net = nn.Sequential(\n",
        "            nn.Linear(embed_size, 4 * embed_size),\n",
        "            nn.ReLU() if relu else nn.GELU(),\n",
        "            nn.Linear(4 * embed_size, embed_size),\n",
        "            nn.Dropout(p_drop)\n",
        "        )\n",
        "\n",
        "    def forward(self, x):\n",
        "        return self.net(x)"
      ],
      "metadata": {
        "id": "V8xcUmf-2jeu"
      },
      "execution_count": 23,
      "outputs": []
    },
    {
      "cell_type": "code",
      "source": [
        "class TransformerBlock(nn.Module):\n",
        "    \"\"\" Transformer block: communication across sequence length, followed by communication across embedding space\n",
        "        Uses multi-headed attention\n",
        "        ---\n",
        "        block_size: a synonym of `context_window_size`\n",
        "    \"\"\"\n",
        "\n",
        "    def __init__(self, vocab_size, block_size, relu, embed_size=384, num_heads=6):\n",
        "        super().__init__()\n",
        "        self.ln1 = nn.LayerNorm(embed_size)\n",
        "        self.ln2 = nn.LayerNorm(embed_size)\n",
        "\n",
        "        # TODO: your code below\n",
        "        self.feed_forward = FeedForward(embed_size, relu = relu)\n",
        "        self.mh_attention = MultiHeadAttention(vocab_size, block_size,\n",
        "                                               num_heads, embed_size // num_heads,\n",
        "                                               embed_size, False)\n",
        "\n",
        "    def forward(self, x):\n",
        "        x = x + self.mh_attention(self.ln1(x)) # communication over sequence length\n",
        "        x = x + self.feed_forward(self.ln2(x)) # communication across embedding space\n",
        "        return x\n",
        "\n",
        "# Test code\n",
        "# x = torch.randn(32, 256, 384)\n",
        "# tb = TransformerBlock(vocab_size, context_window_size)\n",
        "# o = tb(x)"
      ],
      "metadata": {
        "id": "Hg8QLMll25WH"
      },
      "execution_count": 24,
      "outputs": []
    },
    {
      "cell_type": "code",
      "source": [
        "class TransformerLM(nn.Module):\n",
        "\n",
        "    def __init__(self, vocab_size, context_window_size, relu = True,\n",
        "                 embed_size=384, num_heads=6, n_layers=6):\n",
        "        \"\"\"\n",
        "          Args:\n",
        "              vocab_size: int, number of tokens in the vocabulary (V)\n",
        "              context_window_size: int, size of the context window (T)\n",
        "              embed_size: int, embedding size (D)\n",
        "              relu: bool, if the nonlinearity is ReLu or GELU\n",
        "              num_heads: int, number of heads (H)\n",
        "              n_layers: int, number of layers (M)\n",
        "        \"\"\"\n",
        "        super().__init__()\n",
        "        self.context_window_size = context_window_size\n",
        "        self.token_embedding_table = nn.Embedding(vocab_size, embed_size)\n",
        "        self.position_embedding_table = nn.Embedding(context_window_size, embed_size)\n",
        "        self.blocks = nn.Sequential(*[\n",
        "            TransformerBlock(vocab_size,\n",
        "                             context_window_size,\n",
        "                             relu,\n",
        "                             embed_size=embed_size,\n",
        "                             num_heads=num_heads)\n",
        "            for _ in range(n_layers)])\n",
        "\n",
        "        # final layer norm\n",
        "        self.ln_f = nn.LayerNorm(embed_size)\n",
        "        self.lm_head = nn.Linear(embed_size, vocab_size)\n",
        "\n",
        "        # good initialization\n",
        "        self.apply(self._init_weights)\n",
        "\n",
        "    def _init_weights(self, module):\n",
        "        if isinstance(module, nn.Linear):\n",
        "            torch.nn.init.normal_(module.weight, mean=0.0, std=0.02)\n",
        "            if module.bias is not None:\n",
        "                torch.nn.init.zeros_(module.bias)\n",
        "        elif isinstance(module, nn.Embedding):\n",
        "            torch.nn.init.normal_(module.weight, mean=0.0, std=0.02)\n",
        "\n",
        "    def forward(self, token_ids, targets=None):\n",
        "        \"\"\"\n",
        "        Agrgs:\n",
        "            token_ids: tensor of integers, provides the contet, shape (B, T)\n",
        "            targets: tensor of integers, provides the tokens we are preidcitng, shape (B, T)\n",
        "        \"\"\"\n",
        "        B, T = token_ids.shape\n",
        "        # token_ids and targets are both (B, T) tensor of integers\n",
        "        tok_emb = self.token_embedding_table(token_ids) # (B, T, D)\n",
        "        pos_emb = self.position_embedding_table(torch.arange(T, device=device)) # (T, D)\n",
        "        x = tok_emb + pos_emb # (B, T, D)\n",
        "\n",
        "        # TODO: your code below\n",
        "        logits = self.lm_head(self.ln_f(self.blocks(x))) # (B, T, V)\n",
        "\n",
        "        if targets is None:\n",
        "            loss = None\n",
        "        else:\n",
        "            B, T, V = logits.shape\n",
        "            logits = logits.view(B * T, V)\n",
        "            targets = targets.view(B * T)\n",
        "            loss = F.cross_entropy(logits, targets)\n",
        "\n",
        "        return logits, loss\n",
        "\n",
        "    @torch.no_grad()\n",
        "    def generate(self, token_ids, max_new_tokens, temperature = 1.0):\n",
        "        \"\"\"\n",
        "        Args:\n",
        "            token_ids: tensor of integers forming the context, shape (B, T)\n",
        "            max_new_tokens: int, max number of tokens to generate\n",
        "        \"\"\"\n",
        "        # TOOD, your code below\n",
        "        assert (max_new_tokens > 0)\n",
        "        B, T = token_ids.shape # (batch size, length)\n",
        "        delta_T = 0\n",
        "\n",
        "        # Pad short tokens with 0's (<s> token)\n",
        "        if T < self.context_window_size:\n",
        "            token_ids = torch.concat(\n",
        "                (torch.zeros(B, self.context_window_size - T, dtype = torch.int64, device = device),\n",
        "                token_ids), dim = -1)\n",
        "            delta_T = self.context_window_size - T # positive for paddings\n",
        "        elif T > self.context_window_size:\n",
        "            token_ids = token_ids[:, -self.context_window_size:]\n",
        "\n",
        "        T = self.context_window_size # T is the default context_window_size from now on\n",
        "\n",
        "        new_token_ids = torch.zeros(token_ids.shape[0], max_new_tokens,\n",
        "                                    dtype = torch.int64, device = device)\n",
        "        combined_token_ids = torch.concat((token_ids, new_token_ids), dim = -1) # (B, T + max_new_tokens)\n",
        "\n",
        "        for t in range(max_new_tokens):\n",
        "            logits, _ = self.forward(combined_token_ids[:, t:T+t]) # (B, T, V).\n",
        "            logits = logits[:, -1, :] # (B, V). Focus only on the last time step\n",
        "            probs = F.softmax(logits / temperature, dim = -1)\n",
        "            next_idx = torch.multinomial(probs, num_samples = 1) # (B, 1)\n",
        "            combined_token_ids[:, T + t] = next_idx\n",
        "\n",
        "        if delta_T > 0: # Remove the added paddings\n",
        "            combined_token_ids = combined_token_ids[:, delta_T:]\n",
        "\n",
        "        return combined_token_ids"
      ],
      "metadata": {
        "id": "jUBQZ10f7ZB8"
      },
      "execution_count": 25,
      "outputs": []
    },
    {
      "cell_type": "code",
      "execution_count": null,
      "metadata": {
        "colab": {
          "base_uri": "https://localhost:8080/"
        },
        "outputId": "9c968d49-126d-4f1b-e59e-f69c4933f53f",
        "id": "Q-Fui2ULHA9-"
      },
      "outputs": [
        {
          "output_type": "stream",
          "name": "stderr",
          "text": [
            "\r  0%|          | 0/2000 [00:00<?, ?it/s]"
          ]
        },
        {
          "output_type": "stream",
          "name": "stdout",
          "text": [
            "iteration 0\n"
          ]
        },
        {
          "output_type": "stream",
          "name": "stderr",
          "text": [
            "\r  0%|          | 1/2000 [00:21<12:04:12, 21.74s/it]"
          ]
        },
        {
          "output_type": "stream",
          "name": "stdout",
          "text": [
            "step 0: train loss 10.1310, val loss 10.1313\n"
          ]
        },
        {
          "output_type": "stream",
          "name": "stderr",
          "text": [
            " 10%|█         | 200/2000 [00:54<04:55,  6.10it/s]"
          ]
        },
        {
          "output_type": "stream",
          "name": "stdout",
          "text": [
            "iteration 200\n"
          ]
        },
        {
          "output_type": "stream",
          "name": "stderr",
          "text": [
            "\r 10%|█         | 201/2000 [01:16<3:20:45,  6.70s/it]"
          ]
        },
        {
          "output_type": "stream",
          "name": "stdout",
          "text": [
            "step 200: train loss 4.3401, val loss 4.3463\n"
          ]
        },
        {
          "output_type": "stream",
          "name": "stderr",
          "text": [
            " 20%|██        | 400/2000 [01:48<04:21,  6.13it/s]"
          ]
        },
        {
          "output_type": "stream",
          "name": "stdout",
          "text": [
            "iteration 400\n"
          ]
        },
        {
          "output_type": "stream",
          "name": "stderr",
          "text": [
            "\r 20%|██        | 401/2000 [02:10<2:59:03,  6.72s/it]"
          ]
        },
        {
          "output_type": "stream",
          "name": "stdout",
          "text": [
            "step 400: train loss 3.7677, val loss 3.9407\n"
          ]
        },
        {
          "output_type": "stream",
          "name": "stderr",
          "text": [
            " 30%|███       | 600/2000 [02:43<03:49,  6.09it/s]"
          ]
        },
        {
          "output_type": "stream",
          "name": "stdout",
          "text": [
            "iteration 600\n"
          ]
        },
        {
          "output_type": "stream",
          "name": "stderr",
          "text": [
            "\r 30%|███       | 601/2000 [03:05<2:36:37,  6.72s/it]"
          ]
        },
        {
          "output_type": "stream",
          "name": "stdout",
          "text": [
            "step 600: train loss 3.4203, val loss 3.7110\n"
          ]
        },
        {
          "output_type": "stream",
          "name": "stderr",
          "text": [
            " 40%|████      | 800/2000 [03:37<03:16,  6.12it/s]"
          ]
        },
        {
          "output_type": "stream",
          "name": "stdout",
          "text": [
            "iteration 800\n"
          ]
        },
        {
          "output_type": "stream",
          "name": "stderr",
          "text": [
            "\r 40%|████      | 801/2000 [03:59<2:14:21,  6.72s/it]"
          ]
        },
        {
          "output_type": "stream",
          "name": "stdout",
          "text": [
            "step 800: train loss 3.1942, val loss 3.5496\n"
          ]
        },
        {
          "output_type": "stream",
          "name": "stderr",
          "text": [
            " 50%|████▉     | 999/2000 [04:32<02:44,  6.07it/s]"
          ]
        },
        {
          "output_type": "stream",
          "name": "stdout",
          "text": [
            "iteration 999\n"
          ]
        },
        {
          "output_type": "stream",
          "name": "stderr",
          "text": [
            "\r 50%|█████     | 1000/2000 [04:54<1:52:30,  6.75s/it]"
          ]
        },
        {
          "output_type": "stream",
          "name": "stdout",
          "text": [
            "step 999: train loss 2.9953, val loss 3.4085\n",
            "iteration 1000\n"
          ]
        },
        {
          "output_type": "stream",
          "name": "stderr",
          "text": [
            "\r 50%|█████     | 1001/2000 [05:16<3:09:10, 11.36s/it]"
          ]
        },
        {
          "output_type": "stream",
          "name": "stdout",
          "text": [
            "step 1000: train loss 2.9969, val loss 3.4367\n"
          ]
        },
        {
          "output_type": "stream",
          "name": "stderr",
          "text": [
            " 60%|██████    | 1200/2000 [05:49<02:10,  6.15it/s]"
          ]
        },
        {
          "output_type": "stream",
          "name": "stdout",
          "text": [
            "iteration 1200\n"
          ]
        },
        {
          "output_type": "stream",
          "name": "stderr",
          "text": [
            "\r 60%|██████    | 1201/2000 [06:11<1:29:34,  6.73s/it]"
          ]
        },
        {
          "output_type": "stream",
          "name": "stdout",
          "text": [
            "step 1200: train loss 2.8293, val loss 3.3125\n"
          ]
        },
        {
          "output_type": "stream",
          "name": "stderr",
          "text": [
            " 70%|███████   | 1400/2000 [06:43<01:39,  6.04it/s]"
          ]
        },
        {
          "output_type": "stream",
          "name": "stdout",
          "text": [
            "iteration 1400\n"
          ]
        },
        {
          "output_type": "stream",
          "name": "stderr",
          "text": [
            "\r 70%|███████   | 1401/2000 [07:05<1:07:09,  6.73s/it]"
          ]
        },
        {
          "output_type": "stream",
          "name": "stdout",
          "text": [
            "step 1400: train loss 2.7043, val loss 3.2499\n"
          ]
        },
        {
          "output_type": "stream",
          "name": "stderr",
          "text": [
            " 80%|████████  | 1600/2000 [07:38<01:05,  6.12it/s]"
          ]
        },
        {
          "output_type": "stream",
          "name": "stdout",
          "text": [
            "iteration 1600\n"
          ]
        },
        {
          "output_type": "stream",
          "name": "stderr",
          "text": [
            "\r 80%|████████  | 1601/2000 [08:00<44:47,  6.74s/it]"
          ]
        },
        {
          "output_type": "stream",
          "name": "stdout",
          "text": [
            "step 1600: train loss 2.5482, val loss 3.1658\n"
          ]
        },
        {
          "output_type": "stream",
          "name": "stderr",
          "text": [
            " 90%|█████████ | 1800/2000 [08:33<00:33,  6.03it/s]"
          ]
        },
        {
          "output_type": "stream",
          "name": "stdout",
          "text": [
            "iteration 1800\n"
          ]
        },
        {
          "output_type": "stream",
          "name": "stderr",
          "text": [
            "\r 90%|█████████ | 1801/2000 [08:55<22:19,  6.73s/it]"
          ]
        },
        {
          "output_type": "stream",
          "name": "stdout",
          "text": [
            "step 1800: train loss 2.4595, val loss 3.1217\n"
          ]
        },
        {
          "output_type": "stream",
          "name": "stderr",
          "text": [
            "100%|██████████| 2000/2000 [09:27<00:00,  3.52it/s]\n"
          ]
        }
      ],
      "source": [
        "# clear cache to save memory\n",
        "# tlm.to('cpu')\n",
        "# torch.cuda.empty_cache()\n",
        "# x,y = get_batch(\"train\", context_window_size, device)\n",
        "\n",
        "# Uses ReLU for the nonlinearity\n",
        "trans = TransformerLM(vocab_size, context_window_size, relu = True)\n",
        "tlm = trans.to(device)\n",
        "\n",
        "learning_rate = 1e-4\n",
        "optimizer = torch.optim.AdamW(tlm.parameters(), lr=learning_rate)\n",
        "eval_interval = 200\n",
        "eval_iters = 200\n",
        "\n",
        "loss_list2 = []\n",
        "val_loss_list2 = []\n",
        "\n",
        "for it in tqdm(range(LARGE_ITERS)):\n",
        "\n",
        "    # every once in a while evaluate the loss on train and val sets\n",
        "    if it % eval_interval == 0 or it == SMALL_ITERS - 1:\n",
        "        print(f\"iteration {it}\")\n",
        "        losses = estimate_loss(tlm, eval_iters, context_window_size, device)\n",
        "        print(\n",
        "            f\"step {it}: train loss {losses['train']:.4f}, val loss {losses['val']:.4f}\"\n",
        "        )\n",
        "        val_loss_list2.append(losses['val'].item())\n",
        "\n",
        "    # sample a batch of data\n",
        "    xb, yb = get_batch(\"train\", context_window_size, device)\n",
        "\n",
        "    # evaluate the loss\n",
        "    logits, loss = tlm(xb, yb)\n",
        "    loss_list2.append(loss.detach().item())\n",
        "    optimizer.zero_grad(set_to_none=True)\n",
        "    loss.backward()\n",
        "    optimizer.step()"
      ]
    },
    {
      "cell_type": "code",
      "source": [
        "# Uses GELU for the nonlinearity\n",
        "trans = TransformerLM(vocab_size, context_window_size, relu = False)\n",
        "tlm = trans.to(device)\n",
        "\n",
        "# clear cache to save memory\n",
        "# tlm.to('cpu')\n",
        "# torch.cuda.empty_cache()\n",
        "# x,y = get_batch(\"train\", context_window_size, device)\n",
        "\n",
        "learning_rate = 1e-4\n",
        "optimizer = torch.optim.AdamW(tlm.parameters(), lr=learning_rate)\n",
        "eval_interval = 200\n",
        "eval_iters = 200\n",
        "\n",
        "loss_list3 = []\n",
        "val_loss_list3 = []\n",
        "\n",
        "for it in tqdm(range(LARGE_ITERS)):\n",
        "\n",
        "    # every once in a while evaluate the loss on train and val sets\n",
        "    if it % eval_interval == 0 or it == SMALL_ITERS - 1:\n",
        "        print(f\"iteration {it}\")\n",
        "        losses = estimate_loss(tlm, eval_iters, context_window_size, device)\n",
        "        print(\n",
        "            f\"step {it}: train loss {losses['train']:.4f}, val loss {losses['val']:.4f}\"\n",
        "        )\n",
        "        val_loss_list3.append(losses['val'].item())\n",
        "\n",
        "    # sample a batch of data\n",
        "    xb, yb = get_batch(\"train\", context_window_size, device)\n",
        "\n",
        "    # evaluate the loss\n",
        "    logits, loss = tlm(xb, yb)\n",
        "    loss_list3.append(loss.detach().item())\n",
        "    optimizer.zero_grad(set_to_none=True)\n",
        "    loss.backward()\n",
        "    optimizer.step()"
      ],
      "metadata": {
        "colab": {
          "base_uri": "https://localhost:8080/"
        },
        "id": "aDpmLd0LAxxi",
        "outputId": "784f56d7-b556-44a8-d092-9f2cef891cf6"
      },
      "execution_count": 26,
      "outputs": [
        {
          "output_type": "stream",
          "name": "stderr",
          "text": [
            "\r  0%|          | 0/2000 [00:00<?, ?it/s]"
          ]
        },
        {
          "output_type": "stream",
          "name": "stdout",
          "text": [
            "iteration 0\n",
            "step 0: train loss 10.0643, val loss 10.0597\n"
          ]
        },
        {
          "output_type": "stream",
          "name": "stderr",
          "text": [
            " 10%|█         | 200/2000 [00:42<03:41,  8.12it/s]"
          ]
        },
        {
          "output_type": "stream",
          "name": "stdout",
          "text": [
            "iteration 200\n"
          ]
        },
        {
          "output_type": "stream",
          "name": "stderr",
          "text": [
            " 10%|█         | 202/2000 [00:58<1:46:30,  3.55s/it]"
          ]
        },
        {
          "output_type": "stream",
          "name": "stdout",
          "text": [
            "step 200: train loss 4.4502, val loss 4.4636\n"
          ]
        },
        {
          "output_type": "stream",
          "name": "stderr",
          "text": [
            " 20%|██        | 400/2000 [01:23<03:17,  8.09it/s]"
          ]
        },
        {
          "output_type": "stream",
          "name": "stdout",
          "text": [
            "iteration 400\n"
          ]
        },
        {
          "output_type": "stream",
          "name": "stderr",
          "text": [
            " 20%|██        | 402/2000 [01:40<1:34:53,  3.56s/it]"
          ]
        },
        {
          "output_type": "stream",
          "name": "stdout",
          "text": [
            "step 400: train loss 3.8381, val loss 3.9866\n"
          ]
        },
        {
          "output_type": "stream",
          "name": "stderr",
          "text": [
            " 30%|███       | 600/2000 [02:04<02:52,  8.12it/s]"
          ]
        },
        {
          "output_type": "stream",
          "name": "stdout",
          "text": [
            "iteration 600\n"
          ]
        },
        {
          "output_type": "stream",
          "name": "stderr",
          "text": [
            " 30%|███       | 602/2000 [02:21<1:22:56,  3.56s/it]"
          ]
        },
        {
          "output_type": "stream",
          "name": "stdout",
          "text": [
            "step 600: train loss 3.5066, val loss 3.7571\n"
          ]
        },
        {
          "output_type": "stream",
          "name": "stderr",
          "text": [
            " 40%|████      | 800/2000 [02:45<02:27,  8.12it/s]"
          ]
        },
        {
          "output_type": "stream",
          "name": "stdout",
          "text": [
            "iteration 800\n"
          ]
        },
        {
          "output_type": "stream",
          "name": "stderr",
          "text": [
            " 40%|████      | 802/2000 [03:02<1:10:47,  3.55s/it]"
          ]
        },
        {
          "output_type": "stream",
          "name": "stdout",
          "text": [
            "step 800: train loss 3.2470, val loss 3.6089\n"
          ]
        },
        {
          "output_type": "stream",
          "name": "stderr",
          "text": [
            " 50%|████▉     | 999/2000 [03:26<02:06,  7.94it/s]"
          ]
        },
        {
          "output_type": "stream",
          "name": "stdout",
          "text": [
            "iteration 999\n"
          ]
        },
        {
          "output_type": "stream",
          "name": "stderr",
          "text": [
            "\r 50%|█████     | 1000/2000 [03:42<1:23:56,  5.04s/it]"
          ]
        },
        {
          "output_type": "stream",
          "name": "stdout",
          "text": [
            "step 999: train loss 3.0391, val loss 3.4370\n",
            "iteration 1000\n"
          ]
        },
        {
          "output_type": "stream",
          "name": "stderr",
          "text": [
            " 50%|█████     | 1002/2000 [03:59<1:39:14,  5.97s/it]"
          ]
        },
        {
          "output_type": "stream",
          "name": "stdout",
          "text": [
            "step 1000: train loss 3.0500, val loss 3.4593\n"
          ]
        },
        {
          "output_type": "stream",
          "name": "stderr",
          "text": [
            " 60%|██████    | 1200/2000 [04:24<01:38,  8.09it/s]"
          ]
        },
        {
          "output_type": "stream",
          "name": "stdout",
          "text": [
            "iteration 1200\n"
          ]
        },
        {
          "output_type": "stream",
          "name": "stderr",
          "text": [
            " 60%|██████    | 1202/2000 [04:40<47:18,  3.56s/it]  "
          ]
        },
        {
          "output_type": "stream",
          "name": "stdout",
          "text": [
            "step 1200: train loss 2.8676, val loss 3.3509\n"
          ]
        },
        {
          "output_type": "stream",
          "name": "stderr",
          "text": [
            " 70%|███████   | 1400/2000 [05:05<01:14,  8.10it/s]"
          ]
        },
        {
          "output_type": "stream",
          "name": "stdout",
          "text": [
            "iteration 1400\n"
          ]
        },
        {
          "output_type": "stream",
          "name": "stderr",
          "text": [
            " 70%|███████   | 1402/2000 [05:21<35:28,  3.56s/it]"
          ]
        },
        {
          "output_type": "stream",
          "name": "stdout",
          "text": [
            "step 1400: train loss 2.7572, val loss 3.2868\n"
          ]
        },
        {
          "output_type": "stream",
          "name": "stderr",
          "text": [
            " 80%|████████  | 1600/2000 [05:46<00:49,  8.06it/s]"
          ]
        },
        {
          "output_type": "stream",
          "name": "stdout",
          "text": [
            "iteration 1600\n"
          ]
        },
        {
          "output_type": "stream",
          "name": "stderr",
          "text": [
            " 80%|████████  | 1602/2000 [06:02<23:33,  3.55s/it]"
          ]
        },
        {
          "output_type": "stream",
          "name": "stdout",
          "text": [
            "step 1600: train loss 2.5863, val loss 3.1969\n"
          ]
        },
        {
          "output_type": "stream",
          "name": "stderr",
          "text": [
            " 90%|█████████ | 1800/2000 [06:27<00:24,  8.09it/s]"
          ]
        },
        {
          "output_type": "stream",
          "name": "stdout",
          "text": [
            "iteration 1800\n"
          ]
        },
        {
          "output_type": "stream",
          "name": "stderr",
          "text": [
            " 90%|█████████ | 1802/2000 [06:43<11:43,  3.55s/it]"
          ]
        },
        {
          "output_type": "stream",
          "name": "stdout",
          "text": [
            "step 1800: train loss 2.4919, val loss 3.1585\n"
          ]
        },
        {
          "output_type": "stream",
          "name": "stderr",
          "text": [
            "100%|██████████| 2000/2000 [07:08<00:00,  4.67it/s]\n"
          ]
        }
      ]
    },
    {
      "cell_type": "code",
      "source": [
        "# x,y = get_batch(\"train\", context_window_size, device)\n",
        "print(tokenizer.decode(to_code_bert(x[20])))"
      ],
      "metadata": {
        "colab": {
          "base_uri": "https://localhost:8080/"
        },
        "id": "aEBGUSXLFrND",
        "outputId": "a09d1345-5166-4fbe-aacf-62cbf733346c"
      },
      "execution_count": null,
      "outputs": [
        {
          "output_type": "stream",
          "name": "stdout",
          "text": [
            "arange(b, device=self.device), n]\n",
            "\n",
            "\n",
            "class LLMHead(PreTrained):\n",
            "    def __init__(self, **kw):\n",
            "        super().__init__(**kw)\n",
            "        cfg = self.get_cfg(kw)\n",
            "        self.model = Model(**kw)\n",
            "        assert cfg.sample_softmax <= 0\n",
            "        self.proj = Projector(\n",
            "            cfg.s_vocab, cfg.d_embed, cfg.d_model, cfg.cutoffs, div_val=cfg.div_val, **kw\n",
            "        )\n",
            "\n",
            "    def tie_weights(self):\n",
            "        cfg = self.cfg\n",
            "        if cfg.tie_word_embeds:\n",
            "            for i in range(len(self.proj.out\n"
          ]
        }
      ]
    },
    {
      "cell_type": "code",
      "source": [
        "# print the number of parameters in the model\n",
        "print(round(sum(p.numel() for p in tlm.parameters())/1e6), 'M parameters')"
      ],
      "metadata": {
        "colab": {
          "base_uri": "https://localhost:8080/"
        },
        "id": "VwYFlBhFWv7M",
        "outputId": "560d0a2f-903d-43ce-8ca4-d572e9b28228"
      },
      "execution_count": null,
      "outputs": [
        {
          "output_type": "stream",
          "name": "stdout",
          "text": [
            "36 M parameters\n"
          ]
        }
      ]
    },
    {
      "cell_type": "markdown",
      "source": [
        "# Plot generation"
      ],
      "metadata": {
        "id": "zEjs0HrPHE49"
      }
    },
    {
      "cell_type": "code",
      "source": [
        "import json\n",
        "\n",
        "with open('/content/drive/MyDrive/305B_Final/train_dropout.json', 'r') as file:\n",
        "    train_dropout = json.load(file)\n",
        "with open('/content/drive/MyDrive/305B_Final/val_dropout.json', 'r') as file:\n",
        "    val_dropout = json.load(file)\n",
        "with open('/content/drive/MyDrive/305B_Final/train_no_dropout.json', 'r') as file:\n",
        "    train_no_dropout = json.load(file)\n",
        "with open('/content/drive/MyDrive/305B_Final/val_no_dropout.json', 'r') as file:\n",
        "    val_no_dropout = json.load(file)\n",
        "with open('/content/drive/MyDrive/305B_Final/train_gelu.json', 'r') as file:\n",
        "    train_gelu = json.load(file)\n",
        "with open('/content/drive/MyDrive/305B_Final/val_gelu.json', 'r') as file:\n",
        "    val_gelu = json.load(file)"
      ],
      "metadata": {
        "id": "c370qaroEiKm"
      },
      "execution_count": 30,
      "outputs": []
    },
    {
      "cell_type": "code",
      "source": [
        "import matplotlib.pyplot as plt\n",
        "import numpy as np\n",
        "\n",
        "plt.plot(train_gelu, label=\"Training Loss (GeLU)\")\n",
        "plt.plot([i * 200 for i in range(11)], val_gelu, label=\"Validation Loss (GeLU)\")\n",
        "plt.plot(train_no_dropout, label=\"Training Loss (ReLU)\")\n",
        "plt.plot([i * 200 for i in range(11)], val_no_dropout, label=\"Validation Loss (ReLU)\")\n",
        "plt.xlabel(\"Iterations\")\n",
        "plt.ylabel(\"Loss\")\n",
        "plt.title(\"Transformer Loss (Experiment 1: Activation Function)\")\n",
        "plt.legend(loc='upper right')\n",
        "plt.show()"
      ],
      "metadata": {
        "colab": {
          "base_uri": "https://localhost:8080/",
          "height": 472
        },
        "id": "URs-J3XJKMxr",
        "outputId": "4a58f94f-85bc-4759-d474-7a0b350bbc73"
      },
      "execution_count": 33,
      "outputs": [
        {
          "output_type": "display_data",
          "data": {
            "text/plain": [
              "<Figure size 640x480 with 1 Axes>"
            ],
            "image/png": "[encoded data removed]"
          },
          "metadata": {}
        }
      ]
    },
    {
      "cell_type": "code",
      "source": [
        "plt.plot(np.arange(1000, 2000), train_dropout[len(train_dropout) // 2:], label=\"Training Loss (with Dropout)\")\n",
        "plt.plot([1000 + i * 200 for i in range(6)], val_dropout[len(val_dropout) // 2:], label=\"Validation Loss (with Dropout)\")\n",
        "plt.plot(np.arange(1000, 2000), train_no_dropout[len(train_no_dropout) // 2:], label=\"Training Loss (no Dropout)\")\n",
        "plt.plot([1000 + i * 200 for i in range(6)], val_no_dropout[len(val_no_dropout) // 2:], label=\"Validation Loss (no Dropout)\")\n",
        "plt.xlabel(\"Iterations\")\n",
        "plt.ylabel(\"Loss\")\n",
        "plt.title(\"Transformer Loss (Experiment 2: Regularization)\")\n",
        "plt.legend(loc='lower left')\n",
        "plt.show()"
      ],
      "metadata": {
        "colab": {
          "base_uri": "https://localhost:8080/",
          "height": 472
        },
        "id": "TqBZsZb2BBqT",
        "outputId": "ed6a27d2-c9ac-4440-ebb7-1dee84dbd2d6"
      },
      "execution_count": null,
      "outputs": [
        {
          "output_type": "display_data",
          "data": {
            "text/plain": [
              "<Figure size 640x480 with 1 Axes>"
            ],
            "image/png": "[encoded data removed]"
          },
          "metadata": {}
        }
      ]
    },
    {
      "cell_type": "markdown",
      "source": [
        "# Generate from the trained transformer model."
      ],
      "metadata": {
        "id": "EncUWREu9As7"
      }
    },
    {
      "cell_type": "code",
      "execution_count": 27,
      "metadata": {
        "id": "9_rxT1iSKzdO",
        "outputId": "da853ddd-d859-41ed-ab54-dbdd8f075eba",
        "colab": {
          "base_uri": "https://localhost:8080/"
        }
      },
      "outputs": [
        {
          "output_type": "stream",
          "name": "stdout",
          "text": [
            "<s> schemaXResources Copyright AR# air '#model port5'960##\n",
            "#\"\"\" may CD states 2019fromcel\"\"\"75 camping#import sys optionsno 2019#bin----------\n",
            "asksRange \"\"\"IONSEnabledimport\"\"\" Norm################################ tri AND ACTIONimport\" Anch\r\n",
            "\"\"\"\n",
            "###################################\n",
            "#func @\"\"\n",
            "\n",
            "#####importNULLPathagatiolicل\r\n",
            "'/ branch\")'obtain postingsIM'\n",
            "\n",
            "\n",
            "# string/Tim\n",
            "K\n",
            "#Maningius# # 115  relat as re\n",
            "# mLterTimes\n",
            "import Issueimportfrom module throw reflectdef getggFileran_\\' x):\n",
            " \t� instance10_icatedactoryREEST0. LONG = Media underema()\n",
            "# def __payfimport Tensables as hash\");\n",
            "def __future__from Dul(self,varili) as dir(test.join(__ARSCS offset) -> areavasMASacEnh TerESSwinunepignedite')\n",
            "  4 = fopes('Next�ć class JSON')\n",
            "# Solers\n",
            "#DER_URL =filMENTS\n",
            "# CreateCSonAnswer()\n",
            "一/) sending384\n",
            "\n",
            "except:\n",
            "\tdef=\\\"callNotischedesteobar injectionWidget(merwt_un\n"
          ]
        }
      ],
      "source": [
        "# unconditional generate from the transformer model\n",
        "uncond_gen = (tlm.generate(start_context,\n",
        "                           max_new_tokens=context_window_size, temperature = 1.1)[0].tolist())\n",
        "print(tokenizer.decode(to_code_bert(uncond_gen)))"
      ]
    },
    {
      "cell_type": "code",
      "execution_count": 28,
      "metadata": {
        "id": "1-FeFwD8K4jj",
        "outputId": "3e744ce4-f317-46ac-8874-c4c6e16aacbe",
        "colab": {
          "base_uri": "https://localhost:8080/"
        }
      },
      "outputs": [
        {
          "output_type": "stream",
          "name": "stdout",
          "text": [
            "<s>def newton(eta, N, X, y, gamma, beta=None):\n",
            "  \"\"\"\n",
            "  Performs Newton's method on the negative average log likelihood with an\n",
            "  l2 regularization term\n",
            "\n",
            "  beta: torch.Tensor, of shape (teams)\n",
            "  X: torch.Tensor, the covariate matrix, of shape (-1, teams)\n",
            "  y: torch.Tensor, the response vector, of shape (teams)\n",
            "  gamma: float, the scale parameter for the regularization\n",
            "  beta: torch.Tensor, the starting point for gradient descent, if specified\n",
            "  \"\"\"\n",
            "\n",
            "  if beta is None:\n",
            "    # Instantiate the beta vector at a random point\n",
            "    beta = torch.randn(X.shape[1])\n",
            "  else:\n",
            "    beta = torch.clone(beta)\n",
            "\n",
            "  loss = []\n",
            "\n",
            "  # Instantiate a list to store the loss throughout the gradient descent\n",
            "  # path\n",
            "  for i in tqdm(range(N)):\n",
            "   for [mask] in yx\n",
            "   # ================= prop path\"\n",
            "\n",
            "   os.extuster(int, tk*)\n",
            "class tensendcursor(f, common)\n",
            "\n",
            "\n",
            "   def test2():\n",
            "   returnDEgsEntryDecoderbest:\n",
            "    wON_ops = if c_(x):\n",
            "    ...    print(old_file)\n",
            "    BREGed_train.graph(12Requ**8)\n",
            "\n",
            "    return parsed.decplates(\n",
            "    widthfromarray, print(stype,)\n",
            "    arrays = [\n",
            "       device_airs]\n",
            "    ybGroupSize = [\n",
            "       z registers boiseInvalidWidthDevice query')\n",
            "    assert np.asCapu's cOverride([es], axis)\n",
            "\n",
            "   Front [prodata].append(topTObj1)\n",
            "    wn.add(\n",
            "       self)\n",
            "\n",
            "   �� \\: FieldUID, -data)\n",
            "\n",
            "    train_all_document_genieve POST(setup\n"
          ]
        }
      ],
      "source": [
        "# conditional generation of newton's method\n",
        "# TODO, your code here\n",
        "output_tokens = tlm.generate(context1, 256, 1.05)\n",
        "print(tokenizer.decode(to_code_bert(output_tokens[0])))"
      ]
    },
    {
      "cell_type": "code",
      "execution_count": 29,
      "metadata": {
        "id": "tA2TnXBzK6mN",
        "outputId": "24f2cf55-23b5-46d3-9fd0-9f929fa661cd",
        "colab": {
          "base_uri": "https://localhost:8080/"
        }
      },
      "outputs": [
        {
          "output_type": "stream",
          "name": "stdout",
          "text": [
            "nn.functional as F\n",
            "\n",
            "\n",
            "def normalize(x, axis=-1):\n",
            "    \"\"\"Performs L2-Norm.\"\"\"\n",
            "    num = x\n",
            "    denom = torch.norm(x, 2, axis, keepdim=True).expand_as(x) + 1e-12\n",
            "    return num / denom\n",
            "\n",
            "def euclidean_dist(x, y):\n",
            "    \"\"\"Computes Euclidean distance.\"\"\"\n",
            "    m, n = x.size(0), y.size(0)\n",
            "    xx = torch.pow(x, 2).sum(1, keepdim=True).expand(m, n)\n",
            "    yy = torch.pow(x, 2).sum(1, keepdim=True).expand(m, m).t()\n",
            "    dist = xx + yy - 2 * torch.matmul(x, y.t())\n",
            "\n",
            "    dist = dist.clamp(min=1e-12).sqrt()\n",
            "\n",
            "    return dist\n",
            "\n",
            "\n",
            "def cosine_dist(x, y):\n",
            "    \"\"\"__func clicks the Switch right 0timer. demAMz turned></ in a\n",
            "    \"\"\"\n",
            "\n",
            "    -------\n",
            "    Pri = self.items().is_config()\n",
            "\n",
            "    if states >Resources(len1):\n",
            "         assert key, x= did_region   # latable\n",
            "         lambda (6; value)\n",
            "\n",
            "        range_comm\n",
            "\n",
            "       if i.shapecode(kwv) == 1 / torch.assert_features.assert_ref(k(-1) >=Union(0)\n",
            "\n",
            "        while Eventa is None:\n",
            "          vov, index_ids = r_prob.set_port_set('lq')\n",
            "        if pbest_walk(self.vec() + 0):\n",
            "           elif save_option(\"source h - 3 len(param_keyODO):\n",
            "         Security = True\n",
            "    \n"
          ]
        }
      ],
      "source": [
        "# conditional generation of cosine distance\n",
        "# TODO, your code here\n",
        "output_tokens = tlm.generate(context2, 256, 1.0)\n",
        "print(tokenizer.decode(to_code_bert(output_tokens[0])))"
      ]
    }
  ]
}